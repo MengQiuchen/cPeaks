{
 "cells": [
  {
   "cell_type": "code",
   "execution_count": 1,
   "id": "18e40d81-22f5-4cba-b726-45a581ee7ff8",
   "metadata": {},
   "outputs": [
    {
     "name": "stderr",
     "output_type": "stream",
     "text": [
      "Warning message:\n",
      "“no function found corresponding to methods exports from ‘BSgenome’ for: ‘releaseName’”\n"
     ]
    }
   ],
   "source": [
    "source('../../../../source/basic.r')\n",
    "\n",
    "source('../../../validataion.r')"
   ]
  },
  {
   "cell_type": "code",
   "execution_count": 3,
   "id": "08f34267-3944-4d56-aa53-98a86dfaed7e",
   "metadata": {},
   "outputs": [],
   "source": [
    "source('methods.r')"
   ]
  },
  {
   "cell_type": "code",
   "execution_count": 4,
   "id": "f1d2ce4d-ec56-47ad-aac1-58eeac60574d",
   "metadata": {},
   "outputs": [],
   "source": [
    "metadata <- read.table('../../raw_data/input/metadata.tsv',\n",
    "                         header = TRUE,\n",
    "                         stringsAsFactors=FALSE,quote=\"\",row.names=1)"
   ]
  },
  {
   "cell_type": "code",
   "execution_count": 6,
   "id": "e47386e0-762f-4725-81db-99c3d9a0c086",
   "metadata": {},
   "outputs": [],
   "source": [
    "datafr <- qread('../../datafr/cpeaks.datafr.ForSeurat.qs')"
   ]
  },
  {
   "cell_type": "code",
   "execution_count": 8,
   "id": "227a1ed0-ff7c-4275-91a0-497bc29a6abf",
   "metadata": {},
   "outputs": [],
   "source": [
    "psize()"
   ]
  },
  {
   "cell_type": "markdown",
   "id": "195904a7-a0a1-48a2-b65f-51c8de1c40d7",
   "metadata": {},
   "source": [
    "# Embedding`"
   ]
  },
  {
   "cell_type": "code",
   "execution_count": null,
   "id": "20126100-8c62-4522-a172-d46c0da25501",
   "metadata": {
    "tags": []
   },
   "outputs": [],
   "source": [
    "suppressMessages({\n",
    "    \n",
    "    select.features <- qread('../../cpeaks_filteredFeature/top.regions.qs')\n",
    "    res.top <- fun_all(datafr[which((rownames(tmp)%in%select.features)),])\n",
    "    \n",
    "    select.features <- qread('../../cpeaks_filteredFeature/top2.regions.qs')\n",
    "    res.top2 <- fun_all(datafr[which((rownames(tmp)%in%select.features)),])\n",
    "\n",
    "    select.features <- qread('../../cpeaks_filteredFeature/hk.long.excl.qs')\n",
    "    res.hk.long.excl <- fun_all(datafr[which((rownames(tmp)%in%select.features)),])\n",
    "\n",
    "})"
   ]
  },
  {
   "cell_type": "markdown",
   "id": "fb1b5f23-733a-414b-abbd-e44bb6ab96a6",
   "metadata": {},
   "source": [
    "# plot"
   ]
  },
  {
   "cell_type": "code",
   "execution_count": 14,
   "id": "1e04b2e8-511f-4c3d-a869-2754288bd7c5",
   "metadata": {},
   "outputs": [],
   "source": [
    "library(ggrepel)"
   ]
  },
  {
   "cell_type": "code",
   "execution_count": 13,
   "id": "3a15b987-4120-47e4-b677-aabad38c562d",
   "metadata": {},
   "outputs": [],
   "source": [
    "plot.list <- c()"
   ]
  },
  {
   "cell_type": "code",
   "execution_count": null,
   "id": "5c483905-8929-48d0-9024-5a4eea555c9b",
   "metadata": {
    "tags": []
   },
   "outputs": [],
   "source": [
    "plot.list[['top']]=fun_densityClust(res = res.top,labels=metadata[,'label'],title='top',\n",
    "                   rho_=5,delta_=5)\n",
    "plot.list[['top2']]=fun_densityClust(res = res.top2,labels=metadata[,'label'],title='hk',\n",
    "                   rho_=5,delta_=5)\n",
    "plot.list[['hk.long.excl']]=fun_densityClust(res = res.hk.long.excl,labels=metadata[,'label'],title='hk.long.excl',\n",
    "                   rho_=5,delta_=5)"
   ]
  },
  {
   "cell_type": "code",
   "execution_count": null,
   "id": "a6cf39b6-9c3d-46b3-9442-f39884e0726e",
   "metadata": {
    "tags": []
   },
   "outputs": [],
   "source": [
    "pdf('./plots/cpeaks.pdf',width = 12,height = 2)\n",
    "plot.list%>%lapply(function(x){grid.arrange(x$plot$plot.clusterNum,\n",
    "                            x$plot$plot.tsne.cluster,\n",
    "                            x$plot$plot.umap.cluster,\n",
    "                           x$plot$plot.tsne.label+theme(legend.position = 'none'),\n",
    "                           x$plot$plot.umap.label+theme(legend.position = 'none'),ncol=5)})\n",
    "dev.off()"
   ]
  },
  {
   "cell_type": "markdown",
   "id": "f22ca957-0b1d-4f26-b769-bd1bbea0721e",
   "metadata": {},
   "source": [
    "# save results to RDS"
   ]
  },
  {
   "cell_type": "code",
   "execution_count": 47,
   "id": "d13ad264-5963-45e0-9a19-ddc3c7ba37fd",
   "metadata": {},
   "outputs": [],
   "source": [
    "rds.list <- list(\n",
    "    res.top=res.top,\n",
    "    res.top2=res.top2,\n",
    "    res.hk.long.excl=res.hk.long.excl"
   ]
  },
  {
   "cell_type": "code",
   "execution_count": null,
   "id": "ed184f50-b40f-4f92-a026-7f5bac794c9b",
   "metadata": {},
   "outputs": [],
   "source": [
    "rds.list%>%names%>%lapply(function(x){\n",
    "    \n",
    "    saveRDS(rds.list[[x]]$df_out,file = paste0('./rds/FM_cpeaks-',gsub('\\\\.','-',x),'_data1.rds'))\n",
    "    \n",
    "})"
   ]
  },
  {
   "cell_type": "code",
   "execution_count": null,
   "id": "8889ac53-a704-474d-9e65-1dc5cb42133f",
   "metadata": {},
   "outputs": [],
   "source": []
  },
  {
   "cell_type": "code",
   "execution_count": null,
   "id": "a06d0236-bef5-4ce2-b682-29ad4c90bf4d",
   "metadata": {},
   "outputs": [],
   "source": []
  },
  {
   "cell_type": "code",
   "execution_count": null,
   "id": "6f916565-1d58-4e1e-9bd7-234377dcf61c",
   "metadata": {},
   "outputs": [],
   "source": []
  }
 ],
 "metadata": {
  "kernelspec": {
   "display_name": "R",
   "language": "R",
   "name": "ir"
  },
  "language_info": {
   "codemirror_mode": "r",
   "file_extension": ".r",
   "mimetype": "text/x-r-source",
   "name": "R",
   "pygments_lexer": "r",
   "version": "4.1.3"
  }
 },
 "nbformat": 4,
 "nbformat_minor": 5
}
