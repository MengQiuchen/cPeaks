{
 "cells": [
  {
   "cell_type": "code",
   "execution_count": null,
   "id": "18e40d81-22f5-4cba-b726-45a581ee7ff8",
   "metadata": {},
   "outputs": [],
   "source": [
    "source('../../../../source/basic.r')\n",
    "\n",
    "source('../../../validataion.r')"
   ]
  },
  {
   "cell_type": "code",
   "execution_count": null,
   "id": "a196f7d9-9634-49f2-b5bd-0e21f1ad24c1",
   "metadata": {},
   "outputs": [],
   "source": [
    "source('methods.r')"
   ]
  },
  {
   "cell_type": "code",
   "execution_count": null,
   "id": "08a1f807-1571-4eaf-8910-59e0fa7feb12",
   "metadata": {},
   "outputs": [],
   "source": [
    "metadata <- read.table('../../raw_data/input/metadata.tsv',\n",
    "                         header = TRUE,\n",
    "                         stringsAsFactors=FALSE,quote=\"\",row.names=1)"
   ]
  },
  {
   "cell_type": "markdown",
   "id": "4731fbe1-c7e4-4411-95e5-bec7b6f6640d",
   "metadata": {},
   "source": [
    "# Embedding"
   ]
  },
  {
   "cell_type": "markdown",
   "id": "31689171-5884-421b-aa35-8caa9657e451",
   "metadata": {
    "tags": []
   },
   "source": [
    "## combinedPeaks"
   ]
  },
  {
   "cell_type": "code",
   "execution_count": null,
   "id": "e3d2b49b-3cc5-4395-9a96-fd7c111268d6",
   "metadata": {},
   "outputs": [],
   "source": [
    "datafr<- qread('../../datafr/combinedPeaks.datafr.qs')"
   ]
  },
  {
   "cell_type": "code",
   "execution_count": null,
   "id": "5eb1497d-17d1-4b25-8690-e6ad1312b9c5",
   "metadata": {
    "tags": []
   },
   "outputs": [],
   "source": [
    "suppressMessages({\n",
    "    res.all <- fun_all(datafr)\n",
    "})\n"
   ]
  },
  {
   "cell_type": "code",
   "execution_count": null,
   "id": "7f79ad97-5496-4114-8e2c-1799d522cedc",
   "metadata": {},
   "outputs": [],
   "source": [
    "select.features <- qread('../../cpeaks_filteredFeature/combinedPeaks.top.regions.qs')"
   ]
  },
  {
   "cell_type": "code",
   "execution_count": null,
   "id": "fd11169a-6ab7-4f13-80a4-96ffa7396244",
   "metadata": {
    "tags": []
   },
   "outputs": [],
   "source": [
    "suppressMessages({\n",
    "    res.top <- fun_all(datafr[select.features,])\n",
    "})\n"
   ]
  },
  {
   "cell_type": "code",
   "execution_count": null,
   "id": "c9a20c63-966d-4106-b70a-a7dd189c8a04",
   "metadata": {},
   "outputs": [],
   "source": [
    "select.features <- qread('../../cpeaks_filteredFeature/combinedPeaks.top2.regions.qs')"
   ]
  },
  {
   "cell_type": "code",
   "execution_count": null,
   "id": "af435105-df50-47c1-b939-54ba4283e6fb",
   "metadata": {
    "tags": []
   },
   "outputs": [],
   "source": [
    "suppressMessages({\n",
    "    res.top2 <- fun_all(datafr[select.features,])\n",
    "})\n"
   ]
  },
  {
   "cell_type": "code",
   "execution_count": null,
   "id": "ec90d3c0-010c-4ff7-8ee0-1ec89598c687",
   "metadata": {},
   "outputs": [],
   "source": [
    "psize(12,2.2)"
   ]
  },
  {
   "cell_type": "code",
   "execution_count": null,
   "id": "3bc7a266-eea6-4128-9fe9-816a7538fffd",
   "metadata": {},
   "outputs": [],
   "source": [
    "plot.list <- c()"
   ]
  },
  {
   "cell_type": "code",
   "execution_count": null,
   "id": "e2871730-78a5-44f8-92c4-ef8de506324e",
   "metadata": {
    "tags": []
   },
   "outputs": [],
   "source": [
    "plot.list[['all']]=fun_densityClust(res = res.all,labels=metadata[,'label'],title='all')\n",
    "plot.list[['top']]=fun_densityClust(res = res.top,labels=metadata[,'label'],title='top',\n",
    "                   rho_=5,delta_=5)\n",
    "plot.list[['top2']]=fun_densityClust(res = res.top2,labels=metadata[,'label'],title='top',\n",
    "                   rho_=5,delta_=5)"
   ]
  },
  {
   "cell_type": "code",
   "execution_count": null,
   "id": "091c31da-ee48-4e89-a57e-3bb937be6b8a",
   "metadata": {
    "tags": []
   },
   "outputs": [],
   "source": [
    "pdf('./plots/combinedPeaks.pdf',width = 12,height = 2)\n",
    "plot.list%>%lapply(function(x){grid.arrange(x$plot$plot.clusterNum,\n",
    "                            x$plot$plot.tsne.cluster,\n",
    "                            x$plot$plot.umap.cluster,\n",
    "                           x$plot$plot.tsne.label+theme(legend.position = 'none'),\n",
    "                           x$plot$plot.umap.label+theme(legend.position = 'none'),ncol=5)})\n",
    "dev.off()"
   ]
  },
  {
   "cell_type": "code",
   "execution_count": null,
   "id": "4477d467-4a13-449d-ad58-e055a08b7621",
   "metadata": {},
   "outputs": [],
   "source": [
    "rds.list <- list(res.all=res.all,\n",
    "    res.top=res.top,      \n",
    "    res.top2=res.top2\n",
    "                )"
   ]
  },
  {
   "cell_type": "code",
   "execution_count": null,
   "id": "0b8e83cb-a71d-4ec9-88eb-35c63601df46",
   "metadata": {},
   "outputs": [],
   "source": [
    "rds.list%>%names%>%lapply(function(x){\n",
    "    \n",
    "    saveRDS(rds.list[[x]]$df_out,file = paste0('.//rds/FM_combinedPeaks-',gsub('\\\\.','-',x),'_data1.rds'))\n",
    "    \n",
    "})"
   ]
  },
  {
   "cell_type": "code",
   "execution_count": null,
   "id": "8889ac53-a704-474d-9e65-1dc5cb42133f",
   "metadata": {},
   "outputs": [],
   "source": []
  },
  {
   "cell_type": "code",
   "execution_count": null,
   "id": "a06d0236-bef5-4ce2-b682-29ad4c90bf4d",
   "metadata": {},
   "outputs": [],
   "source": []
  },
  {
   "cell_type": "markdown",
   "id": "e9ad64d3-9178-4c50-856e-4c0f3c85242f",
   "metadata": {
    "tags": []
   },
   "source": [
    "# bulkPeaks"
   ]
  },
  {
   "cell_type": "code",
   "execution_count": null,
   "id": "efe300e4-1b9f-407e-9ae9-af5d9a7f6170",
   "metadata": {},
   "outputs": [],
   "source": [
    "datafr<- qread('../../datafr/bulkPeaks.datafr.qs')"
   ]
  },
  {
   "cell_type": "code",
   "execution_count": null,
   "id": "cee7f3c9-dc99-4eec-9c2b-52b8b7dacd91",
   "metadata": {
    "tags": []
   },
   "outputs": [],
   "source": [
    "suppressMessages({\n",
    "    res.all <- fun_all(datafr)\n",
    "})\n"
   ]
  },
  {
   "cell_type": "code",
   "execution_count": null,
   "id": "6c5b2ccf-e20a-4232-947e-a7c050cad751",
   "metadata": {},
   "outputs": [],
   "source": [
    "select.features <- qread('../../cpeaks_filteredFeature/bulk.top.regions.qs')"
   ]
  },
  {
   "cell_type": "code",
   "execution_count": null,
   "id": "196e2b05-aa59-4e98-bdf4-14d2ac140ff4",
   "metadata": {
    "tags": []
   },
   "outputs": [],
   "source": [
    "suppressMessages({\n",
    "    res.top <- fun_all(datafr[select.features,])\n",
    "})\n"
   ]
  },
  {
   "cell_type": "code",
   "execution_count": null,
   "id": "d8f02be4-3a37-4021-b563-88434895cebb",
   "metadata": {},
   "outputs": [],
   "source": [
    "select.features <- qread('../../cpeaks_filteredFeature/bulk.top2.regions.qs')"
   ]
  },
  {
   "cell_type": "code",
   "execution_count": null,
   "id": "9b3b9cf5-6b21-4940-98f5-6e162a4bd15b",
   "metadata": {
    "tags": []
   },
   "outputs": [],
   "source": [
    "suppressMessages({\n",
    "    res.top2 <- fun_all(datafr[select.features,])\n",
    "})\n"
   ]
  },
  {
   "cell_type": "code",
   "execution_count": null,
   "id": "d1b21ea8-d4c4-4dab-9cba-fca25899fa8d",
   "metadata": {},
   "outputs": [],
   "source": [
    "psize(12,2.2)"
   ]
  },
  {
   "cell_type": "code",
   "execution_count": null,
   "id": "2f628b28-4c59-4f15-935b-65e87420a343",
   "metadata": {},
   "outputs": [],
   "source": [
    "plot.list <- c()"
   ]
  },
  {
   "cell_type": "code",
   "execution_count": null,
   "id": "38b370cb-fdc3-416a-9d26-de1fca13d476",
   "metadata": {
    "tags": []
   },
   "outputs": [],
   "source": [
    "plot.list[['all']]=fun_densityClust(res = res.all,labels=metadata[,'label'],title='all')\n",
    "plot.list[['top']]=fun_densityClust(res = res.top,labels=metadata[,'label'],title='top',\n",
    "                   rho_=5,delta_=5)\n",
    "plot.list[['top2']]=fun_densityClust(res = res.top2,labels=metadata[,'label'],title='top',\n",
    "                   rho_=5,delta_=5)"
   ]
  },
  {
   "cell_type": "code",
   "execution_count": null,
   "id": "2a97fd67-1645-4eb8-8036-a6960fa3efae",
   "metadata": {
    "tags": []
   },
   "outputs": [],
   "source": [
    "pdf('./plots/bulkPeaks.pdf',width = 12,height = 2)\n",
    "plot.list%>%lapply(function(x){grid.arrange(x$plot$plot.clusterNum,\n",
    "                            x$plot$plot.tsne.cluster,\n",
    "                            x$plot$plot.umap.cluster,\n",
    "                           x$plot$plot.tsne.label+theme(legend.position = 'none'),\n",
    "                           x$plot$plot.umap.label+theme(legend.position = 'none'),ncol=5)})\n",
    "dev.off()"
   ]
  },
  {
   "cell_type": "code",
   "execution_count": null,
   "id": "59cb9c0a-7133-47eb-9a14-6cfd2df99908",
   "metadata": {},
   "outputs": [],
   "source": [
    "rds.list <- list(res.all=res.all,\n",
    "    res.top=res.top,\n",
    "                res.top2=res.top2)"
   ]
  },
  {
   "cell_type": "code",
   "execution_count": null,
   "id": "12c881ef-059b-4532-8b53-36c707d803e7",
   "metadata": {},
   "outputs": [],
   "source": [
    "rds.list%>%names%>%lapply(function(x){\n",
    "    \n",
    "    saveRDS(rds.list[[x]]$df_out,file = paste0('.//rds/FM_bulkPeaks-',gsub('\\\\.','-',x),'_data1.rds'))\n",
    "    \n",
    "})"
   ]
  },
  {
   "cell_type": "code",
   "execution_count": null,
   "id": "cf7ec7a2-fa4f-4ccf-865d-bd940a4b94f9",
   "metadata": {},
   "outputs": [],
   "source": []
  },
  {
   "cell_type": "markdown",
   "id": "1075ec83-417d-4482-908f-dd852b6cc4cd",
   "metadata": {
    "tags": []
   },
   "source": [
    "# bins"
   ]
  },
  {
   "cell_type": "code",
   "execution_count": null,
   "id": "0d2f9ebd-0cf6-4e7c-bf14-1f1198a64a95",
   "metadata": {},
   "outputs": [],
   "source": [
    "datafr<- qread('../../datafr/bins2k.datafr.qs')"
   ]
  },
  {
   "cell_type": "code",
   "execution_count": null,
   "id": "351c707a-ae87-471a-bdec-c5b82f37dd07",
   "metadata": {},
   "outputs": [],
   "source": [
    "# remove non-structural chromosomes\n",
    "datafr <- datafr%>%.[grep('^chr[0-9]_[0-9]|^chrX_[0-9]|^chrY_[0-9]',rownames(.)),]"
   ]
  },
  {
   "cell_type": "code",
   "execution_count": null,
   "id": "20a4d5bf-b59a-427d-a685-c06912c181d8",
   "metadata": {
    "tags": []
   },
   "outputs": [],
   "source": [
    "suppressMessages({\n",
    "    res.all <- fun_all(datafr)\n",
    "})"
   ]
  },
  {
   "cell_type": "code",
   "execution_count": null,
   "id": "cce4b27e-cc18-4c7d-8aa1-4dd5c6cff74f",
   "metadata": {},
   "outputs": [],
   "source": [
    "select.features <- qread('../../cpeaks_filteredFeature/bins.top.regions.qs')"
   ]
  },
  {
   "cell_type": "code",
   "execution_count": null,
   "id": "85a17cfc-577e-4b78-aced-abfb015a251c",
   "metadata": {
    "tags": []
   },
   "outputs": [],
   "source": [
    "suppressMessages({\n",
    "    res.top <- fun_all(datafr[intersect(rownames(datafr),select.features),])\n",
    "})\n"
   ]
  },
  {
   "cell_type": "code",
   "execution_count": null,
   "id": "ae729094-4a95-427b-b1a2-d22024df085b",
   "metadata": {},
   "outputs": [],
   "source": [
    "select.features <- qread('../../cpeaks_filteredFeature/bins2.top.regions.qs')"
   ]
  },
  {
   "cell_type": "code",
   "execution_count": null,
   "id": "b098c634-9f19-461f-99c4-6529189cce20",
   "metadata": {
    "tags": []
   },
   "outputs": [],
   "source": [
    "suppressMessages({\n",
    "    res.top2 <- fun_all(datafr[intersect(rownames(datafr),select.features),])\n",
    "})\n"
   ]
  },
  {
   "cell_type": "code",
   "execution_count": null,
   "id": "840ee930-9a35-4f28-bf98-71f4d3bf50a6",
   "metadata": {},
   "outputs": [],
   "source": [
    "psize(12,2.2)"
   ]
  },
  {
   "cell_type": "code",
   "execution_count": null,
   "id": "6aaf9584-3f3b-445a-bbb7-81025e73382c",
   "metadata": {},
   "outputs": [],
   "source": [
    "plot.list <- c()"
   ]
  },
  {
   "cell_type": "code",
   "execution_count": null,
   "id": "f8877d77-3982-4273-8d45-7c1d589876fb",
   "metadata": {
    "tags": []
   },
   "outputs": [],
   "source": [
    "plot.list[['all']]=fun_densityClust(res = res.all,labels=metadata[,'label'],title='all')\n",
    "plot.list[['top']]=fun_densityClust(res = res.top,labels=metadata[,'label'],title='top',\n",
    "                   rho_=5,delta_=5)\n",
    "plot.list[['top2']]=fun_densityClust(res = res.top2,labels=metadata[,'label'],title='top',\n",
    "                   rho_=5,delta_=5)"
   ]
  },
  {
   "cell_type": "code",
   "execution_count": null,
   "id": "e809aeb1-95a6-4439-992b-30862b5853fd",
   "metadata": {
    "tags": []
   },
   "outputs": [],
   "source": [
    "pdf('./plots/bins.pdf',width = 12,height = 2)\n",
    "plot.list%>%lapply(function(x){grid.arrange(x$plot$plot.clusterNum,\n",
    "                            x$plot$plot.tsne.cluster,\n",
    "                            x$plot$plot.umap.cluster,\n",
    "                           x$plot$plot.tsne.label+theme(legend.position = 'none'),\n",
    "                           x$plot$plot.umap.label+theme(legend.position = 'none'),ncol=5)})\n",
    "dev.off()"
   ]
  },
  {
   "cell_type": "code",
   "execution_count": null,
   "id": "6561e224-cc0d-4d05-93e5-246a71823a6e",
   "metadata": {},
   "outputs": [],
   "source": [
    "rds.list <- list(res.all=res.all,\n",
    "    res.top=res.top,\n",
    "                res.top2=res.top2)"
   ]
  },
  {
   "cell_type": "code",
   "execution_count": null,
   "id": "90627cd2-538f-4964-8f25-1328d626023b",
   "metadata": {},
   "outputs": [],
   "source": [
    "rds.list%>%names%>%lapply(function(x){\n",
    "    \n",
    "    saveRDS(rds.list[[x]]$df_out,file = paste0('.//rds/FM_bins-',gsub('\\\\.','-',x),'_data1.rds'))\n",
    "    \n",
    "})"
   ]
  },
  {
   "cell_type": "code",
   "execution_count": null,
   "id": "6f916565-1d58-4e1e-9bd7-234377dcf61c",
   "metadata": {},
   "outputs": [],
   "source": []
  },
  {
   "cell_type": "code",
   "execution_count": null,
   "id": "19575aa2-f640-4fa8-87eb-4fed68fb243e",
   "metadata": {},
   "outputs": [],
   "source": []
  },
  {
   "cell_type": "code",
   "execution_count": null,
   "id": "d7f65b39-d74b-47f1-911c-56cec62e24e8",
   "metadata": {},
   "outputs": [],
   "source": []
  },
  {
   "cell_type": "code",
   "execution_count": null,
   "id": "25aeb442-4795-4358-acc3-3c1758448722",
   "metadata": {},
   "outputs": [],
   "source": []
  },
  {
   "cell_type": "code",
   "execution_count": null,
   "id": "429d967f-404a-424c-b5a8-8da37125146e",
   "metadata": {},
   "outputs": [],
   "source": []
  },
  {
   "cell_type": "code",
   "execution_count": null,
   "id": "c13a7bab-51b2-44be-aabf-dee782abf556",
   "metadata": {},
   "outputs": [],
   "source": []
  },
  {
   "cell_type": "code",
   "execution_count": null,
   "id": "8c786d05-bcf8-43bd-ae31-a4f7f7916575",
   "metadata": {},
   "outputs": [],
   "source": []
  }
 ],
 "metadata": {
  "kernelspec": {
   "display_name": "R",
   "language": "R",
   "name": "ir"
  },
  "language_info": {
   "codemirror_mode": "r",
   "file_extension": ".r",
   "mimetype": "text/x-r-source",
   "name": "R",
   "pygments_lexer": "r",
   "version": "4.1.3"
  }
 },
 "nbformat": 4,
 "nbformat_minor": 5
}
