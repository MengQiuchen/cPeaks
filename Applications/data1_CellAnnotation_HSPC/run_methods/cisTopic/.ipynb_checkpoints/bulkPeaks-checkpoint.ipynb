{
 "cells": [
  {
   "cell_type": "markdown",
   "metadata": {},
   "source": [
    "# Functions"
   ]
  },
  {
   "cell_type": "code",
   "execution_count": null,
   "metadata": {
    "scrolled": true
   },
   "outputs": [],
   "source": [
    "library(cisTopic)\n",
    "\n",
    "library(Rtsne)\n",
    "\n",
    "library(umap)\n",
    "\n",
    "run_umap <- function(fm_mat){\n",
    "    umap_object = umap(t(fm_mat),random_state = 2019)\n",
    "    df_umap = umap_object$layout\n",
    "    return(df_umap)\n",
    "}\n",
    "\n",
    "\n",
    "fun_all <- function(regions){\n",
    "    suppressMessages({\n",
    "        cisTopicObject <- createcisTopicObjectFromBAM(bamFiles, regions, project.name='buenrostro2018',paired = TRUE)\n",
    "        cisTopicObject <- renameCells(cisTopicObject, cellnames)\n",
    "        cisTopicObject <- runCGSModels(cisTopicObject, topic=c(10, 20, 25, 30, 35, 40), seed=987, nCores=10, burnin = 120, iterations = 150, addModels=FALSE)\n",
    "        cisTopicObject <- selectModel(cisTopicObject)\n",
    "    })\n",
    "\n",
    "\n",
    "    cellassign <- modelMatSelection(cisTopicObject, 'cell', 'Probability')\n",
    "\n",
    "    df_out <- cellassign\n",
    "\n",
    "    tsne <- Rtsne(t(df_out), perplexity = 50, \n",
    "                           check_duplicates = FALSE, pca=FALSE, theta=0.01, max_iter=1000)$Y\n",
    "\n",
    "\n",
    "    umap <- run_umap(df_out[!is.na(rowSums(df_out)),])\n",
    "\n",
    "    res <- list(df_out=df_out, umap=umap, tsne=tsne)\n",
    "}\n"
   ]
  },
  {
   "cell_type": "markdown",
   "metadata": {},
   "source": [
    "### Obtain Feature Matrix"
   ]
  },
  {
   "cell_type": "code",
   "execution_count": null,
   "metadata": {},
   "outputs": [],
   "source": [
    "start_time = Sys.time()"
   ]
  },
  {
   "cell_type": "code",
   "execution_count": null,
   "metadata": {},
   "outputs": [],
   "source": [
    "set.seed(2019)"
   ]
  },
  {
   "cell_type": "code",
   "execution_count": null,
   "metadata": {},
   "outputs": [],
   "source": [
    "metadata <- read.table('../../raw_data/input/metadata.tsv',\n",
    "                         header = TRUE,\n",
    "                         stringsAsFactors=FALSE,quote=\"\",row.names=1)"
   ]
  },
  {
   "cell_type": "code",
   "execution_count": null,
   "metadata": {},
   "outputs": [],
   "source": [
    "pathToBams <- '../../raw_data/bam/files/sc-bams_nodup/'"
   ]
  },
  {
   "cell_type": "code",
   "execution_count": null,
   "metadata": {},
   "outputs": [],
   "source": [
    "bamFiles <- paste(pathToBams, list.files(pathToBams), sep='')"
   ]
  },
  {
   "cell_type": "code",
   "execution_count": null,
   "metadata": {},
   "outputs": [],
   "source": [
    "cellnames <- sapply(strsplit(basename(bamFiles),'.',fixed = TRUE), \"[[\", 1)\n",
    "head(cellnames)"
   ]
  },
  {
   "cell_type": "code",
   "execution_count": null,
   "metadata": {},
   "outputs": [],
   "source": [
    "ix = match(rownames(metadata),cellnames)\n",
    "bamFiles = bamFiles[ix]\n",
    "cellnames = cellnames[ix]"
   ]
  },
  {
   "cell_type": "code",
   "execution_count": null,
   "metadata": {},
   "outputs": [],
   "source": [
    "regions <- '../../cpeaks_filteredFeature/combinedPeaks.top.regions.bed'"
   ]
  },
  {
   "cell_type": "code",
   "execution_count": null,
   "metadata": {
    "scrolled": true
   },
   "outputs": [],
   "source": [
    "suppressMessages({\n",
    "    cisTopicObject <- createcisTopicObjectFromBAM(bamFiles, regions, project.name='buenrostro2018',paired = TRUE)\n",
    "    cisTopicObject <- renameCells(cisTopicObject, cellnames)\n",
    "    \n",
    "    cisTopicObject <- runCGSModels(cisTopicObject, topic=c(10, 20, 25, 30, 35, 40), seed=987, nCores=10, burnin = 120, iterations = 150, addModels=FALSE)\n",
    "\n",
    "    cisTopicObject <- selectModel(cisTopicObject)\n",
    "    \n",
    "    df_out <- cellassign\n",
    "\n",
    "    tsne <- Rtsne(t(df_out), perplexity = 50, \n",
    "                           check_duplicates = FALSE, pca=FALSE, theta=0.01, max_iter=1000)\n",
    "\n",
    "    umap <- run_umap(df_out[!is.na(rowSums(res.top$df_out)),])\n",
    "\n",
    "    res.all <- list(df_out=df_out, umap=umap, tsne=tsne)\n",
    "})\n"
   ]
  },
  {
   "cell_type": "code",
   "execution_count": null,
   "metadata": {
    "scrolled": true
   },
   "outputs": [],
   "source": [
    "df_out <- cellassign\n",
    "\n",
    "tsne <- Rtsne(t(df_out), perplexity = 50, \n",
    "                       check_duplicates = FALSE, pca=FALSE, theta=0.01, max_iter=1000)$Y\n",
    "\n",
    "\n",
    "umap <- run_umap(df_out[!is.na(rowSums(df_out)),])\n",
    "\n",
    "res.top <- list(df_out=df_out, umap=umap, tsne=tsne)"
   ]
  },
  {
   "cell_type": "code",
   "execution_count": null,
   "metadata": {},
   "outputs": [],
   "source": []
  },
  {
   "cell_type": "code",
   "execution_count": null,
   "metadata": {},
   "outputs": [],
   "source": [
    "regions <- '../../datafr/regions/bulk.top2.regions.bed'\n",
    "\n",
    "res.top2 <- fun_all(regions)"
   ]
  },
  {
   "cell_type": "code",
   "execution_count": null,
   "metadata": {},
   "outputs": [],
   "source": []
  },
  {
   "cell_type": "code",
   "execution_count": null,
   "metadata": {},
   "outputs": [],
   "source": [
    "regions <- '../../../../../test_data/Buenrostro_2018/input/GSE96769_PeakFile_20160207.bed'"
   ]
  },
  {
   "cell_type": "code",
   "execution_count": null,
   "metadata": {},
   "outputs": [],
   "source": [
    "res.all <- fun_all(regions)"
   ]
  },
  {
   "cell_type": "code",
   "execution_count": null,
   "metadata": {},
   "outputs": [],
   "source": [
    "library('tidyverse')"
   ]
  },
  {
   "cell_type": "code",
   "execution_count": null,
   "metadata": {},
   "outputs": [],
   "source": [
    "rds.list <- list(res.all=res.all,\n",
    "    res.top=res.top,\n",
    "                 res.top2=res.top2\n",
    "                 \n",
    "    # res.hk=res.hk,\n",
    "    # res.hk.excl=res.hk.excl,\n",
    "    # res.b1=res.b1,\n",
    "    # res.b2=res.b2\n",
    "    # res.hk.long.excl=res.hk.long.excl,\n",
    "    # res.hk.long.lowrate.excl\n",
    "                )\n",
    "\n",
    "rds.list%>%names%>%lapply(function(x){\n",
    "    \n",
    "    saveRDS(rds.list[[x]]$df_out,file = paste0('./rds/FM_bulkPeaks-',gsub('\\\\.','-',x),'_data1.rds'))\n",
    "    \n",
    "})"
   ]
  },
  {
   "cell_type": "code",
   "execution_count": null,
   "metadata": {},
   "outputs": [],
   "source": []
  }
 ],
 "metadata": {
  "kernelspec": {
   "display_name": "R",
   "language": "R",
   "name": "ir"
  },
  "language_info": {
   "codemirror_mode": "r",
   "file_extension": ".r",
   "mimetype": "text/x-r-source",
   "name": "R",
   "pygments_lexer": "r",
   "version": "4.1.3"
  }
 },
 "nbformat": 4,
 "nbformat_minor": 4
}
