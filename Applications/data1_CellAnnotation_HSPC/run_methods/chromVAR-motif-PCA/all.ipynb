{
 "cells": [
  {
   "cell_type": "code",
   "execution_count": null,
   "id": "8a94d0bd-e66b-499f-a00a-7ee2b8ea9136",
   "metadata": {
    "tags": []
   },
   "outputs": [],
   "source": [
    "source('../../../../source//basic.r')\n",
    "\n",
    "source('../../../validataion.r')"
   ]
  },
  {
   "cell_type": "code",
   "execution_count": null,
   "id": "41329602-adf2-43c4-bac6-a2b98c4e61ff",
   "metadata": {},
   "outputs": [],
   "source": [
    "library(Rtsne)"
   ]
  },
  {
   "cell_type": "code",
   "execution_count": null,
   "id": "013bd03e-e19e-483d-9b4e-724414b5efdc",
   "metadata": {},
   "outputs": [],
   "source": [
    "metadata <- read.table('../../raw_data/input/metadata.tsv',\n",
    "                         header = TRUE,\n",
    "                         stringsAsFactors=FALSE,quote=\"\",row.names=1)"
   ]
  },
  {
   "cell_type": "code",
   "execution_count": null,
   "id": "e4cab6a8-f698-4f17-86a4-4d2dcc9e777e",
   "metadata": {},
   "outputs": [],
   "source": [
    "run_pca <- function(mat,num_pcs=50,remove_first_PC=FALSE,scale=FALSE,center=FALSE){\n",
    "    set.seed(2019) \n",
    "    SVD = irlba(mat, num_pcs, num_pcs,scale=scale,center=center,maxit=10000)\n",
    "    sk_diag = matrix(0, nrow=num_pcs, ncol=num_pcs)\n",
    "    diag(sk_diag) = SVD$d\n",
    "    if(remove_first_PC){\n",
    "        sk_diag[1,1] = 0\n",
    "        SVD_vd = (sk_diag %*% t(SVD$v))[2:num_pcs,]\n",
    "    }else{\n",
    "        SVD_vd = sk_diag %*% t(SVD$v)\n",
    "    }\n",
    "    return(SVD_vd)\n",
    "}"
   ]
  },
  {
   "cell_type": "code",
   "execution_count": null,
   "id": "8aa44d2a-15fb-4a7b-8ddb-543524fbd36a",
   "metadata": {},
   "outputs": [],
   "source": [
    "run_umap <- function(fm_mat){\n",
    "    umap_object = umap(t(fm_mat),random_state = 2019)\n",
    "    df_umap = umap_object$layout\n",
    "    return(df_umap)\n",
    "}"
   ]
  },
  {
   "cell_type": "code",
   "execution_count": null,
   "id": "055f7f2b-6f55-4085-8080-2783bd87e6e2",
   "metadata": {},
   "outputs": [],
   "source": [
    "files <- list.files('../chromVAR-motif/rds/',full.names = TRUE,\n",
    "                    pattern = '*rds')"
   ]
  },
  {
   "cell_type": "code",
   "execution_count": null,
   "id": "458502e7-58ff-4810-9b54-0b2ee923dfa9",
   "metadata": {},
   "outputs": [],
   "source": [
    "fun_cal <- function(file,pc=10){\n",
    "    \n",
    "    mat=readRDS(file)\n",
    "\n",
    "    mat.pca = run_pca(mat[!is.na(rowSums(mat)),],num_pcs = pc)\n",
    "    colnames(mat.pca) <- colnames(mat)\n",
    "    rownames(mat.pca) <- paste0('PC',1:pc)\n",
    "    \n",
    "    \n",
    "    umap.data <- run_umap(mat.pca)\n",
    "\n",
    "    tsne.data = Rtsne(t(mat.pca),pca=F,perplexity = 20)$Y\n",
    "    \n",
    "    res <- list(df_out=mat.pca%>%as.data.frame,\n",
    "            tsne=tsne.data,\n",
    "            umap=umap.data)\n",
    "    return(res)\n",
    "}"
   ]
  },
  {
   "cell_type": "code",
   "execution_count": null,
   "id": "02e59704-3073-4e51-a3e1-56d4d4b09093",
   "metadata": {},
   "outputs": [],
   "source": [
    "res.list <- files%>%mclapply(fun_cal,mc.cores = 10)"
   ]
  },
  {
   "cell_type": "code",
   "execution_count": null,
   "id": "ab167bdb-f1ab-45e0-88bb-c1d1e794fcac",
   "metadata": {},
   "outputs": [],
   "source": [
    "names(res.list) <- str_extract(files,'(?<=//FM_).*(?=_data1.rds)')"
   ]
  },
  {
   "cell_type": "markdown",
   "id": "00013118-db7e-4b44-8b8a-040ab5f6aa3b",
   "metadata": {},
   "source": [
    "# plot"
   ]
  },
  {
   "cell_type": "code",
   "execution_count": null,
   "id": "6af7fd2e-7078-4ab7-9ab2-572c08aeb29e",
   "metadata": {},
   "outputs": [],
   "source": [
    "plot.list <- c()"
   ]
  },
  {
   "cell_type": "code",
   "execution_count": null,
   "id": "68e72bc2-8270-4edc-885a-2f78b29aaadd",
   "metadata": {},
   "outputs": [],
   "source": [
    "psize(12,2.2)"
   ]
  },
  {
   "cell_type": "code",
   "execution_count": null,
   "id": "909f532f-8a61-4cf2-8197-5e3ca18ce4ef",
   "metadata": {},
   "outputs": [],
   "source": [
    "res.plot.list <- c()"
   ]
  },
  {
   "cell_type": "code",
   "execution_count": null,
   "id": "c397f9ec-3c7d-466e-81f5-04017f499213",
   "metadata": {},
   "outputs": [],
   "source": [
    "pdf('plots/plot.pdf',width = 12,height = 2.2)\n",
    "for(x in names(res.list)){\n",
    "    \n",
    "    res.plot.list <- fun_densityClust(res.list[[x]],labels=metadata[,'label'],\n",
    "                title=x,rho_=15,delta_=15,plot=TRUE)\n",
    "    \n",
    "}\n",
    "dev.off()"
   ]
  },
  {
   "cell_type": "markdown",
   "id": "2bd4770c-1ecb-4196-8797-8a4563dd04ce",
   "metadata": {},
   "source": [
    "# save RDS"
   ]
  },
  {
   "cell_type": "code",
   "execution_count": null,
   "id": "92e1f3ec-886a-4f97-9657-226da4c474d4",
   "metadata": {},
   "outputs": [],
   "source": [
    "dir.create('rds')"
   ]
  },
  {
   "cell_type": "code",
   "execution_count": null,
   "id": "6aa640df-2856-46f4-96af-00aa08074a1a",
   "metadata": {},
   "outputs": [],
   "source": [
    "res.list%>%names%>%lapply(function(x){\n",
    "    \n",
    "    saveRDS(res.list[[x]]$df_out,file = paste0('.//rds/FM_',x,'_data1.rds'))\n",
    "    \n",
    "})"
   ]
  }
 ],
 "metadata": {
  "kernelspec": {
   "display_name": "R",
   "language": "R",
   "name": "ir"
  },
  "language_info": {
   "codemirror_mode": "r",
   "file_extension": ".r",
   "mimetype": "text/x-r-source",
   "name": "R",
   "pygments_lexer": "r",
   "version": "4.1.3"
  }
 },
 "nbformat": 4,
 "nbformat_minor": 5
}
