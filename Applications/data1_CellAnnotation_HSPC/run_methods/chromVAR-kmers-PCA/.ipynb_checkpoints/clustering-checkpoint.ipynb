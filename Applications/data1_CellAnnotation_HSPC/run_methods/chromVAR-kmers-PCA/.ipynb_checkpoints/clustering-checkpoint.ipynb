{
 "cells": [
  {
   "cell_type": "code",
   "execution_count": 1,
   "id": "3383acfa-a0b8-4569-8bac-26abfd062224",
   "metadata": {},
   "outputs": [],
   "source": [
    "import pandas as pd\n",
    "import numpy as np\n",
    "import scanpy as sc\n",
    "import os\n",
    "from sklearn.cluster import KMeans\n",
    "from sklearn.cluster import AgglomerativeClustering\n",
    "from sklearn.metrics.cluster import adjusted_rand_score\n",
    "from sklearn.metrics.cluster import adjusted_mutual_info_score\n",
    "from sklearn.metrics.cluster import homogeneity_score\n",
    "import rpy2.robjects as robjects\n",
    "from rpy2.robjects import pandas2ri"
   ]
  },
  {
   "cell_type": "code",
   "execution_count": 2,
   "id": "0c7ae245-87c0-42d5-b351-4bcb1e08f282",
   "metadata": {},
   "outputs": [],
   "source": [
    "df_metrics = pd.DataFrame(columns=['ARI_Louvain','ARI_kmeans','ARI_HC',\n",
    "                                   'AMI_Louvain','AMI_kmeans','AMI_HC',\n",
    "                                   'Homogeneity_Louvain','Homogeneity_kmeans','Homogeneity_HC'])"
   ]
  },
  {
   "cell_type": "code",
   "execution_count": 3,
   "id": "27e85b06-d6bf-48ff-884a-15401de19efa",
   "metadata": {},
   "outputs": [
    {
     "data": {
      "text/plain": [
       "0"
      ]
     },
     "execution_count": 3,
     "metadata": {},
     "output_type": "execute_result"
    }
   ],
   "source": [
    "workdir = './rds/'\n",
    "path_fm = os.path.join(workdir,'./')\n",
    "path_clusters = os.path.join(workdir,'clusters/')\n",
    "path_metrics = os.path.join(workdir,'metrics/')\n",
    "os.system('mkdir -p '+path_clusters)\n",
    "os.system('mkdir -p '+path_metrics)"
   ]
  },
  {
   "cell_type": "code",
   "execution_count": 4,
   "id": "700b5c57-e750-478a-b2e5-81114e2d0b87",
   "metadata": {},
   "outputs": [
    {
     "name": "stdout",
     "output_type": "stream",
     "text": [
      "10\n"
     ]
    }
   ],
   "source": [
    "metadata = pd.read_csv('../../../../../test_data/Buenrostro_2018/input/metadata.tsv',sep='\\t',index_col=0)\n",
    "num_clusters = len(np.unique(metadata['label']))\n",
    "print(num_clusters)"
   ]
  },
  {
   "cell_type": "code",
   "execution_count": 5,
   "id": "d697af33-5acb-4929-a461-ca02c65480b1",
   "metadata": {},
   "outputs": [
    {
     "data": {
      "text/plain": [
       "11"
      ]
     },
     "execution_count": 5,
     "metadata": {},
     "output_type": "execute_result"
    }
   ],
   "source": [
    "files = [x for x in os.listdir(path_fm) if x.endswith('rds')]\n",
    "len(files)"
   ]
  },
  {
   "cell_type": "code",
   "execution_count": 6,
   "id": "b9f67576-0296-4ceb-be4e-3a29443a5fc7",
   "metadata": {},
   "outputs": [
    {
     "data": {
      "text/plain": [
       "['FM_bins-res-all_data1.rds',\n",
       " 'FM_bins-res-top_data1.rds',\n",
       " 'FM_bulkPeaks-res-all_data1.rds',\n",
       " 'FM_bulkPeaks-res-top_data1.rds',\n",
       " 'FM_combinedPeaks-res-all_data1.rds',\n",
       " 'FM_combinedPeaks-res-top_data1.rds',\n",
       " 'FM_cpeaks-res-all_data1.rds',\n",
       " 'FM_cpeaks-res-hk_data1.rds',\n",
       " 'FM_cpeaks-res-hk-excl_data1.rds',\n",
       " 'FM_cpeaks-res-hk-long-excl_data1.rds',\n",
       " 'FM_cpeaks-res-top_data1.rds']"
      ]
     },
     "execution_count": 6,
     "metadata": {},
     "output_type": "execute_result"
    }
   ],
   "source": [
    "files"
   ]
  },
  {
   "cell_type": "code",
   "execution_count": 7,
   "id": "379adef6-0e0d-4b1c-b603-35b1566af0e0",
   "metadata": {},
   "outputs": [],
   "source": [
    "def getNClusters(adata,n_cluster,range_min=0,range_max=3,max_steps=20):\n",
    "    this_step = 0\n",
    "    this_min = float(range_min)\n",
    "    this_max = float(range_max)\n",
    "    while this_step < max_steps:\n",
    "        print('step ' + str(this_step))\n",
    "        this_resolution = this_min + ((this_max-this_min)/2)\n",
    "        sc.tl.louvain(adata,resolution=this_resolution)\n",
    "        this_clusters = adata.obs['louvain'].nunique()\n",
    "        \n",
    "        print('got ' + str(this_clusters) + ' at resolution ' + str(this_resolution))\n",
    "        \n",
    "        if this_clusters > n_cluster:\n",
    "            this_max = this_resolution\n",
    "        elif this_clusters < n_cluster:\n",
    "            this_min = this_resolution\n",
    "        else:\n",
    "            return(this_resolution, adata)\n",
    "        this_step += 1\n",
    "    \n",
    "    print('Cannot find the number of clusters')\n",
    "    print('Clustering solution from last iteration is used:' + str(this_clusters) + ' at resolution ' + str(this_resolution))"
   ]
  },
  {
   "cell_type": "code",
   "execution_count": 8,
   "id": "50fca877-62c9-4e3c-a3f1-acf9885fe6d4",
   "metadata": {
    "tags": []
   },
   "outputs": [
    {
     "name": "stdout",
     "output_type": "stream",
     "text": [
      "bins-res-all\n"
     ]
    },
    {
     "name": "stderr",
     "output_type": "stream",
     "text": [
      "/home/mengqiuchen/anaconda3/envs/atac/lib/python3.7/site-packages/ipykernel_launcher.py:17: FutureWarning: X.dtype being converted to np.float32 from float64. In the next version of anndata (0.9) conversion will not be automatic. Pass dtype explicitly to avoid this warning. Pass `AnnData(X, dtype=X.dtype, ...)` to get the future behavour.\n",
      "/home/mengqiuchen/anaconda3/envs/atac/lib/python3.7/site-packages/anndata/_core/anndata.py:121: ImplicitModificationWarning: Transforming to str index.\n",
      "  warnings.warn(\"Transforming to str index.\", ImplicitModificationWarning)\n",
      "/home/mengqiuchen/anaconda3/envs/atac/lib/python3.7/site-packages/tqdm/auto.py:22: TqdmWarning: IProgress not found. Please update jupyter and ipywidgets. See https://ipywidgets.readthedocs.io/en/stable/user_install.html\n",
      "  from .autonotebook import tqdm as notebook_tqdm\n"
     ]
    },
    {
     "name": "stdout",
     "output_type": "stream",
     "text": [
      "step 0\n",
      "got 15 at resolution 1.5\n",
      "step 1\n",
      "got 7 at resolution 0.75\n",
      "step 2\n",
      "got 12 at resolution 1.125\n",
      "step 3\n",
      "got 9 at resolution 0.9375\n",
      "step 4\n",
      "got 9 at resolution 1.03125\n",
      "step 5\n",
      "got 11 at resolution 1.078125\n",
      "step 6\n",
      "got 9 at resolution 1.0546875\n",
      "step 7\n",
      "got 9 at resolution 1.06640625\n",
      "step 8\n",
      "got 9 at resolution 1.072265625\n",
      "step 9\n",
      "got 9 at resolution 1.0751953125\n",
      "step 10\n",
      "got 11 at resolution 1.07666015625\n",
      "step 11\n",
      "got 11 at resolution 1.075927734375\n",
      "step 12\n",
      "got 9 at resolution 1.0755615234375\n",
      "step 13\n",
      "got 11 at resolution 1.07574462890625\n",
      "step 14\n",
      "got 11 at resolution 1.075653076171875\n",
      "step 15\n",
      "got 9 at resolution 1.0756072998046875\n",
      "step 16\n",
      "got 9 at resolution 1.0756301879882812\n",
      "step 17\n",
      "got 9 at resolution 1.0756416320800781\n",
      "step 18\n",
      "got 11 at resolution 1.0756473541259766\n",
      "step 19\n",
      "got 11 at resolution 1.0756444931030273\n",
      "Cannot find the number of clusters\n",
      "Clustering solution from last iteration is used:11 at resolution 1.0756444931030273\n",
      "bins-res-top\n"
     ]
    },
    {
     "name": "stderr",
     "output_type": "stream",
     "text": [
      "/home/mengqiuchen/anaconda3/envs/atac/lib/python3.7/site-packages/ipykernel_launcher.py:17: FutureWarning: X.dtype being converted to np.float32 from float64. In the next version of anndata (0.9) conversion will not be automatic. Pass dtype explicitly to avoid this warning. Pass `AnnData(X, dtype=X.dtype, ...)` to get the future behavour.\n",
      "/home/mengqiuchen/anaconda3/envs/atac/lib/python3.7/site-packages/anndata/_core/anndata.py:121: ImplicitModificationWarning: Transforming to str index.\n",
      "  warnings.warn(\"Transforming to str index.\", ImplicitModificationWarning)\n"
     ]
    },
    {
     "name": "stdout",
     "output_type": "stream",
     "text": [
      "step 0\n",
      "got 12 at resolution 1.5\n",
      "step 1\n",
      "got 6 at resolution 0.75\n",
      "step 2\n",
      "got 10 at resolution 1.125\n",
      "bulkPeaks-res-all\n"
     ]
    },
    {
     "name": "stderr",
     "output_type": "stream",
     "text": [
      "/home/mengqiuchen/anaconda3/envs/atac/lib/python3.7/site-packages/ipykernel_launcher.py:17: FutureWarning: X.dtype being converted to np.float32 from float64. In the next version of anndata (0.9) conversion will not be automatic. Pass dtype explicitly to avoid this warning. Pass `AnnData(X, dtype=X.dtype, ...)` to get the future behavour.\n",
      "/home/mengqiuchen/anaconda3/envs/atac/lib/python3.7/site-packages/anndata/_core/anndata.py:121: ImplicitModificationWarning: Transforming to str index.\n",
      "  warnings.warn(\"Transforming to str index.\", ImplicitModificationWarning)\n"
     ]
    },
    {
     "name": "stdout",
     "output_type": "stream",
     "text": [
      "step 0\n",
      "got 13 at resolution 1.5\n",
      "step 1\n",
      "got 10 at resolution 0.75\n",
      "bulkPeaks-res-top\n"
     ]
    },
    {
     "name": "stderr",
     "output_type": "stream",
     "text": [
      "/home/mengqiuchen/anaconda3/envs/atac/lib/python3.7/site-packages/ipykernel_launcher.py:17: FutureWarning: X.dtype being converted to np.float32 from float64. In the next version of anndata (0.9) conversion will not be automatic. Pass dtype explicitly to avoid this warning. Pass `AnnData(X, dtype=X.dtype, ...)` to get the future behavour.\n",
      "/home/mengqiuchen/anaconda3/envs/atac/lib/python3.7/site-packages/anndata/_core/anndata.py:121: ImplicitModificationWarning: Transforming to str index.\n",
      "  warnings.warn(\"Transforming to str index.\", ImplicitModificationWarning)\n"
     ]
    },
    {
     "name": "stdout",
     "output_type": "stream",
     "text": [
      "step 0\n",
      "got 17 at resolution 1.5\n",
      "step 1\n",
      "got 7 at resolution 0.75\n",
      "step 2\n",
      "got 11 at resolution 1.125\n",
      "step 3\n",
      "got 9 at resolution 0.9375\n",
      "step 4\n",
      "got 9 at resolution 1.03125\n",
      "step 5\n",
      "got 11 at resolution 1.078125\n",
      "step 6\n",
      "got 10 at resolution 1.0546875\n",
      "combinedPeaks-res-all\n"
     ]
    },
    {
     "name": "stderr",
     "output_type": "stream",
     "text": [
      "/home/mengqiuchen/anaconda3/envs/atac/lib/python3.7/site-packages/ipykernel_launcher.py:17: FutureWarning: X.dtype being converted to np.float32 from float64. In the next version of anndata (0.9) conversion will not be automatic. Pass dtype explicitly to avoid this warning. Pass `AnnData(X, dtype=X.dtype, ...)` to get the future behavour.\n",
      "/home/mengqiuchen/anaconda3/envs/atac/lib/python3.7/site-packages/anndata/_core/anndata.py:121: ImplicitModificationWarning: Transforming to str index.\n",
      "  warnings.warn(\"Transforming to str index.\", ImplicitModificationWarning)\n"
     ]
    },
    {
     "name": "stdout",
     "output_type": "stream",
     "text": [
      "step 0\n",
      "got 14 at resolution 1.5\n",
      "step 1\n",
      "got 9 at resolution 0.75\n",
      "step 2\n",
      "got 13 at resolution 1.125\n",
      "step 3\n",
      "got 11 at resolution 0.9375\n",
      "step 4\n",
      "got 10 at resolution 0.84375\n",
      "combinedPeaks-res-top\n"
     ]
    },
    {
     "name": "stderr",
     "output_type": "stream",
     "text": [
      "/home/mengqiuchen/anaconda3/envs/atac/lib/python3.7/site-packages/ipykernel_launcher.py:17: FutureWarning: X.dtype being converted to np.float32 from float64. In the next version of anndata (0.9) conversion will not be automatic. Pass dtype explicitly to avoid this warning. Pass `AnnData(X, dtype=X.dtype, ...)` to get the future behavour.\n",
      "/home/mengqiuchen/anaconda3/envs/atac/lib/python3.7/site-packages/anndata/_core/anndata.py:121: ImplicitModificationWarning: Transforming to str index.\n",
      "  warnings.warn(\"Transforming to str index.\", ImplicitModificationWarning)\n"
     ]
    },
    {
     "name": "stdout",
     "output_type": "stream",
     "text": [
      "step 0\n",
      "got 15 at resolution 1.5\n",
      "step 1\n",
      "got 7 at resolution 0.75\n",
      "step 2\n",
      "got 11 at resolution 1.125\n",
      "step 3\n",
      "got 8 at resolution 0.9375\n",
      "step 4\n",
      "got 9 at resolution 1.03125\n",
      "step 5\n",
      "got 10 at resolution 1.078125\n",
      "cpeaks-res-all\n"
     ]
    },
    {
     "name": "stderr",
     "output_type": "stream",
     "text": [
      "/home/mengqiuchen/anaconda3/envs/atac/lib/python3.7/site-packages/ipykernel_launcher.py:17: FutureWarning: X.dtype being converted to np.float32 from float64. In the next version of anndata (0.9) conversion will not be automatic. Pass dtype explicitly to avoid this warning. Pass `AnnData(X, dtype=X.dtype, ...)` to get the future behavour.\n",
      "/home/mengqiuchen/anaconda3/envs/atac/lib/python3.7/site-packages/anndata/_core/anndata.py:121: ImplicitModificationWarning: Transforming to str index.\n",
      "  warnings.warn(\"Transforming to str index.\", ImplicitModificationWarning)\n"
     ]
    },
    {
     "name": "stdout",
     "output_type": "stream",
     "text": [
      "step 0\n",
      "got 15 at resolution 1.5\n",
      "step 1\n",
      "got 9 at resolution 0.75\n",
      "step 2\n",
      "got 11 at resolution 1.125\n",
      "step 3\n",
      "got 10 at resolution 0.9375\n",
      "cpeaks-res-hk\n"
     ]
    },
    {
     "name": "stderr",
     "output_type": "stream",
     "text": [
      "/home/mengqiuchen/anaconda3/envs/atac/lib/python3.7/site-packages/ipykernel_launcher.py:17: FutureWarning: X.dtype being converted to np.float32 from float64. In the next version of anndata (0.9) conversion will not be automatic. Pass dtype explicitly to avoid this warning. Pass `AnnData(X, dtype=X.dtype, ...)` to get the future behavour.\n",
      "/home/mengqiuchen/anaconda3/envs/atac/lib/python3.7/site-packages/anndata/_core/anndata.py:121: ImplicitModificationWarning: Transforming to str index.\n",
      "  warnings.warn(\"Transforming to str index.\", ImplicitModificationWarning)\n"
     ]
    },
    {
     "name": "stdout",
     "output_type": "stream",
     "text": [
      "step 0\n",
      "got 15 at resolution 1.5\n",
      "step 1\n",
      "got 9 at resolution 0.75\n",
      "step 2\n",
      "got 13 at resolution 1.125\n",
      "step 3\n",
      "got 10 at resolution 0.9375\n",
      "cpeaks-res-hk-excl\n"
     ]
    },
    {
     "name": "stderr",
     "output_type": "stream",
     "text": [
      "/home/mengqiuchen/anaconda3/envs/atac/lib/python3.7/site-packages/ipykernel_launcher.py:17: FutureWarning: X.dtype being converted to np.float32 from float64. In the next version of anndata (0.9) conversion will not be automatic. Pass dtype explicitly to avoid this warning. Pass `AnnData(X, dtype=X.dtype, ...)` to get the future behavour.\n",
      "/home/mengqiuchen/anaconda3/envs/atac/lib/python3.7/site-packages/anndata/_core/anndata.py:121: ImplicitModificationWarning: Transforming to str index.\n",
      "  warnings.warn(\"Transforming to str index.\", ImplicitModificationWarning)\n"
     ]
    },
    {
     "name": "stdout",
     "output_type": "stream",
     "text": [
      "step 0\n",
      "got 12 at resolution 1.5\n",
      "step 1\n",
      "got 9 at resolution 0.75\n",
      "step 2\n",
      "got 10 at resolution 1.125\n",
      "cpeaks-res-hk-long-excl\n"
     ]
    },
    {
     "name": "stderr",
     "output_type": "stream",
     "text": [
      "/home/mengqiuchen/anaconda3/envs/atac/lib/python3.7/site-packages/ipykernel_launcher.py:17: FutureWarning: X.dtype being converted to np.float32 from float64. In the next version of anndata (0.9) conversion will not be automatic. Pass dtype explicitly to avoid this warning. Pass `AnnData(X, dtype=X.dtype, ...)` to get the future behavour.\n",
      "/home/mengqiuchen/anaconda3/envs/atac/lib/python3.7/site-packages/anndata/_core/anndata.py:121: ImplicitModificationWarning: Transforming to str index.\n",
      "  warnings.warn(\"Transforming to str index.\", ImplicitModificationWarning)\n"
     ]
    },
    {
     "name": "stdout",
     "output_type": "stream",
     "text": [
      "step 0\n",
      "got 12 at resolution 1.5\n",
      "step 1\n",
      "got 8 at resolution 0.75\n",
      "step 2\n",
      "got 11 at resolution 1.125\n",
      "step 3\n",
      "got 10 at resolution 0.9375\n",
      "cpeaks-res-top\n"
     ]
    },
    {
     "name": "stderr",
     "output_type": "stream",
     "text": [
      "/home/mengqiuchen/anaconda3/envs/atac/lib/python3.7/site-packages/ipykernel_launcher.py:17: FutureWarning: X.dtype being converted to np.float32 from float64. In the next version of anndata (0.9) conversion will not be automatic. Pass dtype explicitly to avoid this warning. Pass `AnnData(X, dtype=X.dtype, ...)` to get the future behavour.\n",
      "/home/mengqiuchen/anaconda3/envs/atac/lib/python3.7/site-packages/anndata/_core/anndata.py:121: ImplicitModificationWarning: Transforming to str index.\n",
      "  warnings.warn(\"Transforming to str index.\", ImplicitModificationWarning)\n"
     ]
    },
    {
     "name": "stdout",
     "output_type": "stream",
     "text": [
      "step 0\n",
      "got 14 at resolution 1.5\n",
      "step 1\n",
      "got 7 at resolution 0.75\n",
      "step 2\n",
      "got 9 at resolution 1.125\n",
      "step 3\n",
      "got 12 at resolution 1.3125\n",
      "step 4\n",
      "got 11 at resolution 1.21875\n",
      "step 5\n",
      "got 10 at resolution 1.171875\n"
     ]
    }
   ],
   "source": [
    "for file in files:\n",
    "    file_split = file.split('_')\n",
    "    method = file_split[1]\n",
    "    dataset = file_split[2].split('.')[0]\n",
    "    if(len(file_split)>3):\n",
    "        method = method + '_' + '_'.join(file_split[3:]).split('.')[0]\n",
    "    print(method)\n",
    "\n",
    "    pandas2ri.activate()\n",
    "    readRDS = robjects.r['readRDS']\n",
    "    df_rds = readRDS(os.path.join(path_fm,file))\n",
    "    fm_mat=pandas2ri.ri2py_vector(robjects.r['data.frame'](robjects.r['as.matrix'](df_rds)))\n",
    "    fm_mat = pd.DataFrame(fm_mat).T\n",
    "    fm_mat.fillna(0,inplace=True)\n",
    "    fm_mat.columns = metadata.index\n",
    "    \n",
    "    adata = sc.AnnData(fm_mat.T)\n",
    "    adata.var_names_make_unique()\n",
    "    adata.obs = metadata.loc[adata.obs.index,]\n",
    "    df_metrics.loc[method,] = \"\"\n",
    "    #Louvain\n",
    "    sc.pp.neighbors(adata, n_neighbors=15,use_rep='X')\n",
    "#     sc.tl.louvain(adata)\n",
    "    getNClusters(adata,n_cluster=num_clusters)\n",
    "    #kmeans\n",
    "    kmeans = KMeans(n_clusters=num_clusters, random_state=2019).fit(adata.X)\n",
    "    adata.obs['kmeans'] = pd.Series(kmeans.labels_,index=adata.obs.index).astype('category')\n",
    "    #hierachical clustering\n",
    "    hc = AgglomerativeClustering(n_clusters=num_clusters).fit(adata.X)\n",
    "    adata.obs['hc'] = pd.Series(hc.labels_,index=adata.obs.index).astype('category')\n",
    "    #clustering metrics\n",
    "    \n",
    "    #adjusted rank index\n",
    "    ari_louvain = adjusted_rand_score(adata.obs['label'], adata.obs['louvain'])\n",
    "    ari_kmeans = adjusted_rand_score(adata.obs['label'], adata.obs['kmeans'])\n",
    "    ari_hc = adjusted_rand_score(adata.obs['label'], adata.obs['hc'])\n",
    "    #adjusted mutual information\n",
    "    ami_louvain = adjusted_mutual_info_score(adata.obs['label'], adata.obs['louvain'],average_method='arithmetic')\n",
    "    ami_kmeans = adjusted_mutual_info_score(adata.obs['label'], adata.obs['kmeans'],average_method='arithmetic')   \n",
    "    ami_hc = adjusted_mutual_info_score(adata.obs['label'], adata.obs['hc'],average_method='arithmetic')\n",
    "    #homogeneity\n",
    "    homo_louvain = homogeneity_score(adata.obs['label'], adata.obs['louvain'])\n",
    "    homo_kmeans = homogeneity_score(adata.obs['label'], adata.obs['kmeans'])\n",
    "    homo_hc = homogeneity_score(adata.obs['label'], adata.obs['hc'])\n",
    "\n",
    "    df_metrics.loc[method,['ARI_Louvain','ARI_kmeans','ARI_HC']] = [ari_louvain,ari_kmeans,ari_hc]\n",
    "    df_metrics.loc[method,['AMI_Louvain','AMI_kmeans','AMI_HC']] = [ami_louvain,ami_kmeans,ami_hc]\n",
    "    df_metrics.loc[method,['Homogeneity_Louvain','Homogeneity_kmeans','Homogeneity_HC']] = [homo_louvain,homo_kmeans,homo_hc] \n",
    "    adata.obs[['louvain','kmeans','hc']].to_csv(os.path.join(path_clusters ,method + '_clusters.tsv'),sep='\\t')"
   ]
  },
  {
   "cell_type": "code",
   "execution_count": 9,
   "id": "fd77ad1a-bdb9-4331-8b07-68184cd5bc41",
   "metadata": {},
   "outputs": [],
   "source": [
    "fm_mat.columns = metadata.index"
   ]
  },
  {
   "cell_type": "code",
   "execution_count": 10,
   "id": "339cfdfc-5a87-4b02-b1f3-5ccead9cb3a8",
   "metadata": {},
   "outputs": [],
   "source": [
    "df_metrics.to_csv(path_metrics+'clustering_scores.csv')"
   ]
  },
  {
   "cell_type": "code",
   "execution_count": 11,
   "id": "bb8e075d-24c7-4db0-bd8c-980e9cf38bc6",
   "metadata": {},
   "outputs": [
    {
     "data": {
      "text/html": [
       "<div>\n",
       "<style scoped>\n",
       "    .dataframe tbody tr th:only-of-type {\n",
       "        vertical-align: middle;\n",
       "    }\n",
       "\n",
       "    .dataframe tbody tr th {\n",
       "        vertical-align: top;\n",
       "    }\n",
       "\n",
       "    .dataframe thead th {\n",
       "        text-align: right;\n",
       "    }\n",
       "</style>\n",
       "<table border=\"1\" class=\"dataframe\">\n",
       "  <thead>\n",
       "    <tr style=\"text-align: right;\">\n",
       "      <th></th>\n",
       "      <th>ARI_Louvain</th>\n",
       "      <th>ARI_kmeans</th>\n",
       "      <th>ARI_HC</th>\n",
       "      <th>AMI_Louvain</th>\n",
       "      <th>AMI_kmeans</th>\n",
       "      <th>AMI_HC</th>\n",
       "      <th>Homogeneity_Louvain</th>\n",
       "      <th>Homogeneity_kmeans</th>\n",
       "      <th>Homogeneity_HC</th>\n",
       "    </tr>\n",
       "  </thead>\n",
       "  <tbody>\n",
       "    <tr>\n",
       "      <th>bins-res-all</th>\n",
       "      <td>0.191527</td>\n",
       "      <td>0.143328</td>\n",
       "      <td>0.138708</td>\n",
       "      <td>0.320335</td>\n",
       "      <td>0.301533</td>\n",
       "      <td>0.276066</td>\n",
       "      <td>0.348482</td>\n",
       "      <td>0.316543</td>\n",
       "      <td>0.287291</td>\n",
       "    </tr>\n",
       "    <tr>\n",
       "      <th>bins-res-top</th>\n",
       "      <td>0.015734</td>\n",
       "      <td>0.015963</td>\n",
       "      <td>0.013873</td>\n",
       "      <td>0.038266</td>\n",
       "      <td>0.033783</td>\n",
       "      <td>0.029291</td>\n",
       "      <td>0.049587</td>\n",
       "      <td>0.045178</td>\n",
       "      <td>0.039993</td>\n",
       "    </tr>\n",
       "    <tr>\n",
       "      <th>bulkPeaks-res-all</th>\n",
       "      <td>0.409172</td>\n",
       "      <td>0.329882</td>\n",
       "      <td>0.270086</td>\n",
       "      <td>0.568334</td>\n",
       "      <td>0.466466</td>\n",
       "      <td>0.445738</td>\n",
       "      <td>0.588512</td>\n",
       "      <td>0.488121</td>\n",
       "      <td>0.448887</td>\n",
       "    </tr>\n",
       "    <tr>\n",
       "      <th>bulkPeaks-res-top</th>\n",
       "      <td>0.095912</td>\n",
       "      <td>0.083937</td>\n",
       "      <td>0.043576</td>\n",
       "      <td>0.211177</td>\n",
       "      <td>0.186813</td>\n",
       "      <td>0.130563</td>\n",
       "      <td>0.227096</td>\n",
       "      <td>0.203131</td>\n",
       "      <td>0.142663</td>\n",
       "    </tr>\n",
       "    <tr>\n",
       "      <th>combinedPeaks-res-all</th>\n",
       "      <td>0.437515</td>\n",
       "      <td>0.377587</td>\n",
       "      <td>0.326141</td>\n",
       "      <td>0.593625</td>\n",
       "      <td>0.524158</td>\n",
       "      <td>0.502134</td>\n",
       "      <td>0.61794</td>\n",
       "      <td>0.546406</td>\n",
       "      <td>0.520641</td>\n",
       "    </tr>\n",
       "    <tr>\n",
       "      <th>combinedPeaks-res-top</th>\n",
       "      <td>0.096485</td>\n",
       "      <td>0.080774</td>\n",
       "      <td>0.062803</td>\n",
       "      <td>0.214157</td>\n",
       "      <td>0.191506</td>\n",
       "      <td>0.168179</td>\n",
       "      <td>0.230105</td>\n",
       "      <td>0.207449</td>\n",
       "      <td>0.181227</td>\n",
       "    </tr>\n",
       "    <tr>\n",
       "      <th>cpeaks-res-all</th>\n",
       "      <td>0.413826</td>\n",
       "      <td>0.343998</td>\n",
       "      <td>0.291046</td>\n",
       "      <td>0.571575</td>\n",
       "      <td>0.475678</td>\n",
       "      <td>0.456792</td>\n",
       "      <td>0.594124</td>\n",
       "      <td>0.497197</td>\n",
       "      <td>0.471014</td>\n",
       "    </tr>\n",
       "    <tr>\n",
       "      <th>cpeaks-res-hk</th>\n",
       "      <td>0.143512</td>\n",
       "      <td>0.105248</td>\n",
       "      <td>0.127702</td>\n",
       "      <td>0.27157</td>\n",
       "      <td>0.210419</td>\n",
       "      <td>0.233577</td>\n",
       "      <td>0.285113</td>\n",
       "      <td>0.227056</td>\n",
       "      <td>0.245082</td>\n",
       "    </tr>\n",
       "    <tr>\n",
       "      <th>cpeaks-res-hk-excl</th>\n",
       "      <td>0.374048</td>\n",
       "      <td>0.35323</td>\n",
       "      <td>0.39548</td>\n",
       "      <td>0.574168</td>\n",
       "      <td>0.522453</td>\n",
       "      <td>0.543726</td>\n",
       "      <td>0.607016</td>\n",
       "      <td>0.547826</td>\n",
       "      <td>0.569778</td>\n",
       "    </tr>\n",
       "    <tr>\n",
       "      <th>cpeaks-res-hk-long-excl</th>\n",
       "      <td>0.410812</td>\n",
       "      <td>0.350663</td>\n",
       "      <td>0.350342</td>\n",
       "      <td>0.586244</td>\n",
       "      <td>0.519117</td>\n",
       "      <td>0.526621</td>\n",
       "      <td>0.615803</td>\n",
       "      <td>0.545431</td>\n",
       "      <td>0.549554</td>\n",
       "    </tr>\n",
       "    <tr>\n",
       "      <th>cpeaks-res-top</th>\n",
       "      <td>0.235338</td>\n",
       "      <td>0.189533</td>\n",
       "      <td>0.158278</td>\n",
       "      <td>0.377469</td>\n",
       "      <td>0.335334</td>\n",
       "      <td>0.325951</td>\n",
       "      <td>0.398272</td>\n",
       "      <td>0.358097</td>\n",
       "      <td>0.342229</td>\n",
       "    </tr>\n",
       "  </tbody>\n",
       "</table>\n",
       "</div>"
      ],
      "text/plain": [
       "                        ARI_Louvain ARI_kmeans    ARI_HC AMI_Louvain  \\\n",
       "bins-res-all               0.191527   0.143328  0.138708    0.320335   \n",
       "bins-res-top               0.015734   0.015963  0.013873    0.038266   \n",
       "bulkPeaks-res-all          0.409172   0.329882  0.270086    0.568334   \n",
       "bulkPeaks-res-top          0.095912   0.083937  0.043576    0.211177   \n",
       "combinedPeaks-res-all      0.437515   0.377587  0.326141    0.593625   \n",
       "combinedPeaks-res-top      0.096485   0.080774  0.062803    0.214157   \n",
       "cpeaks-res-all             0.413826   0.343998  0.291046    0.571575   \n",
       "cpeaks-res-hk              0.143512   0.105248  0.127702     0.27157   \n",
       "cpeaks-res-hk-excl         0.374048    0.35323   0.39548    0.574168   \n",
       "cpeaks-res-hk-long-excl    0.410812   0.350663  0.350342    0.586244   \n",
       "cpeaks-res-top             0.235338   0.189533  0.158278    0.377469   \n",
       "\n",
       "                        AMI_kmeans    AMI_HC Homogeneity_Louvain  \\\n",
       "bins-res-all              0.301533  0.276066            0.348482   \n",
       "bins-res-top              0.033783  0.029291            0.049587   \n",
       "bulkPeaks-res-all         0.466466  0.445738            0.588512   \n",
       "bulkPeaks-res-top         0.186813  0.130563            0.227096   \n",
       "combinedPeaks-res-all     0.524158  0.502134             0.61794   \n",
       "combinedPeaks-res-top     0.191506  0.168179            0.230105   \n",
       "cpeaks-res-all            0.475678  0.456792            0.594124   \n",
       "cpeaks-res-hk             0.210419  0.233577            0.285113   \n",
       "cpeaks-res-hk-excl        0.522453  0.543726            0.607016   \n",
       "cpeaks-res-hk-long-excl   0.519117  0.526621            0.615803   \n",
       "cpeaks-res-top            0.335334  0.325951            0.398272   \n",
       "\n",
       "                        Homogeneity_kmeans Homogeneity_HC  \n",
       "bins-res-all                      0.316543       0.287291  \n",
       "bins-res-top                      0.045178       0.039993  \n",
       "bulkPeaks-res-all                 0.488121       0.448887  \n",
       "bulkPeaks-res-top                 0.203131       0.142663  \n",
       "combinedPeaks-res-all             0.546406       0.520641  \n",
       "combinedPeaks-res-top             0.207449       0.181227  \n",
       "cpeaks-res-all                    0.497197       0.471014  \n",
       "cpeaks-res-hk                     0.227056       0.245082  \n",
       "cpeaks-res-hk-excl                0.547826       0.569778  \n",
       "cpeaks-res-hk-long-excl           0.545431       0.549554  \n",
       "cpeaks-res-top                    0.358097       0.342229  "
      ]
     },
     "execution_count": 11,
     "metadata": {},
     "output_type": "execute_result"
    }
   ],
   "source": [
    "df_metrics"
   ]
  },
  {
   "cell_type": "code",
   "execution_count": null,
   "id": "b23f8b4b-eab3-423b-b618-7bde9a36d44a",
   "metadata": {},
   "outputs": [],
   "source": []
  },
  {
   "cell_type": "code",
   "execution_count": null,
   "id": "efe1bd97-99b1-4fe8-bb7b-dd4673bc79d8",
   "metadata": {},
   "outputs": [],
   "source": []
  }
 ],
 "metadata": {
  "kernelspec": {
   "display_name": "Python 3 (ipykernel)",
   "language": "python",
   "name": "python3"
  },
  "language_info": {
   "codemirror_mode": {
    "name": "ipython",
    "version": 3
   },
   "file_extension": ".py",
   "mimetype": "text/x-python",
   "name": "python",
   "nbconvert_exporter": "python",
   "pygments_lexer": "ipython3",
   "version": "3.7.12"
  }
 },
 "nbformat": 4,
 "nbformat_minor": 5
}
