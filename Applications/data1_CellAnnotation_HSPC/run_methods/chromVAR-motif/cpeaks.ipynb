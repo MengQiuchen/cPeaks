{
 "cells": [
  {
   "cell_type": "code",
   "execution_count": null,
   "metadata": {
    "tags": []
   },
   "outputs": [],
   "source": [
    "source('../../../../source//basic.r')\n",
    "\n",
    "source('../../../validataion.r')\n",
    "\n",
    "source('method.r')"
   ]
  },
  {
   "cell_type": "code",
   "execution_count": null,
   "metadata": {},
   "outputs": [],
   "source": [
    "register(MulticoreParam(60))"
   ]
  },
  {
   "cell_type": "markdown",
   "metadata": {
    "tags": []
   },
   "source": [
    "# Embedding"
   ]
  },
  {
   "cell_type": "code",
   "execution_count": null,
   "metadata": {},
   "outputs": [],
   "source": [
    "metadata <- read.table('../../raw_data/input/metadata.tsv',\n",
    "                         header = TRUE,\n",
    "                         stringsAsFactors=FALSE,quote=\"\",row.names=1)"
   ]
  },
  {
   "cell_type": "code",
   "execution_count": null,
   "metadata": {},
   "outputs": [],
   "source": [
    "bamfile <- list.files(path = \"../../raw_data/bam/files/sc-bams_nodup/\", pattern = \"\\\\.bam$\")"
   ]
  },
  {
   "cell_type": "code",
   "execution_count": null,
   "metadata": {
    "scrolled": true
   },
   "outputs": [],
   "source": [
    "peakfile <- \"../../datafr/regions/cpeaks.sub.th0cell.bed\""
   ]
  },
  {
   "cell_type": "code",
   "execution_count": null,
   "metadata": {
    "tags": []
   },
   "outputs": [],
   "source": [
    "suppressMessages({   \n",
    "        peaks <- getPeaks(peakfile, sort_peaks = TRUE)\n",
    "        peaks <- resize(peaks, width = 500, fix = \"center\")\n",
    "\n",
    "        seqinfo(peaks) <- Seqinfo(genome=\"hg19\")\n",
    "        peaks <- trim(peaks)\n",
    "\n",
    "        cellnames <- sapply(strsplit(bamfile,'.',fixed = TRUE), \"[[\", 1)\n",
    "\n",
    "        fragment_counts <- getCounts(paste0(\"../../../../../test_data/Buenrostro_2018/bam/files/sc-bams_nodup/\",bamfile), \n",
    "                                     peaks, \n",
    "                                     paired =  TRUE, \n",
    "                                     by_rg = TRUE, \n",
    "                                     format = \"bam\", \n",
    "                                     colData = data.frame(celltype = cellnames))\n",
    "\n",
    "        fragment_counts <- addGCBias(fragment_counts, genome = BSgenome.Hsapiens.UCSC.hg19)\n",
    "        a=resize(fragment_counts, width = 500, fix = \"center\")\n",
    "        a=sort(a)\n",
    "\n",
    "        counts_filtered <- filterPeaks(a, non_overlapping = TRUE)\n",
    "\n",
    "        bg <- getBackgroundPeaks(counts_filtered)\n",
    "        # Potentially save the bg object\n",
    "\n",
    "        motifs <- getJasparMotifs()\n",
    "        motif_ix <- matchMotifs(motifs, counts_filtered, genome = BSgenome.Hsapiens.UCSC.hg19)\n",
    "\n",
    "        dev <- computeDeviations(object = counts_filtered, annotations = motif_ix,\n",
    "                                 background_peaks = bg)\n",
    "\n",
    "\n",
    "        df_zscores = dev@assays@data$z\n",
    "\n",
    "        df_out <- df_zscores\n",
    "\n",
    "        ############## UMAP ############\n",
    "\n",
    "#         ## subset according to variance, to make feature number less than observation to plot umap\n",
    "#         df = df_out\n",
    "\n",
    "#         df.vars=df%>%apply(1,var)\n",
    "#         df.means=df%>%apply(1,mean)\n",
    "\n",
    "#         df.plot <- df.vars%>%cbind(df.means)%>%as.data.frame%>%rename_with(~c('var','mean'))\n",
    "#         df.plot <- df.plot%>%mutate(rank.var= base::rank(plyr::desc(var)),\n",
    "#                                     rank.mean=base::rank(plyr::desc(mean)),\n",
    "#                                     labels=ifelse(rank.var<=1500,'variable','non-variable'))\n",
    "#         # psize()\n",
    "#         # df.plot%>%ggplot(aes(x=mean,y=var))+geom_point(aes(color=labels),cex=1,alpha=0.5)+theme_classic()#+xlim(c(0,20))+ylim(c(0,400))\n",
    "\n",
    "#         select.peaks <- df.plot%>%filter(labels=='variable')%>%rownames\n",
    "#         df_out.sub <- df_out[select.peaks,]\n",
    "\n",
    "#         umap <- run_umap(df_out.sub)\n",
    "\n",
    "        ################# TSNE #################\n",
    "        tsne <- deviationsTsne(dev, threshold = 1.5, perplexity = 10)\n",
    "\n",
    "        # variability <- computeVariability(dev)\n",
    "        # plotVariability(variability, use_plotly = FALSE)\n",
    " })\n",
    "\n",
    "\n",
    " tsne <- deviationsTsne(dev, threshold = 1.5, perplexity = 10)\n",
    "umaps <- tsne\n",
    "\n",
    "\n",
    "res.all <- (list(df_out=df_out,\n",
    "            tsne=tsne,\n",
    "            umap=umaps))\n",
    "    "
   ]
  },
  {
   "cell_type": "code",
   "execution_count": null,
   "metadata": {
    "tags": []
   },
   "outputs": [],
   "source": [
    "a=fun_densityClust(res = res.all,labels=metadata[,'label'],title='all',\n",
    "                                   rho_=15,delta_=10)"
   ]
  },
  {
   "cell_type": "markdown",
   "metadata": {},
   "source": [
    "## top 5K HVFs"
   ]
  },
  {
   "cell_type": "code",
   "execution_count": null,
   "metadata": {
    "scrolled": true
   },
   "outputs": [],
   "source": [
    "peakfile <- \"../../datafr/regions/top.regions.bed\""
   ]
  },
  {
   "cell_type": "code",
   "execution_count": null,
   "metadata": {
    "tags": []
   },
   "outputs": [],
   "source": [
    "suppressMessages({   \n",
    "        peaks <- getPeaks(peakfile, sort_peaks = TRUE)\n",
    "        peaks <- resize(peaks, width = 500, fix = \"center\")\n",
    "\n",
    "        seqinfo(peaks) <- Seqinfo(genome=\"hg19\")\n",
    "        peaks <- trim(peaks)\n",
    "\n",
    "        cellnames <- sapply(strsplit(bamfile,'.',fixed = TRUE), \"[[\", 1)\n",
    "\n",
    "        fragment_counts <- getCounts(paste0(\"../../../../../test_data/Buenrostro_2018/bam/files/sc-bams_nodup/\",bamfile), \n",
    "                                     peaks, \n",
    "                                     paired =  TRUE, \n",
    "                                     by_rg = TRUE, \n",
    "                                     format = \"bam\", \n",
    "                                     colData = data.frame(celltype = cellnames))\n",
    "\n",
    "        fragment_counts <- addGCBias(fragment_counts, genome = BSgenome.Hsapiens.UCSC.hg19)\n",
    "        a=resize(fragment_counts, width = 500, fix = \"center\")\n",
    "        a=sort(a)\n",
    "\n",
    "        counts_filtered <- filterPeaks(a, non_overlapping = TRUE)\n",
    "\n",
    "        bg <- getBackgroundPeaks(counts_filtered)\n",
    "        # Potentially save the bg object\n",
    "\n",
    "        motifs <- getJasparMotifs()\n",
    "        motif_ix <- matchMotifs(motifs, counts_filtered, genome = BSgenome.Hsapiens.UCSC.hg19)\n",
    "\n",
    "        dev <- computeDeviations(object = counts_filtered, annotations = motif_ix,\n",
    "                                 background_peaks = bg)\n",
    "\n",
    "\n",
    "        df_zscores = dev@assays@data$z\n",
    "\n",
    "        df_out <- df_zscores\n",
    "\n",
    "        ############## UMAP ############\n",
    "\n",
    "        ## subset according to variance, to make feature number less than observation to plot umap\n",
    "        df = df_out\n",
    "\n",
    "        df.vars=df%>%apply(1,var)\n",
    "        df.means=df%>%apply(1,mean)\n",
    "\n",
    "        df.plot <- df.vars%>%cbind(df.means)%>%as.data.frame%>%rename_with(~c('var','mean'))\n",
    "        df.plot <- df.plot%>%mutate(rank.var= base::rank(plyr::desc(var)),\n",
    "                                    rank.mean=base::rank(plyr::desc(mean)),\n",
    "                                    labels=ifelse(rank.var<=1500,'variable','non-variable'))\n",
    "        # psize()\n",
    "        # df.plot%>%ggplot(aes(x=mean,y=var))+geom_point(aes(color=labels),cex=1,alpha=0.5)+theme_classic()#+xlim(c(0,20))+ylim(c(0,400))\n",
    "\n",
    "        select.peaks <- df.plot%>%filter(labels=='variable')%>%rownames\n",
    "        df_out.sub <- df_out[select.peaks,]\n",
    "\n",
    " })\n",
    "    "
   ]
  },
  {
   "cell_type": "code",
   "execution_count": null,
   "metadata": {},
   "outputs": [],
   "source": [
    "library(umap)\n",
    "\n",
    "register(MulticoreParam(60))\n",
    "set.seed(2019)\n",
    "\n",
    "\n",
    "run_umap <- function(fm_mat){\n",
    "    umap_object = umap(t(fm_mat),random_state = 2019)\n",
    "    df_umap = umap_object$layout\n",
    "    return(df_umap)\n",
    "}"
   ]
  },
  {
   "cell_type": "code",
   "execution_count": null,
   "metadata": {},
   "outputs": [],
   "source": [
    " tsne <- deviationsTsne(dev, threshold = 1.5, perplexity = 10)"
   ]
  },
  {
   "cell_type": "code",
   "execution_count": null,
   "metadata": {},
   "outputs": [],
   "source": [
    " umaps <- tsne"
   ]
  },
  {
   "cell_type": "code",
   "execution_count": null,
   "metadata": {},
   "outputs": [],
   "source": [
    "res.top <- (list(df_out=df_out,\n",
    "            tsne=tsne,\n",
    "            umap=umaps))"
   ]
  },
  {
   "cell_type": "code",
   "execution_count": null,
   "metadata": {
    "tags": []
   },
   "outputs": [],
   "source": [
    "a=fun_densityClust(res = res.top,labels=metadata[,'label'],title='all',\n",
    "                                   rho_=15,delta_=10)"
   ]
  },
  {
   "cell_type": "markdown",
   "metadata": {},
   "source": [
    "## top 50K HVFs"
   ]
  },
  {
   "cell_type": "code",
   "execution_count": null,
   "metadata": {
    "scrolled": true
   },
   "outputs": [],
   "source": [
    "peakfile <- \"../../datafr/regions/top2.regions.bed\""
   ]
  },
  {
   "cell_type": "code",
   "execution_count": null,
   "metadata": {
    "tags": []
   },
   "outputs": [],
   "source": [
    "suppressMessages({   \n",
    "        peaks <- getPeaks(peakfile, sort_peaks = TRUE)\n",
    "        peaks <- resize(peaks, width = 500, fix = \"center\")\n",
    "\n",
    "        seqinfo(peaks) <- Seqinfo(genome=\"hg19\")\n",
    "        peaks <- trim(peaks)\n",
    "\n",
    "        cellnames <- sapply(strsplit(bamfile,'.',fixed = TRUE), \"[[\", 1)\n",
    "\n",
    "        fragment_counts <- getCounts(paste0(\"../../../../../test_data/Buenrostro_2018/bam/files/sc-bams_nodup/\",bamfile), \n",
    "                                     peaks, \n",
    "                                     paired =  TRUE, \n",
    "                                     by_rg = TRUE, \n",
    "                                     format = \"bam\", \n",
    "                                     colData = data.frame(celltype = cellnames))\n",
    "\n",
    "        fragment_counts <- addGCBias(fragment_counts, genome = BSgenome.Hsapiens.UCSC.hg19)\n",
    "        a=resize(fragment_counts, width = 500, fix = \"center\")\n",
    "        a=sort(a)\n",
    "\n",
    "        counts_filtered <- filterPeaks(a, non_overlapping = TRUE)\n",
    "\n",
    "        bg <- getBackgroundPeaks(counts_filtered)\n",
    "        # Potentially save the bg object\n",
    "        # saveRDS(bg, file = \"bulkPeaks_background_peaks_kmers.rds\")\n",
    "\n",
    "        kmer_ix <- matchKmers(6, counts_filtered, genome = BSgenome.Hsapiens.UCSC.hg19)\n",
    "\n",
    "        dev <- computeDeviations(object = counts_filtered, annotations = kmer_ix,\n",
    "                                 background_peaks = bg)\n",
    "\n",
    "        df_zscores = dev@assays@data$z\n",
    "\n",
    "        df_out <- df_zscores\n",
    "\n",
    "        ############## UMAP ############\n",
    "\n",
    "        ## subset according to variance, to make feature number less than observation to plot umap\n",
    "        df = df_out\n",
    "\n",
    "        df.vars=df%>%apply(1,var)\n",
    "        df.means=df%>%apply(1,mean)\n",
    "\n",
    "        df.plot <- df.vars%>%cbind(df.means)%>%as.data.frame%>%rename_with(~c('var','mean'))\n",
    "        df.plot <- df.plot%>%mutate(rank.var= base::rank(plyr::desc(var)),\n",
    "                                    rank.mean=base::rank(plyr::desc(mean)),\n",
    "                                    labels=ifelse(rank.var<=1500,'variable','non-variable'))\n",
    "        # psize()\n",
    "        # df.plot%>%ggplot(aes(x=mean,y=var))+geom_point(aes(color=labels),cex=1,alpha=0.5)+theme_classic()#+xlim(c(0,20))+ylim(c(0,400))\n",
    "\n",
    "        select.peaks <- df.plot%>%filter(labels=='variable')%>%rownames\n",
    "        df_out.sub <- df_out[select.peaks,]\n",
    "\n",
    "        umap <- run_umap(df_out.sub)\n",
    "\n",
    "        ################# TSNE #################\n",
    "        tsne <- deviationsTsne(dev, threshold = 1.5, perplexity = 10)\n",
    "\n",
    "        # variability <- computeVariability(dev)\n",
    "        # plotVariability(variability, use_plotly = FALSE)\n",
    " })\n",
    "\n",
    "res.top2 <- (list(df_out=df_out,\n",
    "            tsne=tsne,\n",
    "            umap=umap))\n",
    "    "
   ]
  },
  {
   "cell_type": "code",
   "execution_count": null,
   "metadata": {
    "tags": []
   },
   "outputs": [],
   "source": [
    "a=fun_densityClust(res = res.top2,labels=metadata[,'label'],title='all',\n",
    "                                   rho_=15,delta_=15)"
   ]
  },
  {
   "cell_type": "markdown",
   "metadata": {},
   "source": [
    "# ALL"
   ]
  },
  {
   "cell_type": "code",
   "execution_count": null,
   "metadata": {
    "scrolled": true
   },
   "outputs": [],
   "source": [
    "peakfile <- \"../../datafr/regions/hk.long.excl.bed\""
   ]
  },
  {
   "cell_type": "code",
   "execution_count": null,
   "metadata": {
    "tags": []
   },
   "outputs": [],
   "source": [
    "suppressMessages({   \n",
    "        peaks <- getPeaks(peakfile, sort_peaks = TRUE)\n",
    "        peaks <- resize(peaks, width = 500, fix = \"center\")\n",
    "\n",
    "        seqinfo(peaks) <- Seqinfo(genome=\"hg19\")\n",
    "        peaks <- trim(peaks)\n",
    "\n",
    "        cellnames <- sapply(strsplit(bamfile,'.',fixed = TRUE), \"[[\", 1)\n",
    "\n",
    "        fragment_counts <- getCounts(paste0(\"../../../../../test_data/Buenrostro_2018/bam/files/sc-bams_nodup/\",bamfile), \n",
    "                                     peaks, \n",
    "                                     paired =  TRUE, \n",
    "                                     by_rg = TRUE, \n",
    "                                     format = \"bam\", \n",
    "                                     colData = data.frame(celltype = cellnames))\n",
    "\n",
    "        fragment_counts <- addGCBias(fragment_counts, genome = BSgenome.Hsapiens.UCSC.hg19)\n",
    "        a=resize(fragment_counts, width = 500, fix = \"center\")\n",
    "        a=sort(a)\n",
    "\n",
    "        counts_filtered <- filterPeaks(a, non_overlapping = TRUE)\n",
    "\n",
    "        bg <- getBackgroundPeaks(counts_filtered)\n",
    "        # Potentially save the bg object\n",
    "        # saveRDS(bg, file = \"bulkPeaks_background_peaks_kmers.rds\")\n",
    "\n",
    "        kmer_ix <- matchKmers(6, counts_filtered, genome = BSgenome.Hsapiens.UCSC.hg19)\n",
    "\n",
    "        dev <- computeDeviations(object = counts_filtered, annotations = kmer_ix,\n",
    "                                 background_peaks = bg)\n",
    "\n",
    "        df_zscores = dev@assays@data$z\n",
    "\n",
    "        df_out <- df_zscores\n",
    "\n",
    "        ############## UMAP ############\n",
    "\n",
    "        ## subset according to variance, to make feature number less than observation to plot umap\n",
    "        df = df_out\n",
    "\n",
    "        df.vars=df%>%apply(1,var)\n",
    "        df.means=df%>%apply(1,mean)\n",
    "\n",
    "        df.plot <- df.vars%>%cbind(df.means)%>%as.data.frame%>%rename_with(~c('var','mean'))\n",
    "        df.plot <- df.plot%>%mutate(rank.var= base::rank(plyr::desc(var)),\n",
    "                                    rank.mean=base::rank(plyr::desc(mean)),\n",
    "                                    labels=ifelse(rank.var<=1500,'variable','non-variable'))\n",
    "        # psize()\n",
    "        # df.plot%>%ggplot(aes(x=mean,y=var))+geom_point(aes(color=labels),cex=1,alpha=0.5)+theme_classic()#+xlim(c(0,20))+ylim(c(0,400))\n",
    "\n",
    "        select.peaks <- df.plot%>%filter(labels=='variable')%>%rownames\n",
    "        df_out.sub <- df_out[select.peaks,]\n",
    "\n",
    "        umap <- run_umap(df_out.sub)\n",
    "\n",
    "        ################# TSNE #################\n",
    "        tsne <- deviationsTsne(dev, threshold = 1.5, perplexity = 10)\n",
    "\n",
    "        # variability <- computeVariability(dev)\n",
    "        # plotVariability(variability, use_plotly = FALSE)\n",
    " })\n",
    "\n",
    "res.hk.long.excl <- (list(df_out=df_out,\n",
    "            tsne=tsne,\n",
    "            umap=umap))\n",
    "    "
   ]
  },
  {
   "cell_type": "code",
   "execution_count": null,
   "metadata": {
    "tags": []
   },
   "outputs": [],
   "source": [
    "a=fun_densityClust(res = res.hk.long.excl,labels=metadata[,'label'],title='all',\n",
    "                                   rho_=15,delta_=15)"
   ]
  },
  {
   "cell_type": "markdown",
   "metadata": {
    "tags": []
   },
   "source": [
    "# plot"
   ]
  },
  {
   "cell_type": "code",
   "execution_count": null,
   "metadata": {},
   "outputs": [],
   "source": [
    "psize(12,2.2)"
   ]
  },
  {
   "cell_type": "code",
   "execution_count": null,
   "metadata": {},
   "outputs": [],
   "source": [
    "plot.list <- c()"
   ]
  },
  {
   "cell_type": "code",
   "execution_count": null,
   "metadata": {
    "tags": []
   },
   "outputs": [],
   "source": [
    "plot.list[['top']]=fun_densityClust(res = res.top,labels=metadata[,'label'],title='top',\n",
    "                   rho_=15,delta_=15)\n",
    "plot.list[['res.hk.long.excl']]=fun_densityClust(res = res.hk.long.excl,labels=metadata[,'label'],title='res.hk.long.excl',rho_=15,delta_=10)\n",
    "plot.list[['top2']]=fun_densityClust(res = res.top2,labels=metadata[,'label'],title='top',\n",
    "                   rho_=15,delta_=15)"
   ]
  },
  {
   "cell_type": "code",
   "execution_count": null,
   "metadata": {
    "tags": []
   },
   "outputs": [],
   "source": [
    "pdf('./plots/cpeaks.pdf',width = 12,height = 2)\n",
    "plot.list%>%lapply(function(x){grid.arrange(x$plot$plot.clusterNum,\n",
    "                            x$plot$plot.tsne.cluster,\n",
    "                            x$plot$plot.umap.cluster,\n",
    "                           x$plot$plot.tsne.label+theme(legend.position = 'none'),\n",
    "                           x$plot$plot.umap.label+theme(legend.position = 'none'),ncol=5)})\n",
    "dev.off()"
   ]
  },
  {
   "cell_type": "markdown",
   "metadata": {},
   "source": [
    "# saveRDS"
   ]
  },
  {
   "cell_type": "code",
   "execution_count": null,
   "metadata": {},
   "outputs": [],
   "source": [
    "rds.list <- list(res.top=res.top,\n",
    "                 res.top2=res.top2,\n",
    "                 res.hk.long.excl=res.hk.long.excl)"
   ]
  },
  {
   "cell_type": "code",
   "execution_count": null,
   "metadata": {
    "tags": []
   },
   "outputs": [],
   "source": [
    "rds.list%>%names%>%lapply(function(x){\n",
    "    \n",
    "    saveRDS(rds.list[[x]]$df_out,file = paste0('.//rds/FM_cpeaks-',gsub('\\\\.','-',x),'_data1.rds'))\n",
    "    \n",
    "})"
   ]
  },
  {
   "cell_type": "code",
   "execution_count": null,
   "metadata": {},
   "outputs": [],
   "source": []
  }
 ],
 "metadata": {
  "kernelspec": {
   "display_name": "R",
   "language": "R",
   "name": "ir"
  },
  "language_info": {
   "codemirror_mode": "r",
   "file_extension": ".r",
   "mimetype": "text/x-r-source",
   "name": "R",
   "pygments_lexer": "r",
   "version": "4.1.3"
  }
 },
 "nbformat": 4,
 "nbformat_minor": 4
}
