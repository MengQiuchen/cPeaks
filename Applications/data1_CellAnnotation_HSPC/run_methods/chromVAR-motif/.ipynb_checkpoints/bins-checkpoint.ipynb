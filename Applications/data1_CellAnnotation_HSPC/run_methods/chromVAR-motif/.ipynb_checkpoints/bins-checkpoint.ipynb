{
 "cells": [
  {
   "cell_type": "code",
   "execution_count": null,
   "metadata": {
    "tags": []
   },
   "outputs": [],
   "source": [
    "source('../../../../source//basic.r')\n",
    "\n",
    "source('../../../validataion.r')\n",
    "\n",
    "source('method.r')"
   ]
  },
  {
   "cell_type": "code",
   "execution_count": null,
   "metadata": {},
   "outputs": [],
   "source": [
    "register(MulticoreParam(60))"
   ]
  },
  {
   "cell_type": "markdown",
   "metadata": {},
   "source": [
    "# Embedding"
   ]
  },
  {
   "cell_type": "code",
   "execution_count": null,
   "metadata": {},
   "outputs": [],
   "source": [
    "metadata <- read.table('../../raw_data/input/metadata.tsv',\n",
    "                         header = TRUE,\n",
    "                         stringsAsFactors=FALSE,quote=\"\",row.names=1)"
   ]
  },
  {
   "cell_type": "code",
   "execution_count": null,
   "metadata": {},
   "outputs": [],
   "source": [
    "bamfile <- list.files(path = \"../../raw_data/bam/files/sc-bams_nodup/\", pattern = \"\\\\.bam$\")"
   ]
  },
  {
   "cell_type": "markdown",
   "metadata": {},
   "source": [
    "## top 5K HVFs"
   ]
  },
  {
   "cell_type": "code",
   "execution_count": null,
   "metadata": {
    "scrolled": true
   },
   "outputs": [],
   "source": [
    "peakfile <- \"../../datafr/regions/bins.top.regions.bed\""
   ]
  },
  {
   "cell_type": "code",
   "execution_count": null,
   "metadata": {
    "tags": []
   },
   "outputs": [],
   "source": [
    "suppressMessages({   \n",
    "        peaks <- getPeaks(peakfile, sort_peaks = TRUE)\n",
    "        peaks <- resize(peaks, width = 500, fix = \"center\")\n",
    "\n",
    "        seqinfo(peaks) <- Seqinfo(genome=\"hg19\")\n",
    "        peaks <- trim(peaks)\n",
    "\n",
    "        cellnames <- sapply(strsplit(bamfile,'.',fixed = TRUE), \"[[\", 1)\n",
    "\n",
    "        fragment_counts <- getCounts(paste0(\"../../raw_data/bam/files/sc-bams_nodup/\",bamfile), \n",
    "                                     peaks, \n",
    "                                     paired =  TRUE, \n",
    "                                     by_rg = TRUE, \n",
    "                                     format = \"bam\", \n",
    "                                     colData = data.frame(celltype = cellnames))\n",
    "\n",
    "        fragment_counts <- addGCBias(fragment_counts, genome = BSgenome.Hsapiens.UCSC.hg19)\n",
    "        a=resize(fragment_counts, width = 500, fix = \"center\")\n",
    "        a=sort(a)\n",
    "\n",
    "        counts_filtered <- filterPeaks(a, non_overlapping = TRUE)\n",
    "\n",
    "        bg <- getBackgroundPeaks(counts_filtered)\n",
    "        # Potentially save the bg object\n",
    "        # saveRDS(bg, file = \"bulkPeaks_background_peaks_kmers.rds\")\n",
    "\n",
    "        kmer_ix <- matchKmers(6, counts_filtered, genome = BSgenome.Hsapiens.UCSC.hg19)\n",
    "\n",
    "        dev <- computeDeviations(object = counts_filtered, annotations = kmer_ix,\n",
    "                                 background_peaks = bg)\n",
    "\n",
    "        df_zscores = dev@assays@data$z\n",
    "\n",
    "        df_out <- df_zscores\n",
    " })"
   ]
  },
  {
   "cell_type": "code",
   "execution_count": null,
   "metadata": {
    "tags": []
   },
   "outputs": [],
   "source": [
    "############## UMAP ############\n",
    "\n",
    "umap <- run_umap(df_out[!is.na(rowSums(df_out)),])"
   ]
  },
  {
   "cell_type": "code",
   "execution_count": null,
   "metadata": {
    "tags": []
   },
   "outputs": [],
   "source": [
    "################# TSNE #################\n",
    "tsne <- deviationsTsne(dev, threshold = 0.5, perplexity = 10)\n",
    "\n",
    "# variability <- computeVariability(dev)\n",
    "# plotVariability(variability, use_plotly = FALSE)\n",
    "\n",
    "\n",
    "res.top <- (list(df_out=df_out,\n",
    "            tsne=tsne,\n",
    "            umap=umap))\n",
    "    "
   ]
  },
  {
   "cell_type": "code",
   "execution_count": null,
   "metadata": {
    "tags": []
   },
   "outputs": [],
   "source": [
    "a=fun_densityClust(res = res.top,labels=metadata[,'label'],title='all',\n",
    "                                   rho_=15,delta_=15)"
   ]
  },
  {
   "cell_type": "markdown",
   "metadata": {},
   "source": [
    "## top 50K HVFs"
   ]
  },
  {
   "cell_type": "code",
   "execution_count": null,
   "metadata": {
    "scrolled": true
   },
   "outputs": [],
   "source": [
    "peakfile <- \"../chromVAR-kmers//regions/bins2.top.regions.bed\""
   ]
  },
  {
   "cell_type": "code",
   "execution_count": null,
   "metadata": {
    "tags": []
   },
   "outputs": [],
   "source": [
    "suppressMessages({   \n",
    "        peaks <- getPeaks(peakfile, sort_peaks = TRUE)\n",
    "        peaks <- resize(peaks, width = 500, fix = \"center\")\n",
    "\n",
    "        seqinfo(peaks) <- Seqinfo(genome=\"hg19\")\n",
    "        peaks <- trim(peaks)\n",
    "\n",
    "        cellnames <- sapply(strsplit(bamfile,'.',fixed = TRUE), \"[[\", 1)\n",
    "\n",
    "        fragment_counts <- getCounts(paste0(\"../../../../../test_data/Buenrostro_2018/bam/files/sc-bams_nodup/\",bamfile), \n",
    "                                     peaks, \n",
    "                                     paired =  TRUE, \n",
    "                                     by_rg = TRUE, \n",
    "                                     format = \"bam\", \n",
    "                                     colData = data.frame(celltype = cellnames))\n",
    "\n",
    "        fragment_counts <- addGCBias(fragment_counts, genome = BSgenome.Hsapiens.UCSC.hg19)\n",
    "        a=resize(fragment_counts, width = 500, fix = \"center\")\n",
    "        a=sort(a)\n",
    "\n",
    "        counts_filtered <- filterPeaks(a, non_overlapping = TRUE)\n",
    "\n",
    "        bg <- getBackgroundPeaks(counts_filtered)\n",
    "        # Potentially save the bg object\n",
    "        # saveRDS(bg, file = \"bulkPeaks_background_peaks_kmers.rds\")\n",
    "\n",
    "        kmer_ix <- matchKmers(6, counts_filtered, genome = BSgenome.Hsapiens.UCSC.hg19)\n",
    "\n",
    "        dev <- computeDeviations(object = counts_filtered, annotations = kmer_ix,\n",
    "                                 background_peaks = bg)\n",
    "\n",
    "        df_zscores = dev@assays@data$z\n",
    "\n",
    "        df_out <- df_zscores\n",
    " })"
   ]
  },
  {
   "cell_type": "code",
   "execution_count": null,
   "metadata": {
    "tags": []
   },
   "outputs": [],
   "source": [
    "############## UMAP ############\n",
    "\n",
    "umap <- run_umap(df_out[!is.na(rowSums(df_out)),])"
   ]
  },
  {
   "cell_type": "code",
   "execution_count": null,
   "metadata": {
    "tags": []
   },
   "outputs": [],
   "source": [
    "################# TSNE #################\n",
    "tsne <- deviationsTsne(dev, threshold = 0.5, perplexity = 10)\n",
    "\n",
    "# variability <- computeVariability(dev)\n",
    "# plotVariability(variability, use_plotly = FALSE)\n",
    "\n",
    "\n",
    "res.top2 <- (list(df_out=df_out,\n",
    "            tsne=tsne,\n",
    "            umap=umap))\n",
    "    "
   ]
  },
  {
   "cell_type": "code",
   "execution_count": null,
   "metadata": {
    "tags": []
   },
   "outputs": [],
   "source": [
    "a=fun_densityClust(res = res.top2,labels=metadata[,'label'],title='all',\n",
    "                                   rho_=15,delta_=15)"
   ]
  },
  {
   "cell_type": "markdown",
   "metadata": {},
   "source": [
    "# ALL"
   ]
  },
  {
   "cell_type": "code",
   "execution_count": null,
   "metadata": {
    "scrolled": true
   },
   "outputs": [],
   "source": [
    "peakfile <- \"regions/bins.24chr.bed\""
   ]
  },
  {
   "cell_type": "code",
   "execution_count": null,
   "metadata": {
    "tags": []
   },
   "outputs": [],
   "source": [
    "suppressMessages({   \n",
    "        peaks <- getPeaks(peakfile, sort_peaks = TRUE)\n",
    "        peaks <- resize(peaks, width = 500, fix = \"center\")\n",
    "\n",
    "        seqinfo(peaks) <- Seqinfo(genome=\"hg19\")\n",
    "        peaks <- trim(peaks)\n",
    "\n",
    "        cellnames <- sapply(strsplit(bamfile,'.',fixed = TRUE), \"[[\", 1)\n",
    "\n",
    "        fragment_counts <- getCounts(paste0(\"../../../../../test_data/Buenrostro_2018/bam/files/sc-bams_nodup/\",bamfile), \n",
    "                                     peaks, \n",
    "                                     paired =  TRUE, \n",
    "                                     by_rg = TRUE, \n",
    "                                     format = \"bam\", \n",
    "                                     colData = data.frame(celltype = cellnames))\n",
    "\n",
    "        fragment_counts <- addGCBias(fragment_counts, genome = BSgenome.Hsapiens.UCSC.hg19)\n",
    "        a=resize(fragment_counts, width = 500, fix = \"center\")\n",
    "        a=sort(a)\n",
    "\n",
    "        counts_filtered <- filterPeaks(a, non_overlapping = TRUE)\n",
    "\n",
    "        bg <- getBackgroundPeaks(counts_filtered)\n",
    "        # Potentially save the bg object\n",
    "        # saveRDS(bg, file = \"bulkPeaks_background_peaks_kmers.rds\")\n",
    "\n",
    "        kmer_ix <- matchKmers(6, counts_filtered, genome = BSgenome.Hsapiens.UCSC.hg19)\n",
    "\n",
    "        dev <- computeDeviations(object = counts_filtered, annotations = kmer_ix,\n",
    "                                 background_peaks = bg)\n",
    "\n",
    "        df_zscores = dev@assays@data$z\n",
    "\n",
    "        df_out <- df_zscores\n",
    " })"
   ]
  },
  {
   "cell_type": "code",
   "execution_count": null,
   "metadata": {
    "tags": []
   },
   "outputs": [],
   "source": [
    "        ############## UMAP ############\n",
    "\n",
    "        umap <- run_umap(df_out[!is.na(rowSums(df_out)),])\n",
    "\n",
    "        ################# TSNE #################\n",
    "        tsne <- deviationsTsne(dev, threshold = 1.5, perplexity = 10)\n",
    "\n",
    "        # variability <- computeVariability(dev)\n",
    "        # plotVariability(variability, use_plotly = FALSE)\n",
    "\n",
    "\n",
    "res.all <- (list(df_out=df_out,\n",
    "            tsne=tsne,\n",
    "            umap=umap))\n",
    "    "
   ]
  },
  {
   "cell_type": "markdown",
   "metadata": {},
   "source": [
    "# save to RDS"
   ]
  },
  {
   "cell_type": "code",
   "execution_count": null,
   "metadata": {},
   "outputs": [],
   "source": [
    "psize(12,2.2)"
   ]
  },
  {
   "cell_type": "code",
   "execution_count": null,
   "metadata": {},
   "outputs": [],
   "source": [
    "plot.list <- c()"
   ]
  },
  {
   "cell_type": "code",
   "execution_count": null,
   "metadata": {
    "tags": []
   },
   "outputs": [],
   "source": [
    "plot.list[['all']]=fun_densityClust(res = res.all,labels=metadata[,'label'],title='all')\n",
    "plot.list[['top']]=fun_densityClust(res = res.top,labels=metadata[,'label'],title='top',\n",
    "                   rho_=15,delta_=15)\n",
    "plot.list[['top2']]=fun_densityClust(res = res.top2,labels=metadata[,'label'],title='top',\n",
    "                   rho_=15,delta_=15)"
   ]
  },
  {
   "cell_type": "code",
   "execution_count": null,
   "metadata": {
    "tags": []
   },
   "outputs": [],
   "source": [
    "pdf('./plots/bins.pdf',width = 12,height = 2)\n",
    "plot.list%>%lapply(function(x){grid.arrange(x$plot$plot.clusterNum,\n",
    "                            x$plot$plot.tsne.cluster,\n",
    "                            x$plot$plot.umap.cluster,\n",
    "                           x$plot$plot.tsne.label+theme(legend.position = 'none'),\n",
    "                           x$plot$plot.umap.label+theme(legend.position = 'none'),ncol=5)})\n",
    "dev.off()"
   ]
  },
  {
   "cell_type": "code",
   "execution_count": null,
   "metadata": {},
   "outputs": [],
   "source": [
    "rds.list <- list(res.all=res.all,\n",
    "    res.top=res.top,res.top2=res.top2)"
   ]
  },
  {
   "cell_type": "code",
   "execution_count": null,
   "metadata": {},
   "outputs": [],
   "source": [
    "rds.list%>%names%>%lapply(function(x){\n",
    "    \n",
    "    saveRDS(rds.list[[x]]$df_out,file = paste0('.//rds/FM_bins-',gsub('\\\\.','-',x),'_data1.rds'))\n",
    "    \n",
    "})"
   ]
  }
 ],
 "metadata": {
  "kernelspec": {
   "display_name": "R",
   "language": "R",
   "name": "ir"
  },
  "language_info": {
   "codemirror_mode": "r",
   "file_extension": ".r",
   "mimetype": "text/x-r-source",
   "name": "R",
   "pygments_lexer": "r",
   "version": "4.1.3"
  }
 },
 "nbformat": 4,
 "nbformat_minor": 4
}
