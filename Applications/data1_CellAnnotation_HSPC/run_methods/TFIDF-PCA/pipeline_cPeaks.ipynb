{
 "cells": [
  {
   "cell_type": "code",
   "execution_count": 1,
   "id": "7fd7d1b4-556c-4ea7-8a63-6a40af906a4e",
   "metadata": {},
   "outputs": [],
   "source": [
    "source('../../../../source/basic.r')"
   ]
  },
  {
   "cell_type": "code",
   "execution_count": 2,
   "id": "cfbea84c-edb4-44e0-81ff-a36a62d9f032",
   "metadata": {},
   "outputs": [
    {
     "name": "stderr",
     "output_type": "stream",
     "text": [
      "Warning message:\n",
      "“no function found corresponding to methods exports from ‘BSgenome’ for: ‘releaseName’”\n",
      "\n",
      "Attaching package: 'patchwork'\n",
      "\n",
      "\n",
      "The following object is masked from 'package:MASS':\n",
      "\n",
      "    area\n",
      "\n",
      "\n"
     ]
    }
   ],
   "source": [
    "source('../../../validataion.r')"
   ]
  },
  {
   "cell_type": "markdown",
   "id": "84769d55-5a59-45cc-b37b-dcde7731a55a",
   "metadata": {},
   "source": [
    "# read data"
   ]
  },
  {
   "cell_type": "code",
   "execution_count": 3,
   "id": "bf30e92c-da33-4782-85c6-ebd2ebf4fbd5",
   "metadata": {},
   "outputs": [],
   "source": [
    "datafr.all<- qread('../..//datafr/cpeaks.datafr.qs')"
   ]
  },
  {
   "cell_type": "code",
   "execution_count": 7,
   "id": "03417041-afb9-4925-9f82-ac5a03ea4052",
   "metadata": {},
   "outputs": [
    {
     "data": {
      "text/html": [
       "<style>\n",
       ".list-inline {list-style: none; margin:0; padding: 0}\n",
       ".list-inline>li {display: inline-block}\n",
       ".list-inline>li:not(:last-child)::after {content: \"\\00b7\"; padding: 0 .5ex}\n",
       "</style>\n",
       "<ol class=list-inline><li>1368870</li><li>2034</li></ol>\n"
      ],
      "text/latex": [
       "\\begin{enumerate*}\n",
       "\\item 1368870\n",
       "\\item 2034\n",
       "\\end{enumerate*}\n"
      ],
      "text/markdown": [
       "1. 1368870\n",
       "2. 2034\n",
       "\n",
       "\n"
      ],
      "text/plain": [
       "[1] 1368870    2034"
      ]
     },
     "metadata": {},
     "output_type": "display_data"
    }
   ],
   "source": [
    "datafr.all%>%dim"
   ]
  },
  {
   "cell_type": "code",
   "execution_count": 10,
   "id": "e716f401-ec87-4b1b-bef3-f1c6cfe0801f",
   "metadata": {},
   "outputs": [],
   "source": [
    "metadata <- read.table('../../raw_data/input/metadata.tsv',\n",
    "                         header = TRUE,\n",
    "                         stringsAsFactors=FALSE,quote=\"\",row.names=1)"
   ]
  },
  {
   "cell_type": "code",
   "execution_count": 11,
   "id": "2de5b256-e7b6-4439-8274-8ca9376ec758",
   "metadata": {},
   "outputs": [],
   "source": [
    "labels = metadata$label\n"
   ]
  },
  {
   "cell_type": "code",
   "execution_count": 12,
   "id": "5061f70c-c684-4c83-9405-5b57e6003ec0",
   "metadata": {},
   "outputs": [],
   "source": [
    "df_regions = read_table('/nfs/mqc/Consensus_peak/code/cpeaks/hg19/cpeaks.hg19.v3_1.bed',col_types =cols())"
   ]
  },
  {
   "cell_type": "markdown",
   "id": "cd6c2e62-8796-4b9a-befd-449a1dea6798",
   "metadata": {},
   "source": [
    "# run functions"
   ]
  },
  {
   "cell_type": "markdown",
   "id": "ee87fe72-3838-4265-8491-dac5505c6ba7",
   "metadata": {},
   "source": [
    "## all features"
   ]
  },
  {
   "cell_type": "code",
   "execution_count": 292,
   "id": "c8344830-e0ff-4a24-9e75-7ee1298edb53",
   "metadata": {},
   "outputs": [],
   "source": [
    "psize(10,10)"
   ]
  },
  {
   "cell_type": "code",
   "execution_count": 293,
   "id": "de7c81f0-388c-4dd3-ac87-a9a448d13223",
   "metadata": {},
   "outputs": [
    {
     "name": "stderr",
     "output_type": "stream",
     "text": [
      "Warning message in asMethod(object):\n",
      "\"sparse->dense coercion: allocating vector of size 2.0 GiB\"\n",
      "2.65600224733353\n",
      "\n"
     ]
    }
   ],
   "source": [
    "res.all=fun_all(datafr.all,plot.hist = FALSE)"
   ]
  },
  {
   "cell_type": "markdown",
   "id": "d1587c1e-49f9-4c8a-b7f4-4b5c1289646c",
   "metadata": {
    "tags": []
   },
   "source": [
    "## exclude HK and long regions (>2k)"
   ]
  },
  {
   "cell_type": "code",
   "execution_count": 775,
   "id": "f8cca438-2411-4e82-8f1f-ea7abe889ae7",
   "metadata": {},
   "outputs": [],
   "source": [
    "select.peaks <- qread('../../cpeaks_filteredFeature/hk.long.excl.qs')"
   ]
  },
  {
   "cell_type": "code",
   "execution_count": 334,
   "id": "7dbd1725-0709-4973-a929-8a03f46b737f",
   "metadata": {
    "tags": []
   },
   "outputs": [],
   "source": [
    "a=datafr.all[which(rownames(datafr.all)%in%select.peaks),]"
   ]
  },
  {
   "cell_type": "code",
   "execution_count": 336,
   "id": "522a3484-d297-4c47-b7c4-d1ad4c25ece4",
   "metadata": {},
   "outputs": [
    {
     "name": "stderr",
     "output_type": "stream",
     "text": [
      "Warning message in asMethod(object):\n",
      "\"sparse->dense coercion: allocating vector of size 1.6 GiB\"\n",
      "3.49729523658752\n",
      "\n"
     ]
    }
   ],
   "source": [
    "res.hk.long.excl=fun_all(a,plot.hist = FALSE)"
   ]
  },
  {
   "cell_type": "markdown",
   "id": "25e9eef5-42b9-4fbf-a796-212e086b768a",
   "metadata": {
    "tags": []
   },
   "source": [
    "## top 5K HVFs"
   ]
  },
  {
   "cell_type": "code",
   "execution_count": 786,
   "id": "48d7ad26-bed7-40f9-998f-1117461da364",
   "metadata": {},
   "outputs": [],
   "source": [
    "select.peaks <- qread('../../cpeaks_filteredFeature/top.regions.qs')"
   ]
  },
  {
   "cell_type": "code",
   "execution_count": 409,
   "id": "d21a5ea9-10d2-4c15-9ae1-cc5a79065902",
   "metadata": {},
   "outputs": [
    {
     "name": "stderr",
     "output_type": "stream",
     "text": [
      "8.78920006752014\n",
      "\n"
     ]
    }
   ],
   "source": [
    "res.top=fun_all(datafr.all[select.peaks,],plot.hist = FALSE)"
   ]
  },
  {
   "cell_type": "markdown",
   "id": "75c00f90-cb66-461c-be9a-92abe7fe6cc0",
   "metadata": {
    "tags": []
   },
   "source": [
    "## top 50k regions"
   ]
  },
  {
   "cell_type": "code",
   "execution_count": 23,
   "id": "180d3c13-eed4-4770-8068-ef26c78f7a7d",
   "metadata": {},
   "outputs": [],
   "source": [
    "select.peaks <- qread('../../cpeaks_filteredFeature/top2.regions.qs')"
   ]
  },
  {
   "cell_type": "code",
   "execution_count": 14,
   "id": "a826cb55-7cbe-4ab0-9975-2fbce944cbf6",
   "metadata": {},
   "outputs": [
    {
     "name": "stderr",
     "output_type": "stream",
     "text": [
      "41.6253728866577\n",
      "\n"
     ]
    }
   ],
   "source": [
    "res.top2=fun_all(datafr.all[select.peaks,],plot.hist = FALSE)"
   ]
  },
  {
   "cell_type": "markdown",
   "id": "56440ca7-0dfb-445d-9cbd-81c35c6b818b",
   "metadata": {
    "tags": []
   },
   "source": [
    "# plots"
   ]
  },
  {
   "cell_type": "code",
   "execution_count": 749,
   "id": "00ce9baf-98b2-4e9a-b1bc-644dedeae856",
   "metadata": {},
   "outputs": [],
   "source": [
    "psize(12,2.2)"
   ]
  },
  {
   "cell_type": "code",
   "execution_count": 671,
   "id": "ac7ddae4-2e03-4459-8a69-0a2d84b0d3e3",
   "metadata": {},
   "outputs": [],
   "source": [
    "plot.list <- c()"
   ]
  },
  {
   "cell_type": "code",
   "execution_count": null,
   "id": "50133377-14bd-4878-8393-8284cdfaf4e9",
   "metadata": {
    "tags": []
   },
   "outputs": [],
   "source": [
    "plot.list[['top']]=fun_densityClust(res = res.top,labels=metadata[,'label'],title='top',\n",
    "                   rho_=5,delta_=5)\n",
    "plot.list[['top2']]=fun_densityClust(res = res.top,labels=metadata[,'label'],title='top',\n",
    "                   rho_=5,delta_=5)\n",
    "plot.list[['hk.long.excl']]=fun_densityClust(res = res.hk.long.excl,labels=metadata[,'label'],title='hk.long.excl',\n",
    "                   rho_=5,delta_=5)\n"
   ]
  },
  {
   "cell_type": "code",
   "execution_count": 769,
   "id": "337a7a60-b86a-40bb-84a6-3d9dfa33596a",
   "metadata": {
    "collapsed": true,
    "jupyter": {
     "outputs_hidden": true
    },
    "tags": []
   },
   "outputs": [
    {
     "name": "stderr",
     "output_type": "stream",
     "text": [
      "Warning message:\n",
      "\"ggrepel: 7 unlabeled data points (too many overlaps). Consider increasing max.overlaps\"\n",
      "Warning message:\n",
      "\"ggrepel: 10 unlabeled data points (too many overlaps). Consider increasing max.overlaps\"\n",
      "Warning message:\n",
      "\"ggrepel: 5 unlabeled data points (too many overlaps). Consider increasing max.overlaps\"\n"
     ]
    },
    {
     "data": {
      "text/plain": [
       "$all\n",
       "TableGrob (1 x 5) \"arrange\": 5 grobs\n",
       "  z     cells    name           grob\n",
       "1 1 (1-1,1-1) arrange gtable[layout]\n",
       "2 2 (1-1,2-2) arrange gtable[layout]\n",
       "3 3 (1-1,3-3) arrange gtable[layout]\n",
       "4 4 (1-1,4-4) arrange gtable[layout]\n",
       "5 5 (1-1,5-5) arrange gtable[layout]\n",
       "\n",
       "$b1\n",
       "TableGrob (1 x 5) \"arrange\": 5 grobs\n",
       "  z     cells    name           grob\n",
       "1 1 (1-1,1-1) arrange gtable[layout]\n",
       "2 2 (1-1,2-2) arrange gtable[layout]\n",
       "3 3 (1-1,3-3) arrange gtable[layout]\n",
       "4 4 (1-1,4-4) arrange gtable[layout]\n",
       "5 5 (1-1,5-5) arrange gtable[layout]\n",
       "\n",
       "$hk.excl\n",
       "TableGrob (1 x 5) \"arrange\": 5 grobs\n",
       "  z     cells    name           grob\n",
       "1 1 (1-1,1-1) arrange gtable[layout]\n",
       "2 2 (1-1,2-2) arrange gtable[layout]\n",
       "3 3 (1-1,3-3) arrange gtable[layout]\n",
       "4 4 (1-1,4-4) arrange gtable[layout]\n",
       "5 5 (1-1,5-5) arrange gtable[layout]\n",
       "\n",
       "$b2\n",
       "TableGrob (1 x 5) \"arrange\": 5 grobs\n",
       "  z     cells    name           grob\n",
       "1 1 (1-1,1-1) arrange gtable[layout]\n",
       "2 2 (1-1,2-2) arrange gtable[layout]\n",
       "3 3 (1-1,3-3) arrange gtable[layout]\n",
       "4 4 (1-1,4-4) arrange gtable[layout]\n",
       "5 5 (1-1,5-5) arrange gtable[layout]\n",
       "\n",
       "$top\n",
       "TableGrob (1 x 5) \"arrange\": 5 grobs\n",
       "  z     cells    name           grob\n",
       "1 1 (1-1,1-1) arrange gtable[layout]\n",
       "2 2 (1-1,2-2) arrange gtable[layout]\n",
       "3 3 (1-1,3-3) arrange gtable[layout]\n",
       "4 4 (1-1,4-4) arrange gtable[layout]\n",
       "5 5 (1-1,5-5) arrange gtable[layout]\n",
       "\n",
       "$hk\n",
       "TableGrob (1 x 5) \"arrange\": 5 grobs\n",
       "  z     cells    name           grob\n",
       "1 1 (1-1,1-1) arrange gtable[layout]\n",
       "2 2 (1-1,2-2) arrange gtable[layout]\n",
       "3 3 (1-1,3-3) arrange gtable[layout]\n",
       "4 4 (1-1,4-4) arrange gtable[layout]\n",
       "5 5 (1-1,5-5) arrange gtable[layout]\n",
       "\n",
       "$hk.long.excl\n",
       "TableGrob (1 x 5) \"arrange\": 5 grobs\n",
       "  z     cells    name           grob\n",
       "1 1 (1-1,1-1) arrange gtable[layout]\n",
       "2 2 (1-1,2-2) arrange gtable[layout]\n",
       "3 3 (1-1,3-3) arrange gtable[layout]\n",
       "4 4 (1-1,4-4) arrange gtable[layout]\n",
       "5 5 (1-1,5-5) arrange gtable[layout]\n",
       "\n",
       "$hk.long.lowrate.excl\n",
       "TableGrob (1 x 5) \"arrange\": 5 grobs\n",
       "  z     cells    name           grob\n",
       "1 1 (1-1,1-1) arrange gtable[layout]\n",
       "2 2 (1-1,2-2) arrange gtable[layout]\n",
       "3 3 (1-1,3-3) arrange gtable[layout]\n",
       "4 4 (1-1,4-4) arrange gtable[layout]\n",
       "5 5 (1-1,5-5) arrange gtable[layout]\n"
      ]
     },
     "metadata": {},
     "output_type": "display_data"
    },
    {
     "data": {
      "text/html": [
       "<strong>png:</strong> 2"
      ],
      "text/latex": [
       "\\textbf{png:} 2"
      ],
      "text/markdown": [
       "**png:** 2"
      ],
      "text/plain": [
       "png \n",
       "  2 "
      ]
     },
     "metadata": {},
     "output_type": "display_data"
    }
   ],
   "source": [
    "pdf('data1_HSC/plots/cpeaks.pdf',width = 12,height = 2)\n",
    "plot.list%>%lapply(function(x){grid.arrange(x$plot$plot.clusterNum,\n",
    "                            x$plot$plot.tsne.cluster,\n",
    "                            x$plot$plot.umap.cluster,\n",
    "                           x$plot$plot.tsne.label+theme(legend.position = 'none'),\n",
    "                           x$plot$plot.umap.label+theme(legend.position = 'none'),ncol=5)})\n",
    "dev.off()"
   ]
  },
  {
   "cell_type": "markdown",
   "id": "210539bc-de77-43c6-b791-c7811a89856c",
   "metadata": {
    "tags": []
   },
   "source": [
    "# save results to RDS"
   ]
  },
  {
   "cell_type": "code",
   "execution_count": 37,
   "id": "13d13169-c94e-47fa-bf9c-687f92eee094",
   "metadata": {},
   "outputs": [],
   "source": [
    "rds.list <- list(\n",
    "    res.top=res.top,\n",
    "    res.top2=res.top2,\n",
    "    res.hk.long.excl=res.hk.long.excl)"
   ]
  },
  {
   "cell_type": "code",
   "execution_count": null,
   "id": "a848353a-6d87-42fb-bc92-a809c08b8683",
   "metadata": {},
   "outputs": [],
   "source": [
    "rds.list%>%names%>%lapply(function(x){\n",
    "    \n",
    "    saveRDS(rds.list[[x]]$df_out,file = paste0('./rds/FM_cpeaks-',gsub('\\\\.','-',x),'_data1.rds'))\n",
    "    \n",
    "})"
   ]
  },
  {
   "cell_type": "code",
   "execution_count": null,
   "id": "f0bc91f9-bcd6-4170-871c-97d726b2bb15",
   "metadata": {},
   "outputs": [],
   "source": []
  },
  {
   "cell_type": "code",
   "execution_count": 432,
   "id": "cb2e5d80-387c-4249-91f7-bc8a8d303819",
   "metadata": {},
   "outputs": [],
   "source": [
    "\n",
    "\n"
   ]
  },
  {
   "cell_type": "code",
   "execution_count": null,
   "id": "db4f191c-b57b-4ee1-9165-cbfa1610b89a",
   "metadata": {},
   "outputs": [],
   "source": []
  },
  {
   "cell_type": "code",
   "execution_count": null,
   "id": "074c4484-88c1-446e-9719-705cda055967",
   "metadata": {},
   "outputs": [],
   "source": []
  },
  {
   "cell_type": "code",
   "execution_count": null,
   "id": "879f96f8-1300-4cf3-9440-b9a23497691e",
   "metadata": {},
   "outputs": [],
   "source": []
  },
  {
   "cell_type": "code",
   "execution_count": null,
   "id": "2434dbb1-5bb2-402a-8b1d-e274d68fb0cf",
   "metadata": {},
   "outputs": [],
   "source": []
  },
  {
   "cell_type": "code",
   "execution_count": null,
   "id": "95f8b692-e850-48aa-969a-bf1ba8d046f0",
   "metadata": {},
   "outputs": [],
   "source": [
    "list.files()"
   ]
  },
  {
   "cell_type": "code",
   "execution_count": 3,
   "id": "fa5d1e60-4878-422c-b53b-0efd7181e278",
   "metadata": {},
   "outputs": [],
   "source": [
    "select.peaks<- qread('./cpeaks_filteredFeature/top.regions.qs')\n",
    "\n",
    "cpeaks <- read_tsv('/nfs/mqc/Consensus_peak/code/cpeaks/hg19/cpeaks.hg19.v3_1.bed')\n",
    "tmp=cpeaks%>%mutate(chr_pos=paste0(chr,'_',start,'_',end))%>%column_to_rownames('mix_id')\n",
    "\n",
    "a=tmp[select.peaks,'chr_pos']%>%lapply(str_split,pattern = '_')%>%as.data.frame%>%t%>%as.data.frame\n",
    "rownames(a) <- NULL\n",
    "a$V2 <- as.numeric(a$V2)\n",
    "a$V3 <- as.numeric(a$V3)\n",
    "#colnames(a) <- NULL\n",
    "\n",
    "a%>%write_tsv('./cpeaks_filteredFeature/top.regions.bed',col_names = FALSE)"
   ]
  },
  {
   "cell_type": "code",
   "execution_count": 3,
   "id": "2d27052a-4d1e-4140-9d51-d557b7f8f539",
   "metadata": {},
   "outputs": [],
   "source": [
    "select.peaks<- qread('./cpeaks_filteredFeature/top.regions.qs')\n",
    "\n",
    "cpeaks <- read_tsv('/nfs/mqc/Consensus_peak/code/cpeaks/hg19/cpeaks.hg19.v3_1.bed')\n",
    "tmp=cpeaks%>%mutate(chr_pos=paste0(chr,'_',start,'_',end))%>%column_to_rownames('mix_id')\n",
    "\n",
    "a=tmp[select.peaks,'chr_pos']%>%lapply(str_split,pattern = '_')%>%as.data.frame%>%t%>%as.data.frame\n",
    "rownames(a) <- NULL\n",
    "a$V2 <- as.numeric(a$V2)\n",
    "a$V3 <- as.numeric(a$V3)\n",
    "#colnames(a) <- NULL\n",
    "\n",
    "a%>%write_tsv('./cpeaks_filteredFeature/top.regions.bed',col_names = FALSE)"
   ]
  }
 ],
 "metadata": {
  "kernelspec": {
   "display_name": "R",
   "language": "R",
   "name": "ir"
  },
  "language_info": {
   "codemirror_mode": "r",
   "file_extension": ".r",
   "mimetype": "text/x-r-source",
   "name": "R",
   "pygments_lexer": "r",
   "version": "4.1.3"
  }
 },
 "nbformat": 4,
 "nbformat_minor": 5
}
