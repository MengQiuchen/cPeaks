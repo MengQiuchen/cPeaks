{
 "cells": [
  {
   "cell_type": "code",
   "execution_count": 1,
   "id": "61414bdb-083c-43e8-88b2-e2f68f8266b5",
   "metadata": {},
   "outputs": [],
   "source": [
    "source('../../source/basic.r')"
   ]
  },
  {
   "cell_type": "code",
   "execution_count": 2,
   "id": "d0fd4405-5231-4b9c-b650-ab8aee3798d3",
   "metadata": {},
   "outputs": [],
   "source": [
    "mat=read.csv('/nfs/mqc/Consensus_peak/test_data/Zhang_2021_Cell_AdultTissues/Others/Cell_metadata.tsv',sep = '\\t')\n"
   ]
  },
  {
   "cell_type": "markdown",
   "id": "021e3ec5-5f2a-40f6-bdf6-07f5803fdd11",
   "metadata": {
    "tags": []
   },
   "source": [
    "# example2"
   ]
  },
  {
   "cell_type": "code",
   "execution_count": 158,
   "id": "bdfa633c-3119-4fdc-a83a-18310653aa9e",
   "metadata": {
    "tags": []
   },
   "outputs": [],
   "source": [
    "mat.sub <- mat%>%filter(Life.stage=='Adult')%>%filter(cell.type%in%c('Ventricular Cardiomyocyte',\n",
    "                                                                     'Atrial Cardiomyocyte'))%>%mutate(barcode=str_extract(cellID,pattern = '(?<=\\\\+).*'))"
   ]
  },
  {
   "cell_type": "code",
   "execution_count": 159,
   "id": "e6b910d1-16d9-4f07-b8ed-bcbc9a7a53d9",
   "metadata": {},
   "outputs": [],
   "source": [
    "tissues <- mat.sub%>%pull(tissue)%>%unique"
   ]
  },
  {
   "cell_type": "code",
   "execution_count": 160,
   "id": "e0cc02fd-696c-4ad1-ab63-f91ec5aa986a",
   "metadata": {
    "tags": []
   },
   "outputs": [],
   "source": [
    "tissues.select <- mat.sub%>%group_by(tissue)%>%summarise(n=n())%>%filter(n>5)%>%pull(tissue)"
   ]
  },
  {
   "cell_type": "code",
   "execution_count": 161,
   "id": "bfce6d01-4aec-4cea-892c-a67bb668f29c",
   "metadata": {},
   "outputs": [
    {
     "data": {
      "text/html": [
       "<table class=\"dataframe\">\n",
       "<caption>A tibble: 18 × 2</caption>\n",
       "<thead>\n",
       "\t<tr><th scope=col>tissue</th><th scope=col>n</th></tr>\n",
       "\t<tr><th scope=col>&lt;chr&gt;</th><th scope=col>&lt;int&gt;</th></tr>\n",
       "</thead>\n",
       "<tbody>\n",
       "\t<tr><td>heart_atrial_appendage_SM-IOBHN</td><td>2036</td></tr>\n",
       "\t<tr><td>heart_atrial_appendage_SM-JF1NX</td><td>1225</td></tr>\n",
       "\t<tr><td>heart_la_CARE181125_3C         </td><td>1465</td></tr>\n",
       "\t<tr><td>heart_la_CARE190307_10C        </td><td>2354</td></tr>\n",
       "\t<tr><td>heart_la_CARE191122_2C         </td><td>1448</td></tr>\n",
       "\t<tr><td>heart_lv_CARE181125_3D         </td><td> 777</td></tr>\n",
       "\t<tr><td>heart_lv_CARE190307_10D        </td><td>4428</td></tr>\n",
       "\t<tr><td>heart_lv_CARE190331_11D        </td><td>1715</td></tr>\n",
       "\t<tr><td>heart_lv_CARE191122_2D         </td><td>2079</td></tr>\n",
       "\t<tr><td>heart_lv_CARE191122_3D         </td><td>1951</td></tr>\n",
       "\t<tr><td>heart_lv_SM-IOBHO              </td><td>4601</td></tr>\n",
       "\t<tr><td>heart_lv_SM-JF1NY              </td><td>2814</td></tr>\n",
       "\t<tr><td>heart_ra_CARE181213_2A         </td><td>2322</td></tr>\n",
       "\t<tr><td>heart_ra_CARE190307_10A        </td><td>1632</td></tr>\n",
       "\t<tr><td>heart_rv_CARE181125_3B         </td><td>2485</td></tr>\n",
       "\t<tr><td>heart_rv_CARE181213_2B         </td><td>4033</td></tr>\n",
       "\t<tr><td>heart_rv_CARE190307_10B        </td><td>3183</td></tr>\n",
       "\t<tr><td>heart_rv_CARE190331_11B        </td><td>1099</td></tr>\n",
       "</tbody>\n",
       "</table>\n"
      ],
      "text/latex": [
       "A tibble: 18 × 2\n",
       "\\begin{tabular}{ll}\n",
       " tissue & n\\\\\n",
       " <chr> & <int>\\\\\n",
       "\\hline\n",
       "\t heart\\_atrial\\_appendage\\_SM-IOBHN & 2036\\\\\n",
       "\t heart\\_atrial\\_appendage\\_SM-JF1NX & 1225\\\\\n",
       "\t heart\\_la\\_CARE181125\\_3C          & 1465\\\\\n",
       "\t heart\\_la\\_CARE190307\\_10C         & 2354\\\\\n",
       "\t heart\\_la\\_CARE191122\\_2C          & 1448\\\\\n",
       "\t heart\\_lv\\_CARE181125\\_3D          &  777\\\\\n",
       "\t heart\\_lv\\_CARE190307\\_10D         & 4428\\\\\n",
       "\t heart\\_lv\\_CARE190331\\_11D         & 1715\\\\\n",
       "\t heart\\_lv\\_CARE191122\\_2D          & 2079\\\\\n",
       "\t heart\\_lv\\_CARE191122\\_3D          & 1951\\\\\n",
       "\t heart\\_lv\\_SM-IOBHO               & 4601\\\\\n",
       "\t heart\\_lv\\_SM-JF1NY               & 2814\\\\\n",
       "\t heart\\_ra\\_CARE181213\\_2A          & 2322\\\\\n",
       "\t heart\\_ra\\_CARE190307\\_10A         & 1632\\\\\n",
       "\t heart\\_rv\\_CARE181125\\_3B          & 2485\\\\\n",
       "\t heart\\_rv\\_CARE181213\\_2B          & 4033\\\\\n",
       "\t heart\\_rv\\_CARE190307\\_10B         & 3183\\\\\n",
       "\t heart\\_rv\\_CARE190331\\_11B         & 1099\\\\\n",
       "\\end{tabular}\n"
      ],
      "text/markdown": [
       "\n",
       "A tibble: 18 × 2\n",
       "\n",
       "| tissue &lt;chr&gt; | n &lt;int&gt; |\n",
       "|---|---|\n",
       "| heart_atrial_appendage_SM-IOBHN | 2036 |\n",
       "| heart_atrial_appendage_SM-JF1NX | 1225 |\n",
       "| heart_la_CARE181125_3C          | 1465 |\n",
       "| heart_la_CARE190307_10C         | 2354 |\n",
       "| heart_la_CARE191122_2C          | 1448 |\n",
       "| heart_lv_CARE181125_3D          |  777 |\n",
       "| heart_lv_CARE190307_10D         | 4428 |\n",
       "| heart_lv_CARE190331_11D         | 1715 |\n",
       "| heart_lv_CARE191122_2D          | 2079 |\n",
       "| heart_lv_CARE191122_3D          | 1951 |\n",
       "| heart_lv_SM-IOBHO               | 4601 |\n",
       "| heart_lv_SM-JF1NY               | 2814 |\n",
       "| heart_ra_CARE181213_2A          | 2322 |\n",
       "| heart_ra_CARE190307_10A         | 1632 |\n",
       "| heart_rv_CARE181125_3B          | 2485 |\n",
       "| heart_rv_CARE181213_2B          | 4033 |\n",
       "| heart_rv_CARE190307_10B         | 3183 |\n",
       "| heart_rv_CARE190331_11B         | 1099 |\n",
       "\n"
      ],
      "text/plain": [
       "   tissue                          n   \n",
       "1  heart_atrial_appendage_SM-IOBHN 2036\n",
       "2  heart_atrial_appendage_SM-JF1NX 1225\n",
       "3  heart_la_CARE181125_3C          1465\n",
       "4  heart_la_CARE190307_10C         2354\n",
       "5  heart_la_CARE191122_2C          1448\n",
       "6  heart_lv_CARE181125_3D           777\n",
       "7  heart_lv_CARE190307_10D         4428\n",
       "8  heart_lv_CARE190331_11D         1715\n",
       "9  heart_lv_CARE191122_2D          2079\n",
       "10 heart_lv_CARE191122_3D          1951\n",
       "11 heart_lv_SM-IOBHO               4601\n",
       "12 heart_lv_SM-JF1NY               2814\n",
       "13 heart_ra_CARE181213_2A          2322\n",
       "14 heart_ra_CARE190307_10A         1632\n",
       "15 heart_rv_CARE181125_3B          2485\n",
       "16 heart_rv_CARE181213_2B          4033\n",
       "17 heart_rv_CARE190307_10B         3183\n",
       "18 heart_rv_CARE190331_11B         1099"
      ]
     },
     "metadata": {},
     "output_type": "display_data"
    }
   ],
   "source": [
    "mat.sub%>%group_by(tissue)%>%summarise(n=n())%>%filter(n>5)"
   ]
  },
  {
   "cell_type": "code",
   "execution_count": 162,
   "id": "8af07e11-919f-4494-8eae-ae033e1bbb84",
   "metadata": {},
   "outputs": [],
   "source": [
    "a=gsub('heart_la_|heart_lv_|heart_rv_|heart_ra_','',tissues.select)"
   ]
  },
  {
   "cell_type": "code",
   "execution_count": 163,
   "id": "7989a73e-76c5-4621-bb48-62e5255d9bcb",
   "metadata": {
    "tags": []
   },
   "outputs": [],
   "source": [
    "# a%>%lapply(function(x){list.files(paste0('/nfs/mqc/Consensus_peak/test_data/Zhang_2021_Cell_AdultTissues/fragments/'),\n",
    "#          pattern = x,full.names = FALSE)})"
   ]
  },
  {
   "cell_type": "code",
   "execution_count": 164,
   "id": "e978e9d9-b223-4720-902f-3ac340a1f1c1",
   "metadata": {},
   "outputs": [
    {
     "data": {
      "text/html": [
       "<style>\n",
       ".list-inline {list-style: none; margin:0; padding: 0}\n",
       ".list-inline>li {display: inline-block}\n",
       ".list-inline>li:not(:last-child)::after {content: \"\\00b7\"; padding: 0 .5ex}\n",
       "</style>\n",
       "<ol class=list-inline><li>'heart_atrial_appendage_SM-IOBHN'</li><li>'heart_atrial_appendage_SM-JF1NX'</li><li>'heart_la_CARE181125_3C'</li><li>'heart_la_CARE190307_10C'</li><li>'heart_la_CARE191122_2C'</li><li>'heart_lv_CARE181125_3D'</li><li>'heart_lv_CARE190307_10D'</li><li>'heart_lv_CARE190331_11D'</li><li>'heart_lv_CARE191122_2D'</li><li>'heart_lv_CARE191122_3D'</li><li>'heart_lv_SM-IOBHO'</li><li>'heart_lv_SM-JF1NY'</li><li>'heart_ra_CARE181213_2A'</li><li>'heart_ra_CARE190307_10A'</li><li>'heart_rv_CARE181125_3B'</li><li>'heart_rv_CARE181213_2B'</li><li>'heart_rv_CARE190307_10B'</li><li>'heart_rv_CARE190331_11B'</li></ol>\n"
      ],
      "text/latex": [
       "\\begin{enumerate*}\n",
       "\\item 'heart\\_atrial\\_appendage\\_SM-IOBHN'\n",
       "\\item 'heart\\_atrial\\_appendage\\_SM-JF1NX'\n",
       "\\item 'heart\\_la\\_CARE181125\\_3C'\n",
       "\\item 'heart\\_la\\_CARE190307\\_10C'\n",
       "\\item 'heart\\_la\\_CARE191122\\_2C'\n",
       "\\item 'heart\\_lv\\_CARE181125\\_3D'\n",
       "\\item 'heart\\_lv\\_CARE190307\\_10D'\n",
       "\\item 'heart\\_lv\\_CARE190331\\_11D'\n",
       "\\item 'heart\\_lv\\_CARE191122\\_2D'\n",
       "\\item 'heart\\_lv\\_CARE191122\\_3D'\n",
       "\\item 'heart\\_lv\\_SM-IOBHO'\n",
       "\\item 'heart\\_lv\\_SM-JF1NY'\n",
       "\\item 'heart\\_ra\\_CARE181213\\_2A'\n",
       "\\item 'heart\\_ra\\_CARE190307\\_10A'\n",
       "\\item 'heart\\_rv\\_CARE181125\\_3B'\n",
       "\\item 'heart\\_rv\\_CARE181213\\_2B'\n",
       "\\item 'heart\\_rv\\_CARE190307\\_10B'\n",
       "\\item 'heart\\_rv\\_CARE190331\\_11B'\n",
       "\\end{enumerate*}\n"
      ],
      "text/markdown": [
       "1. 'heart_atrial_appendage_SM-IOBHN'\n",
       "2. 'heart_atrial_appendage_SM-JF1NX'\n",
       "3. 'heart_la_CARE181125_3C'\n",
       "4. 'heart_la_CARE190307_10C'\n",
       "5. 'heart_la_CARE191122_2C'\n",
       "6. 'heart_lv_CARE181125_3D'\n",
       "7. 'heart_lv_CARE190307_10D'\n",
       "8. 'heart_lv_CARE190331_11D'\n",
       "9. 'heart_lv_CARE191122_2D'\n",
       "10. 'heart_lv_CARE191122_3D'\n",
       "11. 'heart_lv_SM-IOBHO'\n",
       "12. 'heart_lv_SM-JF1NY'\n",
       "13. 'heart_ra_CARE181213_2A'\n",
       "14. 'heart_ra_CARE190307_10A'\n",
       "15. 'heart_rv_CARE181125_3B'\n",
       "16. 'heart_rv_CARE181213_2B'\n",
       "17. 'heart_rv_CARE190307_10B'\n",
       "18. 'heart_rv_CARE190331_11B'\n",
       "\n",
       "\n"
      ],
      "text/plain": [
       " [1] \"heart_atrial_appendage_SM-IOBHN\" \"heart_atrial_appendage_SM-JF1NX\"\n",
       " [3] \"heart_la_CARE181125_3C\"          \"heart_la_CARE190307_10C\"        \n",
       " [5] \"heart_la_CARE191122_2C\"          \"heart_lv_CARE181125_3D\"         \n",
       " [7] \"heart_lv_CARE190307_10D\"         \"heart_lv_CARE190331_11D\"        \n",
       " [9] \"heart_lv_CARE191122_2D\"          \"heart_lv_CARE191122_3D\"         \n",
       "[11] \"heart_lv_SM-IOBHO\"               \"heart_lv_SM-JF1NY\"              \n",
       "[13] \"heart_ra_CARE181213_2A\"          \"heart_ra_CARE190307_10A\"        \n",
       "[15] \"heart_rv_CARE181125_3B\"          \"heart_rv_CARE181213_2B\"         \n",
       "[17] \"heart_rv_CARE190307_10B\"         \"heart_rv_CARE190331_11B\"        "
      ]
     },
     "metadata": {},
     "output_type": "display_data"
    }
   ],
   "source": [
    "tissues.select"
   ]
  },
  {
   "cell_type": "code",
   "execution_count": 165,
   "id": "483dfce3-3316-4090-a584-75f3bf812d51",
   "metadata": {},
   "outputs": [
    {
     "data": {
      "text/html": [
       "2079"
      ],
      "text/latex": [
       "2079"
      ],
      "text/markdown": [
       "2079"
      ],
      "text/plain": [
       "[1] 2079"
      ]
     },
     "metadata": {},
     "output_type": "display_data"
    }
   ],
   "source": [
    "a=list.files(paste0(paste0('./data/example2/',tissues.select[9])),\n",
    "         pattern = '*',full.names = TRUE)\n",
    "a%>%length"
   ]
  },
  {
   "cell_type": "code",
   "execution_count": null,
   "id": "8c97a610-585a-4263-9dc1-6498d0f516b2",
   "metadata": {},
   "outputs": [],
   "source": []
  },
  {
   "cell_type": "markdown",
   "id": "5e82bab7-e923-40a5-b983-a0d6e408e047",
   "metadata": {
    "tags": []
   },
   "source": [
    "# example3"
   ]
  },
  {
   "cell_type": "code",
   "execution_count": 167,
   "id": "35a11951-2b30-4e2a-8f31-60733028ae07",
   "metadata": {},
   "outputs": [],
   "source": [
    "a=mat%>%filter(Life.stage=='Adult')%>%pull(tissue)%>%.[grep('lung|Lung',.)]%>%unique"
   ]
  },
  {
   "cell_type": "code",
   "execution_count": 168,
   "id": "e60dd3f1-0763-4b58-ad72-72dfba7bfe80",
   "metadata": {
    "tags": []
   },
   "outputs": [],
   "source": [
    "mat.sub <- mat%>%filter(Life.stage=='Adult')%>%filter(tissue%in%a)%>%mutate(barcode=str_extract(cellID,pattern = '(?<=\\\\+).*'))"
   ]
  },
  {
   "cell_type": "code",
   "execution_count": 169,
   "id": "336ce4a1-900a-4f08-a290-d65b6d1613cd",
   "metadata": {},
   "outputs": [],
   "source": [
    "tissues <- mat.sub%>%pull(tissue)%>%unique"
   ]
  },
  {
   "cell_type": "code",
   "execution_count": 170,
   "id": "ee9f0485-3f91-4f6b-8fca-bc914d23c6cd",
   "metadata": {},
   "outputs": [
    {
     "data": {
      "text/html": [
       "<style>\n",
       ".list-inline {list-style: none; margin:0; padding: 0}\n",
       ".list-inline>li {display: inline-block}\n",
       ".list-inline>li:not(:last-child)::after {content: \"\\00b7\"; padding: 0 .5ex}\n",
       "</style>\n",
       "<ol class=list-inline><li>'LungMap_D122'</li><li>'LungMap_D175'</li><li>'LungMap_D231'</li><li>'lung_SM-A62E9'</li><li>'lung_SM-A8WNH'</li><li>'lung_SM-ACCPU'</li><li>'lung_SM-JF1NZ'</li></ol>\n"
      ],
      "text/latex": [
       "\\begin{enumerate*}\n",
       "\\item 'LungMap\\_D122'\n",
       "\\item 'LungMap\\_D175'\n",
       "\\item 'LungMap\\_D231'\n",
       "\\item 'lung\\_SM-A62E9'\n",
       "\\item 'lung\\_SM-A8WNH'\n",
       "\\item 'lung\\_SM-ACCPU'\n",
       "\\item 'lung\\_SM-JF1NZ'\n",
       "\\end{enumerate*}\n"
      ],
      "text/markdown": [
       "1. 'LungMap_D122'\n",
       "2. 'LungMap_D175'\n",
       "3. 'LungMap_D231'\n",
       "4. 'lung_SM-A62E9'\n",
       "5. 'lung_SM-A8WNH'\n",
       "6. 'lung_SM-ACCPU'\n",
       "7. 'lung_SM-JF1NZ'\n",
       "\n",
       "\n"
      ],
      "text/plain": [
       "[1] \"LungMap_D122\"  \"LungMap_D175\"  \"LungMap_D231\"  \"lung_SM-A62E9\"\n",
       "[5] \"lung_SM-A8WNH\" \"lung_SM-ACCPU\" \"lung_SM-JF1NZ\""
      ]
     },
     "metadata": {},
     "output_type": "display_data"
    }
   ],
   "source": [
    "tissues"
   ]
  },
  {
   "cell_type": "code",
   "execution_count": 171,
   "id": "38da1652-1e3a-4421-a3c8-b36c5beaba8e",
   "metadata": {},
   "outputs": [
    {
     "data": {
      "text/html": [
       "<table class=\"dataframe\">\n",
       "<caption>A tibble: 7 × 2</caption>\n",
       "<thead>\n",
       "\t<tr><th scope=col>tissue</th><th scope=col>n</th></tr>\n",
       "\t<tr><th scope=col>&lt;chr&gt;</th><th scope=col>&lt;int&gt;</th></tr>\n",
       "</thead>\n",
       "<tbody>\n",
       "\t<tr><td>LungMap_D122 </td><td>5215</td></tr>\n",
       "\t<tr><td>LungMap_D175 </td><td>7746</td></tr>\n",
       "\t<tr><td>LungMap_D231 </td><td>8836</td></tr>\n",
       "\t<tr><td>lung_SM-A62E9</td><td>4645</td></tr>\n",
       "\t<tr><td>lung_SM-A8WNH</td><td>4770</td></tr>\n",
       "\t<tr><td>lung_SM-ACCPU</td><td>4495</td></tr>\n",
       "\t<tr><td>lung_SM-JF1NZ</td><td>5642</td></tr>\n",
       "</tbody>\n",
       "</table>\n"
      ],
      "text/latex": [
       "A tibble: 7 × 2\n",
       "\\begin{tabular}{ll}\n",
       " tissue & n\\\\\n",
       " <chr> & <int>\\\\\n",
       "\\hline\n",
       "\t LungMap\\_D122  & 5215\\\\\n",
       "\t LungMap\\_D175  & 7746\\\\\n",
       "\t LungMap\\_D231  & 8836\\\\\n",
       "\t lung\\_SM-A62E9 & 4645\\\\\n",
       "\t lung\\_SM-A8WNH & 4770\\\\\n",
       "\t lung\\_SM-ACCPU & 4495\\\\\n",
       "\t lung\\_SM-JF1NZ & 5642\\\\\n",
       "\\end{tabular}\n"
      ],
      "text/markdown": [
       "\n",
       "A tibble: 7 × 2\n",
       "\n",
       "| tissue &lt;chr&gt; | n &lt;int&gt; |\n",
       "|---|---|\n",
       "| LungMap_D122  | 5215 |\n",
       "| LungMap_D175  | 7746 |\n",
       "| LungMap_D231  | 8836 |\n",
       "| lung_SM-A62E9 | 4645 |\n",
       "| lung_SM-A8WNH | 4770 |\n",
       "| lung_SM-ACCPU | 4495 |\n",
       "| lung_SM-JF1NZ | 5642 |\n",
       "\n"
      ],
      "text/plain": [
       "  tissue        n   \n",
       "1 LungMap_D122  5215\n",
       "2 LungMap_D175  7746\n",
       "3 LungMap_D231  8836\n",
       "4 lung_SM-A62E9 4645\n",
       "5 lung_SM-A8WNH 4770\n",
       "6 lung_SM-ACCPU 4495\n",
       "7 lung_SM-JF1NZ 5642"
      ]
     },
     "metadata": {},
     "output_type": "display_data"
    }
   ],
   "source": [
    "mat.sub%>%group_by(tissue)%>%summarise(n=n())"
   ]
  },
  {
   "cell_type": "code",
   "execution_count": 172,
   "id": "8ebaa413-95ce-483b-a741-334e784f7465",
   "metadata": {
    "tags": []
   },
   "outputs": [],
   "source": [
    "tissues.select <- mat.sub%>%group_by(tissue)%>%summarise(n=n())%>%filter(n>5)%>%pull(tissue)"
   ]
  },
  {
   "cell_type": "code",
   "execution_count": 173,
   "id": "f24b67f0-a9da-4891-8d2c-302ef528511c",
   "metadata": {},
   "outputs": [
    {
     "data": {
      "text/html": [
       "7"
      ],
      "text/latex": [
       "7"
      ],
      "text/markdown": [
       "7"
      ],
      "text/plain": [
       "[1] 7"
      ]
     },
     "metadata": {},
     "output_type": "display_data"
    }
   ],
   "source": [
    "tissues.select%>%length"
   ]
  },
  {
   "cell_type": "code",
   "execution_count": 183,
   "id": "486815e5-a65a-4d27-abac-de5dd9541543",
   "metadata": {},
   "outputs": [
    {
     "data": {
      "text/html": [
       "4239"
      ],
      "text/latex": [
       "4239"
      ],
      "text/markdown": [
       "4239"
      ],
      "text/plain": [
       "[1] 4239"
      ]
     },
     "metadata": {},
     "output_type": "display_data"
    }
   ],
   "source": [
    "a=list.files(paste0(paste0('./data/example3/',tissues.select[4])),\n",
    "         pattern = '*',full.names = TRUE)\n",
    "\n",
    "a%>%length"
   ]
  },
  {
   "cell_type": "code",
   "execution_count": null,
   "id": "b3605f69-9a84-49a9-8294-c428b210052f",
   "metadata": {},
   "outputs": [],
   "source": []
  },
  {
   "cell_type": "code",
   "execution_count": null,
   "id": "117bb286-70f3-43e7-8961-457979619952",
   "metadata": {},
   "outputs": [],
   "source": []
  },
  {
   "cell_type": "code",
   "execution_count": null,
   "id": "e3121a2d-39fd-423d-9fa7-0d0e5bef752b",
   "metadata": {},
   "outputs": [],
   "source": []
  },
  {
   "cell_type": "code",
   "execution_count": null,
   "id": "f631a60a-1450-487d-a8f5-82acb9da47b9",
   "metadata": {},
   "outputs": [],
   "source": []
  }
 ],
 "metadata": {
  "kernelspec": {
   "display_name": "R",
   "language": "R",
   "name": "ir"
  },
  "language_info": {
   "codemirror_mode": "r",
   "file_extension": ".r",
   "mimetype": "text/x-r-source",
   "name": "R",
   "pygments_lexer": "r",
   "version": "4.1.3"
  }
 },
 "nbformat": 4,
 "nbformat_minor": 5
}
