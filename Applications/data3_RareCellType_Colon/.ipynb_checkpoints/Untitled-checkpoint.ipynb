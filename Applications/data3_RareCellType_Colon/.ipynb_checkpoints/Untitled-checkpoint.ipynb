{
 "cells": [
  {
   "cell_type": "code",
   "execution_count": 2,
   "id": "afca6983-8a08-43f9-8318-cf31ddae14f8",
   "metadata": {},
   "outputs": [],
   "source": [
    "source('../../source/basic.r')"
   ]
  },
  {
   "cell_type": "code",
   "execution_count": 3,
   "id": "eaaede91-2f11-40c1-85ac-6fa6bb39ccdd",
   "metadata": {},
   "outputs": [],
   "source": [
    "mat=read.csv('/nfs/mqc/Consensus_peak/test_data/Zhang_2021_Cell_AdultTissues/Others/Cell_metadata.tsv',sep = '\\t')\n"
   ]
  },
  {
   "cell_type": "code",
   "execution_count": null,
   "id": "4edea379-80d4-4362-a3cb-90114b545a31",
   "metadata": {},
   "outputs": [],
   "source": []
  },
  {
   "cell_type": "code",
   "execution_count": null,
   "id": "6d2c39c3-2428-494e-b762-4ae00bb5d12e",
   "metadata": {
    "tags": []
   },
   "outputs": [
    {
     "ename": "ERROR",
     "evalue": "\u001b[1m\u001b[33mError\u001b[39m in `filter()`:\u001b[22m\n\u001b[1m\u001b[22m\u001b[36mℹ\u001b[39m In argument: `tissue %in% a`.\n\u001b[1mCaused by error in `tissue %in% a`:\u001b[22m\n\u001b[33m!\u001b[39m object 'a' not found\n",
     "output_type": "error",
     "traceback": [
      "\u001b[1m\u001b[33mError\u001b[39m in `filter()`:\u001b[22m\n\u001b[1m\u001b[22m\u001b[36mℹ\u001b[39m In argument: `tissue %in% a`.\n\u001b[1mCaused by error in `tissue %in% a`:\u001b[22m\n\u001b[33m!\u001b[39m object 'a' not found\nTraceback:\n",
      "1. mat %>% filter(tissue %in% a) %>% filter(Life.stage == \"Adult\") %>% \n .     mutate(barcode = str_extract(cellID, pattern = \"(?<=\\\\+).*\"))",
      "2. mutate(., barcode = str_extract(cellID, pattern = \"(?<=\\\\+).*\"))",
      "3. filter(., Life.stage == \"Adult\")",
      "4. filter(., tissue %in% a)",
      "5. filter.data.frame(., tissue %in% a)",
      "6. filter_rows(.data, dots, by)",
      "7. filter_eval(dots, mask = mask, error_call = error_call)",
      "8. withCallingHandlers(mask$eval_all_filter(dots, env_filter), error = dplyr_error_handler(dots = dots, \n .     mask = mask, bullets = filter_bullets, error_call = error_call), \n .     warning = function(cnd) {\n .         local_error_context(dots, i, mask)\n .         warning_handler(cnd)\n .     }, `dplyr:::signal_filter_one_column_matrix` = function(e) {\n .         warn_filter_one_column_matrix(call = error_call)\n .     }, `dplyr:::signal_filter_across` = function(e) {\n .         warn_filter_across(call = error_call)\n .     }, `dplyr:::signal_filter_data_frame` = function(e) {\n .         warn_filter_data_frame(call = error_call)\n .     })",
      "9. mask$eval_all_filter(dots, env_filter)",
      "10. eval()",
      "11. tissue %in% a",
      "12. .handleSimpleError(function (cnd) \n  . {\n  .     local_error_context(dots, i = frame[[i_sym]], mask = mask)\n  .     if (inherits(cnd, \"dplyr:::internal_error\")) {\n  .         parent <- error_cnd(message = bullets(cnd))\n  .     }\n  .     else {\n  .         parent <- cnd\n  .     }\n  .     message <- c(cnd_bullet_header(action), i = if (has_active_group_context(mask)) cnd_bullet_cur_group_label())\n  .     abort(message, class = error_class, parent = parent, call = error_call)\n  . }, \"object 'a' not found\", base::quote(tissue %in% a))",
      "13. h(simpleError(msg, call))",
      "14. abort(message, class = error_class, parent = parent, call = error_call)",
      "15. signal_abort(cnd, .file)"
     ]
    }
   ],
   "source": [
    "mat.sub <- mat%>%filter(tissue%in%a)%>%filter(Life.stage=='Adult')%>%mutate(barcode=str_extract(cellID,pattern = '(?<=\\\\+).*'))"
   ]
  },
  {
   "cell_type": "code",
   "execution_count": 15,
   "id": "c712e9d0-9f98-44b2-9848-c2f06a413a43",
   "metadata": {},
   "outputs": [],
   "source": [
    "tissues <- mat.sub%>%pull(tissue)%>%unique"
   ]
  },
  {
   "cell_type": "code",
   "execution_count": 16,
   "id": "1f2a43b5-e799-43a0-b740-b189eb47f1ea",
   "metadata": {},
   "outputs": [
    {
     "data": {
      "text/plain": [
       ".\n",
       "Alveolar Capillary Endothelial Cell          Alveolar Type 1 (AT1) Cell \n",
       "                               1703                                2779 \n",
       "         Alveolar Type 2 (AT2) Cell             Alverolar Type 2,Immune \n",
       "                               5192                                1714 \n",
       "                Cardiac Fibroblasts                  Cardiac Pericyte 3 \n",
       "                                  6                                   2 \n",
       "                         Chief Cell                      Cilliated Cell \n",
       "                                  1                                 384 \n",
       "                          Club Cell            Ductal Cell (Pancreatic) \n",
       "                                706                                   4 \n",
       "       Endothelial Cell (General) 1        Endothelial Cell (General) 2 \n",
       "                                190                                  62 \n",
       "       Endothelial Cell (General) 3       Endothelial Cell (Myocardial) \n",
       "                                  1                                   2 \n",
       "         Esophageal Epithelial Cell             Fibroblast (Epithelial) \n",
       "                                  2                                   1 \n",
       "               Fibroblast (General)          Fibroblast (Liver Adrenal) \n",
       "                               1293                                   5 \n",
       "      Fibroblast (Peripheral Nerve)         Gastric Neuroendocrine Cell \n",
       "                                  1                                  12 \n",
       "                         Hepatocyte                      Keratinocyte 1 \n",
       "                                  3                                   5 \n",
       "              Luteal Cell (Ovarian)          Lymphatic Endothelial Cell \n",
       "                                  7                                 151 \n",
       "      Macrophage (General,Alveolar)                Macrophage (General) \n",
       "                              20140                                1232 \n",
       "  Mammary Luminal Epithelial Cell 2                           Mast Cell \n",
       "                                 27                                 142 \n",
       "                      Memory B Cell                    Mesothelial Cell \n",
       "                                329                                  12 \n",
       "                       Naive T cell               Natural Killer T Cell \n",
       "                                177                                 919 \n",
       "          Oligodendrocyte Precursor         Pancreatic Delta,Gamma cell \n",
       "                                  1                                   3 \n",
       "               Pericyte (General) 1                Pericyte (General) 2 \n",
       "                                 10                                   2 \n",
       "               Pericyte (General) 3                Pericyte (General) 4 \n",
       "                                  5                                 214 \n",
       "                        Plasma Cell              Schwann Cell (General) \n",
       "                                113                                   7 \n",
       "        Small Intestinal Enterocyte  Smooth Muscle (Esophageal Mucosal) \n",
       "                                  2                                   1 \n",
       "            Smooth Muscle (General)               T Lymphocyte 1 (CD8+) \n",
       "                                152                                3480 \n",
       "              T lymphocyte 2 (CD4+)            Vascular Smooth Muscle 1 \n",
       "                                116                                  38 \n",
       "           Vascular Smooth Muscle 2 \n",
       "                                  1 "
      ]
     },
     "metadata": {},
     "output_type": "display_data"
    }
   ],
   "source": [
    "mat.sub%>%pull(cell.type)%>%table"
   ]
  },
  {
   "cell_type": "code",
   "execution_count": 17,
   "id": "b9e2e42e-57f7-45f0-a57f-e2e84361502d",
   "metadata": {},
   "outputs": [
    {
     "data": {
      "text/html": [
       "<style>\n",
       ".list-inline {list-style: none; margin:0; padding: 0}\n",
       ".list-inline>li {display: inline-block}\n",
       ".list-inline>li:not(:last-child)::after {content: \"\\00b7\"; padding: 0 .5ex}\n",
       "</style>\n",
       "<ol class=list-inline><li>'LungMap_D122'</li><li>'LungMap_D175'</li><li>'LungMap_D231'</li><li>'lung_SM-A62E9'</li><li>'lung_SM-A8WNH'</li><li>'lung_SM-ACCPU'</li><li>'lung_SM-JF1NZ'</li></ol>\n"
      ],
      "text/latex": [
       "\\begin{enumerate*}\n",
       "\\item 'LungMap\\_D122'\n",
       "\\item 'LungMap\\_D175'\n",
       "\\item 'LungMap\\_D231'\n",
       "\\item 'lung\\_SM-A62E9'\n",
       "\\item 'lung\\_SM-A8WNH'\n",
       "\\item 'lung\\_SM-ACCPU'\n",
       "\\item 'lung\\_SM-JF1NZ'\n",
       "\\end{enumerate*}\n"
      ],
      "text/markdown": [
       "1. 'LungMap_D122'\n",
       "2. 'LungMap_D175'\n",
       "3. 'LungMap_D231'\n",
       "4. 'lung_SM-A62E9'\n",
       "5. 'lung_SM-A8WNH'\n",
       "6. 'lung_SM-ACCPU'\n",
       "7. 'lung_SM-JF1NZ'\n",
       "\n",
       "\n"
      ],
      "text/plain": [
       "[1] \"LungMap_D122\"  \"LungMap_D175\"  \"LungMap_D231\"  \"lung_SM-A62E9\"\n",
       "[5] \"lung_SM-A8WNH\" \"lung_SM-ACCPU\" \"lung_SM-JF1NZ\""
      ]
     },
     "metadata": {},
     "output_type": "display_data"
    }
   ],
   "source": [
    "tissues"
   ]
  },
  {
   "cell_type": "code",
   "execution_count": 18,
   "id": "c3eaff2a-4ab3-485c-8b7e-ad24a9364f42",
   "metadata": {},
   "outputs": [
    {
     "data": {
      "text/html": [
       "<table class=\"dataframe\">\n",
       "<caption>A tibble: 7 × 2</caption>\n",
       "<thead>\n",
       "\t<tr><th scope=col>tissue</th><th scope=col>n</th></tr>\n",
       "\t<tr><th scope=col>&lt;chr&gt;</th><th scope=col>&lt;int&gt;</th></tr>\n",
       "</thead>\n",
       "<tbody>\n",
       "\t<tr><td>LungMap_D122 </td><td>5215</td></tr>\n",
       "\t<tr><td>LungMap_D175 </td><td>7746</td></tr>\n",
       "\t<tr><td>LungMap_D231 </td><td>8836</td></tr>\n",
       "\t<tr><td>lung_SM-A62E9</td><td>4645</td></tr>\n",
       "\t<tr><td>lung_SM-A8WNH</td><td>4770</td></tr>\n",
       "\t<tr><td>lung_SM-ACCPU</td><td>4495</td></tr>\n",
       "\t<tr><td>lung_SM-JF1NZ</td><td>5642</td></tr>\n",
       "</tbody>\n",
       "</table>\n"
      ],
      "text/latex": [
       "A tibble: 7 × 2\n",
       "\\begin{tabular}{ll}\n",
       " tissue & n\\\\\n",
       " <chr> & <int>\\\\\n",
       "\\hline\n",
       "\t LungMap\\_D122  & 5215\\\\\n",
       "\t LungMap\\_D175  & 7746\\\\\n",
       "\t LungMap\\_D231  & 8836\\\\\n",
       "\t lung\\_SM-A62E9 & 4645\\\\\n",
       "\t lung\\_SM-A8WNH & 4770\\\\\n",
       "\t lung\\_SM-ACCPU & 4495\\\\\n",
       "\t lung\\_SM-JF1NZ & 5642\\\\\n",
       "\\end{tabular}\n"
      ],
      "text/markdown": [
       "\n",
       "A tibble: 7 × 2\n",
       "\n",
       "| tissue &lt;chr&gt; | n &lt;int&gt; |\n",
       "|---|---|\n",
       "| LungMap_D122  | 5215 |\n",
       "| LungMap_D175  | 7746 |\n",
       "| LungMap_D231  | 8836 |\n",
       "| lung_SM-A62E9 | 4645 |\n",
       "| lung_SM-A8WNH | 4770 |\n",
       "| lung_SM-ACCPU | 4495 |\n",
       "| lung_SM-JF1NZ | 5642 |\n",
       "\n"
      ],
      "text/plain": [
       "  tissue        n   \n",
       "1 LungMap_D122  5215\n",
       "2 LungMap_D175  7746\n",
       "3 LungMap_D231  8836\n",
       "4 lung_SM-A62E9 4645\n",
       "5 lung_SM-A8WNH 4770\n",
       "6 lung_SM-ACCPU 4495\n",
       "7 lung_SM-JF1NZ 5642"
      ]
     },
     "metadata": {},
     "output_type": "display_data"
    }
   ],
   "source": [
    "mat.sub%>%group_by(tissue)%>%summarise(n=n())"
   ]
  },
  {
   "cell_type": "code",
   "execution_count": 23,
   "id": "7b6a5762-e445-48b3-9121-8c67ed5e2ac0",
   "metadata": {
    "tags": []
   },
   "outputs": [],
   "source": [
    "tissues.select <- mat.sub%>%group_by(tissue)%>%summarise(n=n())%>%filter(n>5)%>%pull(tissue)"
   ]
  },
  {
   "cell_type": "code",
   "execution_count": 24,
   "id": "657b2ca2-4d9a-4fab-b699-a6b4a59e6b10",
   "metadata": {},
   "outputs": [
    {
     "data": {
      "text/html": [
       "<style>\n",
       ".list-inline {list-style: none; margin:0; padding: 0}\n",
       ".list-inline>li {display: inline-block}\n",
       ".list-inline>li:not(:last-child)::after {content: \"\\00b7\"; padding: 0 .5ex}\n",
       "</style>\n",
       "<ol class=list-inline><li>'LungMap_D122'</li><li>'LungMap_D175'</li><li>'LungMap_D231'</li><li>'lung_SM-A62E9'</li><li>'lung_SM-A8WNH'</li><li>'lung_SM-ACCPU'</li><li>'lung_SM-JF1NZ'</li></ol>\n"
      ],
      "text/latex": [
       "\\begin{enumerate*}\n",
       "\\item 'LungMap\\_D122'\n",
       "\\item 'LungMap\\_D175'\n",
       "\\item 'LungMap\\_D231'\n",
       "\\item 'lung\\_SM-A62E9'\n",
       "\\item 'lung\\_SM-A8WNH'\n",
       "\\item 'lung\\_SM-ACCPU'\n",
       "\\item 'lung\\_SM-JF1NZ'\n",
       "\\end{enumerate*}\n"
      ],
      "text/markdown": [
       "1. 'LungMap_D122'\n",
       "2. 'LungMap_D175'\n",
       "3. 'LungMap_D231'\n",
       "4. 'lung_SM-A62E9'\n",
       "5. 'lung_SM-A8WNH'\n",
       "6. 'lung_SM-ACCPU'\n",
       "7. 'lung_SM-JF1NZ'\n",
       "\n",
       "\n"
      ],
      "text/plain": [
       "[1] \"LungMap_D122\"  \"LungMap_D175\"  \"LungMap_D231\"  \"lung_SM-A62E9\"\n",
       "[5] \"lung_SM-A8WNH\" \"lung_SM-ACCPU\" \"lung_SM-JF1NZ\""
      ]
     },
     "metadata": {},
     "output_type": "display_data"
    }
   ],
   "source": [
    "tissues.select"
   ]
  },
  {
   "cell_type": "code",
   "execution_count": 20,
   "id": "fb75a488-cb1a-4cca-8f61-bdaacca94176",
   "metadata": {},
   "outputs": [],
   "source": [
    "i = 1"
   ]
  },
  {
   "cell_type": "code",
   "execution_count": 22,
   "id": "f38c74b3-7406-4421-b06e-1bc543377714",
   "metadata": {},
   "outputs": [
    {
     "data": {
      "text/html": [],
      "text/latex": [],
      "text/markdown": [],
      "text/plain": [
       "character(0)"
      ]
     },
     "metadata": {},
     "output_type": "display_data"
    }
   ],
   "source": [
    "a"
   ]
  },
  {
   "cell_type": "code",
   "execution_count": 21,
   "id": "085e4895-dd02-48ee-a504-cbe9005114f8",
   "metadata": {
    "tags": []
   },
   "outputs": [
    {
     "ename": "ERROR",
     "evalue": "Error in if (length(x) > 1 || grepl(\"\\n\", x)) {: missing value where TRUE/FALSE needed\n",
     "output_type": "error",
     "traceback": [
      "Error in if (length(x) > 1 || grepl(\"\\n\", x)) {: missing value where TRUE/FALSE needed\nTraceback:\n",
      "1. read_table(a, col_names = FALSE)",
      "2. read_delimited(file, tokenizer, col_names = col_names, col_types = col_types, \n .     locale = locale, skip = skip, skip_empty_rows = skip_empty_rows, \n .     skip_quote = FALSE, comment = comment, n_max = n_max, guess_max = guess_max, \n .     progress = progress, show_col_types = show_col_types)",
      "3. source_name(file)"
     ]
    }
   ],
   "source": [
    "for( i in 1:(tissues.select%>%length)){\n",
    "    \n",
    "    a=list.files(paste0('/nfs/mqc/Consensus_peak/test_data/Zhang_2021_Cell_AdultTissues/fragments.bed/'),\n",
    "             pattern = tissues.select[i],full.names = TRUE)\n",
    "    file=read_table(a,col_names = FALSE)\n",
    "    cells = mat.sub%>%filter(tissue==tissues.select[i])%>%pull(barcode)\n",
    "    \n",
    "    cells%>%length%>%message\n",
    "    \n",
    "    df = file%>%select(X1:X5)%>%filter(X4%in%cells)%>%group_by(X4)\n",
    "\n",
    "    dfs = df%>%filter(X1%in%paste0('chr',c(1:22,'X','Y')))%>%group_split(keep=TRUE)\n",
    "\n",
    "    dir.create(paste0('data/example3/',tissues.select[i]))\n",
    "    \n",
    "    dfs%>%mclapply(function(x){\n",
    "                a = x[1,4]\n",
    "                write_tsv(x%>%select(X1:X3),\n",
    "                          paste0('data/example3/',tissues.select[i],'/',as.character(a)),\n",
    "                          col_names = FALSE)\n",
    "            },mc.cores=100)\n",
    "    \n",
    "    \n",
    "}"
   ]
  },
  {
   "cell_type": "code",
   "execution_count": null,
   "id": "2bfd04be-3e36-40c1-994c-7c882f2e5f4e",
   "metadata": {},
   "outputs": [],
   "source": []
  },
  {
   "cell_type": "code",
   "execution_count": null,
   "id": "af828caf-2f15-43b4-8481-0118062db2fb",
   "metadata": {},
   "outputs": [],
   "source": []
  },
  {
   "cell_type": "code",
   "execution_count": null,
   "id": "cfe8b3d6-fc3b-4ee8-a624-21bdc59a2b37",
   "metadata": {},
   "outputs": [],
   "source": []
  },
  {
   "cell_type": "code",
   "execution_count": null,
   "id": "c90bf894-0692-440b-9d39-dfed96ad85df",
   "metadata": {},
   "outputs": [],
   "source": []
  },
  {
   "cell_type": "code",
   "execution_count": null,
   "id": "ba71b887-b9a1-4935-9759-d72015d7d55a",
   "metadata": {},
   "outputs": [],
   "source": []
  },
  {
   "cell_type": "code",
   "execution_count": null,
   "id": "0ac67437-b48a-4f17-aff9-23afd3d1139e",
   "metadata": {},
   "outputs": [],
   "source": []
  },
  {
   "cell_type": "code",
   "execution_count": null,
   "id": "2c8a42b5-2492-4567-9bdf-a566b3ac0c40",
   "metadata": {},
   "outputs": [],
   "source": []
  },
  {
   "cell_type": "code",
   "execution_count": null,
   "id": "8202f4ce-5faa-4d9e-82ba-6fcb0fe25c35",
   "metadata": {},
   "outputs": [],
   "source": []
  },
  {
   "cell_type": "code",
   "execution_count": null,
   "id": "5ed96472-4a74-46a7-a46e-b352c77ff531",
   "metadata": {},
   "outputs": [],
   "source": []
  },
  {
   "cell_type": "code",
   "execution_count": null,
   "id": "d0563a77-4013-4849-a6dc-25578c17c06e",
   "metadata": {},
   "outputs": [],
   "source": []
  }
 ],
 "metadata": {
  "kernelspec": {
   "display_name": "R",
   "language": "R",
   "name": "ir"
  },
  "language_info": {
   "codemirror_mode": "r",
   "file_extension": ".r",
   "mimetype": "text/x-r-source",
   "name": "R",
   "pygments_lexer": "r",
   "version": "4.1.3"
  }
 },
 "nbformat": 4,
 "nbformat_minor": 5
}
