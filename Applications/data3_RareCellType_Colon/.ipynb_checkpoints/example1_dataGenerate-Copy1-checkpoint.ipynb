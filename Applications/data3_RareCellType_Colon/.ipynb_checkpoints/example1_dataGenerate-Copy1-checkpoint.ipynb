{
 "cells": [
  {
   "cell_type": "code",
   "execution_count": 1,
   "id": "31298238-6aba-4212-b9c8-759c7be8a3d5",
   "metadata": {},
   "outputs": [],
   "source": [
    "source('../../source/basic.r')"
   ]
  },
  {
   "cell_type": "code",
   "execution_count": 2,
   "id": "37f98c9c-54a9-4f00-bfca-5c675fc4935e",
   "metadata": {},
   "outputs": [],
   "source": [
    "mat=read.csv('/nfs/mqc/Consensus_peak/test_data/Zhang_2021_Cell_AdultTissues/Others/Cell_metadata.tsv',sep = '\\t')\n"
   ]
  },
  {
   "cell_type": "code",
   "execution_count": 3,
   "id": "9a62b889-9e69-4737-9526-ea9da9db0d80",
   "metadata": {
    "tags": []
   },
   "outputs": [],
   "source": [
    "mat.sub <- mat%>%filter(Life.stage=='Adult')%>%filter(cell.type%in%c('Colon Epithelial Cell 1','Colon Epithelial Cell 2','Colon Epithelial Cell 3','Colonic Goblet Cell',\n",
    "            'Tuft Cell','Enterochromaffin Cell','Small Intestinal Goblet Cell','Small Intestinal Enterocyte',\n",
    "            'Paneth Cell'))%>%mutate(barcode=str_extract(cellID,pattern = '(?<=\\\\+).*'))"
   ]
  },
  {
   "cell_type": "code",
   "execution_count": 4,
   "id": "2b86fb80-fc6e-43d0-b000-b4c1bd3eae2b",
   "metadata": {},
   "outputs": [],
   "source": [
    "tissues <- mat.sub%>%pull(tissue)%>%unique"
   ]
  },
  {
   "cell_type": "code",
   "execution_count": 5,
   "id": "f561f419-fb15-47f0-a02c-21100ae83459",
   "metadata": {},
   "outputs": [
    {
     "data": {
      "text/plain": [
       ".\n",
       "     Colon Epithelial Cell 1      Colon Epithelial Cell 2 \n",
       "                       16784                         1085 \n",
       "     Colon Epithelial Cell 3          Colonic Goblet Cell \n",
       "                         649                         3028 \n",
       "       Enterochromaffin Cell                  Paneth Cell \n",
       "                         371                          279 \n",
       " Small Intestinal Enterocyte Small Intestinal Goblet Cell \n",
       "                        8103                         2053 \n",
       "                   Tuft Cell \n",
       "                         305 "
      ]
     },
     "metadata": {},
     "output_type": "display_data"
    }
   ],
   "source": [
    "mat.sub%>%pull(cell.type)%>%table"
   ]
  },
  {
   "cell_type": "code",
   "execution_count": 6,
   "id": "c10d7e59-ab3e-4dc4-b41a-2a382181cb3f",
   "metadata": {},
   "outputs": [
    {
     "data": {
      "text/html": [
       "<style>\n",
       ".list-inline {list-style: none; margin:0; padding: 0}\n",
       ".list-inline>li {display: inline-block}\n",
       ".list-inline>li:not(:last-child)::after {content: \"\\00b7\"; padding: 0 .5ex}\n",
       "</style>\n",
       "<ol class=list-inline><li>'colon_sigmoid_SM-JF1O8'</li><li>'colon_transverse_SM-A9HOW'</li><li>'colon_transverse_SM-A9VP4'</li><li>'colon_transverse_SM-ACCQ1'</li><li>'colon_transverse_SM-BZ2ZS'</li><li>'colon_transverse_SM-CSSDA'</li><li>'small_intestine_SM-A62GO'</li><li>'small_intestine_SM-ADA5F'</li><li>'small_intestine_SM-JF1O2'</li><li>'LungMap_D122'</li><li>'adipose_omentum_SM-CHZRM'</li><li>'adipose_omentum_SM-IOBHJ'</li><li>'artery_aorta_SM-CR89M'</li><li>'esophagus_muscularis_SM-IOBHM'</li><li>'lung_SM-ACCPU'</li><li>'stomach_SM-CHLWL'</li><li>'stomach_SM-IOBHV'</li><li>'stomach_SM-JF1NP'</li><li>'stomach_SM-JF1O3'</li><li>'vagina_SM-A9HOS'</li></ol>\n"
      ],
      "text/latex": [
       "\\begin{enumerate*}\n",
       "\\item 'colon\\_sigmoid\\_SM-JF1O8'\n",
       "\\item 'colon\\_transverse\\_SM-A9HOW'\n",
       "\\item 'colon\\_transverse\\_SM-A9VP4'\n",
       "\\item 'colon\\_transverse\\_SM-ACCQ1'\n",
       "\\item 'colon\\_transverse\\_SM-BZ2ZS'\n",
       "\\item 'colon\\_transverse\\_SM-CSSDA'\n",
       "\\item 'small\\_intestine\\_SM-A62GO'\n",
       "\\item 'small\\_intestine\\_SM-ADA5F'\n",
       "\\item 'small\\_intestine\\_SM-JF1O2'\n",
       "\\item 'LungMap\\_D122'\n",
       "\\item 'adipose\\_omentum\\_SM-CHZRM'\n",
       "\\item 'adipose\\_omentum\\_SM-IOBHJ'\n",
       "\\item 'artery\\_aorta\\_SM-CR89M'\n",
       "\\item 'esophagus\\_muscularis\\_SM-IOBHM'\n",
       "\\item 'lung\\_SM-ACCPU'\n",
       "\\item 'stomach\\_SM-CHLWL'\n",
       "\\item 'stomach\\_SM-IOBHV'\n",
       "\\item 'stomach\\_SM-JF1NP'\n",
       "\\item 'stomach\\_SM-JF1O3'\n",
       "\\item 'vagina\\_SM-A9HOS'\n",
       "\\end{enumerate*}\n"
      ],
      "text/markdown": [
       "1. 'colon_sigmoid_SM-JF1O8'\n",
       "2. 'colon_transverse_SM-A9HOW'\n",
       "3. 'colon_transverse_SM-A9VP4'\n",
       "4. 'colon_transverse_SM-ACCQ1'\n",
       "5. 'colon_transverse_SM-BZ2ZS'\n",
       "6. 'colon_transverse_SM-CSSDA'\n",
       "7. 'small_intestine_SM-A62GO'\n",
       "8. 'small_intestine_SM-ADA5F'\n",
       "9. 'small_intestine_SM-JF1O2'\n",
       "10. 'LungMap_D122'\n",
       "11. 'adipose_omentum_SM-CHZRM'\n",
       "12. 'adipose_omentum_SM-IOBHJ'\n",
       "13. 'artery_aorta_SM-CR89M'\n",
       "14. 'esophagus_muscularis_SM-IOBHM'\n",
       "15. 'lung_SM-ACCPU'\n",
       "16. 'stomach_SM-CHLWL'\n",
       "17. 'stomach_SM-IOBHV'\n",
       "18. 'stomach_SM-JF1NP'\n",
       "19. 'stomach_SM-JF1O3'\n",
       "20. 'vagina_SM-A9HOS'\n",
       "\n",
       "\n"
      ],
      "text/plain": [
       " [1] \"colon_sigmoid_SM-JF1O8\"        \"colon_transverse_SM-A9HOW\"    \n",
       " [3] \"colon_transverse_SM-A9VP4\"     \"colon_transverse_SM-ACCQ1\"    \n",
       " [5] \"colon_transverse_SM-BZ2ZS\"     \"colon_transverse_SM-CSSDA\"    \n",
       " [7] \"small_intestine_SM-A62GO\"      \"small_intestine_SM-ADA5F\"     \n",
       " [9] \"small_intestine_SM-JF1O2\"      \"LungMap_D122\"                 \n",
       "[11] \"adipose_omentum_SM-CHZRM\"      \"adipose_omentum_SM-IOBHJ\"     \n",
       "[13] \"artery_aorta_SM-CR89M\"         \"esophagus_muscularis_SM-IOBHM\"\n",
       "[15] \"lung_SM-ACCPU\"                 \"stomach_SM-CHLWL\"             \n",
       "[17] \"stomach_SM-IOBHV\"              \"stomach_SM-JF1NP\"             \n",
       "[19] \"stomach_SM-JF1O3\"              \"vagina_SM-A9HOS\"              "
      ]
     },
     "metadata": {},
     "output_type": "display_data"
    }
   ],
   "source": [
    "tissues"
   ]
  },
  {
   "cell_type": "code",
   "execution_count": 7,
   "id": "583fe201-6773-4281-ac9d-11f06f53011a",
   "metadata": {
    "tags": []
   },
   "outputs": [],
   "source": [
    "tissues.select <- mat.sub%>%group_by(tissue)%>%summarise(n=n())%>%filter(n>5)%>%pull(tissue)"
   ]
  },
  {
   "cell_type": "code",
   "execution_count": 8,
   "id": "36525206-361a-4e92-9d01-3544770a64c7",
   "metadata": {},
   "outputs": [
    {
     "data": {
      "text/html": [
       "<style>\n",
       ".list-inline {list-style: none; margin:0; padding: 0}\n",
       ".list-inline>li {display: inline-block}\n",
       ".list-inline>li:not(:last-child)::after {content: \"\\00b7\"; padding: 0 .5ex}\n",
       "</style>\n",
       "<ol class=list-inline><li>'colon_transverse_SM-A9HOW'</li><li>'colon_transverse_SM-A9VP4'</li><li>'colon_transverse_SM-ACCQ1'</li><li>'colon_transverse_SM-BZ2ZS'</li><li>'colon_transverse_SM-CSSDA'</li><li>'small_intestine_SM-A62GO'</li><li>'small_intestine_SM-ADA5F'</li><li>'small_intestine_SM-JF1O2'</li></ol>\n"
      ],
      "text/latex": [
       "\\begin{enumerate*}\n",
       "\\item 'colon\\_transverse\\_SM-A9HOW'\n",
       "\\item 'colon\\_transverse\\_SM-A9VP4'\n",
       "\\item 'colon\\_transverse\\_SM-ACCQ1'\n",
       "\\item 'colon\\_transverse\\_SM-BZ2ZS'\n",
       "\\item 'colon\\_transverse\\_SM-CSSDA'\n",
       "\\item 'small\\_intestine\\_SM-A62GO'\n",
       "\\item 'small\\_intestine\\_SM-ADA5F'\n",
       "\\item 'small\\_intestine\\_SM-JF1O2'\n",
       "\\end{enumerate*}\n"
      ],
      "text/markdown": [
       "1. 'colon_transverse_SM-A9HOW'\n",
       "2. 'colon_transverse_SM-A9VP4'\n",
       "3. 'colon_transverse_SM-ACCQ1'\n",
       "4. 'colon_transverse_SM-BZ2ZS'\n",
       "5. 'colon_transverse_SM-CSSDA'\n",
       "6. 'small_intestine_SM-A62GO'\n",
       "7. 'small_intestine_SM-ADA5F'\n",
       "8. 'small_intestine_SM-JF1O2'\n",
       "\n",
       "\n"
      ],
      "text/plain": [
       "[1] \"colon_transverse_SM-A9HOW\" \"colon_transverse_SM-A9VP4\"\n",
       "[3] \"colon_transverse_SM-ACCQ1\" \"colon_transverse_SM-BZ2ZS\"\n",
       "[5] \"colon_transverse_SM-CSSDA\" \"small_intestine_SM-A62GO\" \n",
       "[7] \"small_intestine_SM-ADA5F\"  \"small_intestine_SM-JF1O2\" "
      ]
     },
     "metadata": {},
     "output_type": "display_data"
    }
   ],
   "source": [
    "tissues.select"
   ]
  },
  {
   "cell_type": "code",
   "execution_count": 118,
   "id": "706491d1-b0fb-42e9-9323-7986de4d9fcf",
   "metadata": {},
   "outputs": [],
   "source": [
    "i = 1"
   ]
  },
  {
   "cell_type": "code",
   "execution_count": null,
   "id": "9325063a-d43d-4a43-a984-d0a78ce4bd79",
   "metadata": {
    "collapsed": true,
    "jupyter": {
     "outputs_hidden": true
    },
    "tags": []
   },
   "outputs": [
    {
     "name": "stderr",
     "output_type": "stream",
     "text": [
      "\n",
      "\u001b[36m──\u001b[39m \u001b[1mColumn specification\u001b[22m \u001b[36m────────────────────────────────────────────────────────────────────────────────────────\u001b[39m\n",
      "cols(\n",
      "  X1 = \u001b[31mcol_character()\u001b[39m,\n",
      "  X2 = \u001b[32mcol_double()\u001b[39m,\n",
      "  X3 = \u001b[32mcol_double()\u001b[39m,\n",
      "  X4 = \u001b[31mcol_character()\u001b[39m,\n",
      "  X5 = \u001b[32mcol_double()\u001b[39m,\n",
      "  X6 = \u001b[31mcol_character()\u001b[39m\n",
      ")\n",
      "\n",
      "5832\n",
      "\n",
      "Warning message:\n",
      "“\u001b[1m\u001b[22mThe `keep` argument of `group_split()` is deprecated as of dplyr 1.0.0.\n",
      "\u001b[36mℹ\u001b[39m Please use the `.keep` argument instead.”\n"
     ]
    }
   ],
   "source": [
    "for( i in 1:(tissues.select%>%length)){\n",
    "    \n",
    "    a=list.files(paste0('/nfs/mqc/Consensus_peak/test_data/Zhang_2021_Cell_AdultTissues/fragments.bed/'),\n",
    "             pattern = tissues.select[i],full.names = TRUE)\n",
    "    file=read_table(a,col_names = FALSE)\n",
    "    cells = mat.sub%>%filter(tissue==tissues.select[i])%>%pull(barcode)\n",
    "    \n",
    "    cells%>%length%>%message\n",
    "    \n",
    "    df = file%>%select(X1:X5)%>%filter(X4%in%cells)%>%group_by(X4)\n",
    "\n",
    "    dfs = df%>%filter(X1%in%paste0('chr',c(1:22,'X','Y')))%>%group_split(keep=TRUE)\n",
    "\n",
    "    dir.create(paste0('data/example1/',tissues.select[i]))\n",
    "    \n",
    "    dfs%>%mclapply(function(x){\n",
    "                a = x[1,4]\n",
    "                write_tsv(x%>%select(X1:X3),\n",
    "                          paste0('data/example1/',tissues.select[i],'/',as.character(a)),\n",
    "                          col_names = FALSE)\n",
    "            },mc.cores=100)\n",
    "    \n",
    "    \n",
    "}"
   ]
  },
  {
   "cell_type": "markdown",
   "id": "d989f21f-9226-41c7-885a-25eea186c0e7",
   "metadata": {
    "tags": []
   },
   "source": [
    "# example2"
   ]
  },
  {
   "cell_type": "code",
   "execution_count": 4,
   "id": "653bddd7-c27b-403f-9246-8ff0a6509b82",
   "metadata": {
    "tags": []
   },
   "outputs": [],
   "source": [
    "mat.sub <- mat%>%filter(Life.stage=='Adult')%>%filter(cell.type%in%c('Ventricular Cardiomyocyte',\n",
    "                                                                     'Atrial Cardiomyocyte'))%>%mutate(barcode=str_extract(cellID,pattern = '(?<=\\\\+).*'))"
   ]
  },
  {
   "cell_type": "code",
   "execution_count": 5,
   "id": "a8453ee3-d639-44d9-8e46-d5c173509cd4",
   "metadata": {},
   "outputs": [],
   "source": [
    "tissues <- mat.sub%>%pull(tissue)%>%unique"
   ]
  },
  {
   "cell_type": "code",
   "execution_count": 6,
   "id": "32d72095-988b-4b80-b192-4c631ab1df4c",
   "metadata": {},
   "outputs": [
    {
     "data": {
      "text/plain": [
       ".\n",
       "     Atrial Cardiomyocyte Ventricular Cardiomyocyte \n",
       "                    12397                     29250 "
      ]
     },
     "metadata": {},
     "output_type": "display_data"
    }
   ],
   "source": [
    "mat.sub%>%pull(cell.type)%>%table"
   ]
  },
  {
   "cell_type": "code",
   "execution_count": 7,
   "id": "5173fe5f-080d-4997-b316-5d11c35ebc34",
   "metadata": {
    "tags": []
   },
   "outputs": [],
   "source": [
    "tissues.select <- mat.sub%>%group_by(tissue)%>%summarise(n=n())%>%filter(n>5)%>%pull(tissue)"
   ]
  },
  {
   "cell_type": "code",
   "execution_count": 8,
   "id": "6e076615-2701-4cf6-ba32-46f57be99f72",
   "metadata": {},
   "outputs": [
    {
     "data": {
      "text/html": [
       "18"
      ],
      "text/latex": [
       "18"
      ],
      "text/markdown": [
       "18"
      ],
      "text/plain": [
       "[1] 18"
      ]
     },
     "metadata": {},
     "output_type": "display_data"
    }
   ],
   "source": [
    "tissues.select%>%length"
   ]
  },
  {
   "cell_type": "code",
   "execution_count": 9,
   "id": "9fcd7969-dd03-4e8e-9a7a-23f7e762b55a",
   "metadata": {},
   "outputs": [],
   "source": [
    "a=gsub('heart_la_|heart_lv_|heart_rv_|heart_ra_','',tissues.select)"
   ]
  },
  {
   "cell_type": "code",
   "execution_count": 10,
   "id": "3e11920d-3472-484a-8402-9e5ab2033d3f",
   "metadata": {},
   "outputs": [
    {
     "data": {
      "text/html": [
       "<style>\n",
       ".list-inline {list-style: none; margin:0; padding: 0}\n",
       ".list-inline>li {display: inline-block}\n",
       ".list-inline>li:not(:last-child)::after {content: \"\\00b7\"; padding: 0 .5ex}\n",
       "</style>\n",
       "<ol class=list-inline><li>'heart_atrial_appendage_SM-IOBHN'</li><li>'heart_atrial_appendage_SM-JF1NX'</li><li>'heart_la_CARE181125_3C'</li><li>'heart_la_CARE190307_10C'</li><li>'heart_la_CARE191122_2C'</li><li>'heart_lv_CARE181125_3D'</li><li>'heart_lv_CARE190307_10D'</li><li>'heart_lv_CARE190331_11D'</li><li>'heart_lv_CARE191122_2D'</li><li>'heart_lv_CARE191122_3D'</li><li>'heart_lv_SM-IOBHO'</li><li>'heart_lv_SM-JF1NY'</li><li>'heart_ra_CARE181213_2A'</li><li>'heart_ra_CARE190307_10A'</li><li>'heart_rv_CARE181125_3B'</li><li>'heart_rv_CARE181213_2B'</li><li>'heart_rv_CARE190307_10B'</li><li>'heart_rv_CARE190331_11B'</li></ol>\n"
      ],
      "text/latex": [
       "\\begin{enumerate*}\n",
       "\\item 'heart\\_atrial\\_appendage\\_SM-IOBHN'\n",
       "\\item 'heart\\_atrial\\_appendage\\_SM-JF1NX'\n",
       "\\item 'heart\\_la\\_CARE181125\\_3C'\n",
       "\\item 'heart\\_la\\_CARE190307\\_10C'\n",
       "\\item 'heart\\_la\\_CARE191122\\_2C'\n",
       "\\item 'heart\\_lv\\_CARE181125\\_3D'\n",
       "\\item 'heart\\_lv\\_CARE190307\\_10D'\n",
       "\\item 'heart\\_lv\\_CARE190331\\_11D'\n",
       "\\item 'heart\\_lv\\_CARE191122\\_2D'\n",
       "\\item 'heart\\_lv\\_CARE191122\\_3D'\n",
       "\\item 'heart\\_lv\\_SM-IOBHO'\n",
       "\\item 'heart\\_lv\\_SM-JF1NY'\n",
       "\\item 'heart\\_ra\\_CARE181213\\_2A'\n",
       "\\item 'heart\\_ra\\_CARE190307\\_10A'\n",
       "\\item 'heart\\_rv\\_CARE181125\\_3B'\n",
       "\\item 'heart\\_rv\\_CARE181213\\_2B'\n",
       "\\item 'heart\\_rv\\_CARE190307\\_10B'\n",
       "\\item 'heart\\_rv\\_CARE190331\\_11B'\n",
       "\\end{enumerate*}\n"
      ],
      "text/markdown": [
       "1. 'heart_atrial_appendage_SM-IOBHN'\n",
       "2. 'heart_atrial_appendage_SM-JF1NX'\n",
       "3. 'heart_la_CARE181125_3C'\n",
       "4. 'heart_la_CARE190307_10C'\n",
       "5. 'heart_la_CARE191122_2C'\n",
       "6. 'heart_lv_CARE181125_3D'\n",
       "7. 'heart_lv_CARE190307_10D'\n",
       "8. 'heart_lv_CARE190331_11D'\n",
       "9. 'heart_lv_CARE191122_2D'\n",
       "10. 'heart_lv_CARE191122_3D'\n",
       "11. 'heart_lv_SM-IOBHO'\n",
       "12. 'heart_lv_SM-JF1NY'\n",
       "13. 'heart_ra_CARE181213_2A'\n",
       "14. 'heart_ra_CARE190307_10A'\n",
       "15. 'heart_rv_CARE181125_3B'\n",
       "16. 'heart_rv_CARE181213_2B'\n",
       "17. 'heart_rv_CARE190307_10B'\n",
       "18. 'heart_rv_CARE190331_11B'\n",
       "\n",
       "\n"
      ],
      "text/plain": [
       " [1] \"heart_atrial_appendage_SM-IOBHN\" \"heart_atrial_appendage_SM-JF1NX\"\n",
       " [3] \"heart_la_CARE181125_3C\"          \"heart_la_CARE190307_10C\"        \n",
       " [5] \"heart_la_CARE191122_2C\"          \"heart_lv_CARE181125_3D\"         \n",
       " [7] \"heart_lv_CARE190307_10D\"         \"heart_lv_CARE190331_11D\"        \n",
       " [9] \"heart_lv_CARE191122_2D\"          \"heart_lv_CARE191122_3D\"         \n",
       "[11] \"heart_lv_SM-IOBHO\"               \"heart_lv_SM-JF1NY\"              \n",
       "[13] \"heart_ra_CARE181213_2A\"          \"heart_ra_CARE190307_10A\"        \n",
       "[15] \"heart_rv_CARE181125_3B\"          \"heart_rv_CARE181213_2B\"         \n",
       "[17] \"heart_rv_CARE190307_10B\"         \"heart_rv_CARE190331_11B\"        "
      ]
     },
     "metadata": {},
     "output_type": "display_data"
    }
   ],
   "source": [
    "tissues.select"
   ]
  },
  {
   "cell_type": "code",
   "execution_count": 25,
   "id": "bd4f814b-9ab7-46e7-9235-6b9979ffad2e",
   "metadata": {},
   "outputs": [
    {
     "data": {
      "text/html": [
       "<style>\n",
       ".list-inline {list-style: none; margin:0; padding: 0}\n",
       ".list-inline>li {display: inline-block}\n",
       ".list-inline>li:not(:last-child)::after {content: \"\\00b7\"; padding: 0 .5ex}\n",
       "</style>\n",
       "<ol class=list-inline><li>'heart_atrial_appendage_SM-IOBHN'</li><li>'heart_atrial_appendage_SM-JF1NX'</li><li>'CARE181125_3C'</li><li>'CARE190307_10C'</li><li>'CARE191122_2C'</li><li>'CARE181125_3D'</li><li>'CARE190307_10D'</li><li>'CARE190331_11D'</li><li>'CARE191122_2D'</li><li>'CARE191122_3D'</li><li>'SM-IOBHO'</li><li>'SM-JF1NY'</li><li>'CARE181213_2A'</li><li>'CARE190307_10A'</li><li>'CARE181125_3B'</li><li>'CARE181213_2B'</li><li>'CARE190307_10B'</li><li>'CARE190331_11B'</li></ol>\n"
      ],
      "text/latex": [
       "\\begin{enumerate*}\n",
       "\\item 'heart\\_atrial\\_appendage\\_SM-IOBHN'\n",
       "\\item 'heart\\_atrial\\_appendage\\_SM-JF1NX'\n",
       "\\item 'CARE181125\\_3C'\n",
       "\\item 'CARE190307\\_10C'\n",
       "\\item 'CARE191122\\_2C'\n",
       "\\item 'CARE181125\\_3D'\n",
       "\\item 'CARE190307\\_10D'\n",
       "\\item 'CARE190331\\_11D'\n",
       "\\item 'CARE191122\\_2D'\n",
       "\\item 'CARE191122\\_3D'\n",
       "\\item 'SM-IOBHO'\n",
       "\\item 'SM-JF1NY'\n",
       "\\item 'CARE181213\\_2A'\n",
       "\\item 'CARE190307\\_10A'\n",
       "\\item 'CARE181125\\_3B'\n",
       "\\item 'CARE181213\\_2B'\n",
       "\\item 'CARE190307\\_10B'\n",
       "\\item 'CARE190331\\_11B'\n",
       "\\end{enumerate*}\n"
      ],
      "text/markdown": [
       "1. 'heart_atrial_appendage_SM-IOBHN'\n",
       "2. 'heart_atrial_appendage_SM-JF1NX'\n",
       "3. 'CARE181125_3C'\n",
       "4. 'CARE190307_10C'\n",
       "5. 'CARE191122_2C'\n",
       "6. 'CARE181125_3D'\n",
       "7. 'CARE190307_10D'\n",
       "8. 'CARE190331_11D'\n",
       "9. 'CARE191122_2D'\n",
       "10. 'CARE191122_3D'\n",
       "11. 'SM-IOBHO'\n",
       "12. 'SM-JF1NY'\n",
       "13. 'CARE181213_2A'\n",
       "14. 'CARE190307_10A'\n",
       "15. 'CARE181125_3B'\n",
       "16. 'CARE181213_2B'\n",
       "17. 'CARE190307_10B'\n",
       "18. 'CARE190331_11B'\n",
       "\n",
       "\n"
      ],
      "text/plain": [
       " [1] \"heart_atrial_appendage_SM-IOBHN\" \"heart_atrial_appendage_SM-JF1NX\"\n",
       " [3] \"CARE181125_3C\"                   \"CARE190307_10C\"                 \n",
       " [5] \"CARE191122_2C\"                   \"CARE181125_3D\"                  \n",
       " [7] \"CARE190307_10D\"                  \"CARE190331_11D\"                 \n",
       " [9] \"CARE191122_2D\"                   \"CARE191122_3D\"                  \n",
       "[11] \"SM-IOBHO\"                        \"SM-JF1NY\"                       \n",
       "[13] \"CARE181213_2A\"                   \"CARE190307_10A\"                 \n",
       "[15] \"CARE181125_3B\"                   \"CARE181213_2B\"                  \n",
       "[17] \"CARE190307_10B\"                  \"CARE190331_11B\"                 "
      ]
     },
     "metadata": {},
     "output_type": "display_data"
    }
   ],
   "source": [
    "a"
   ]
  },
  {
   "cell_type": "code",
   "execution_count": 26,
   "id": "1872e33d-398b-4681-8ea2-b45ae85aaca9",
   "metadata": {
    "tags": []
   },
   "outputs": [
    {
     "data": {
      "text/html": [
       "<ol>\n",
       "\t<li>'heart_atrial_appendage_SM-IOBHN_rep1_fragments.bed.gz'</li>\n",
       "\t<li>'heart_atrial_appendage_SM-JF1NX_rep1_fragments.bed.gz'</li>\n",
       "\t<li>'CARE181125_3C_rep1_fragments.bed.gz'</li>\n",
       "\t<li>'CARE190307_10C_rep1_fragments.bed.gz'</li>\n",
       "\t<li>'CARE191122_2C_rep1_fragments.bed.gz'</li>\n",
       "\t<li>'CARE181125_3D_rep1_fragments.bed.gz'</li>\n",
       "\t<li>'CARE190307_10D_rep1_fragments.bed.gz'</li>\n",
       "\t<li>'CARE190331_11D_rep1_fragments.bed.gz'</li>\n",
       "\t<li>'CARE191122_2D_rep1_fragments.bed.gz'</li>\n",
       "\t<li>'CARE191122_3D_rep1_fragments.bed.gz'</li>\n",
       "\t<li>'heart_lv_SM-IOBHO_rep1_fragments.bed.gz'</li>\n",
       "\t<li>'heart_lv_SM-JF1NY_rep1_fragments.bed.gz'</li>\n",
       "\t<li>'CARE181213_2A_rep1_fragments.bed.gz'</li>\n",
       "\t<li>'CARE190307_10A_rep1_fragments.bed.gz'</li>\n",
       "\t<li>'CARE181125_3B_rep1_fragments.bed.gz'</li>\n",
       "\t<li>'CARE181213_2B_rep1_fragments.bed.gz'</li>\n",
       "\t<li>'CARE190307_10B_rep1_fragments.bed.gz'</li>\n",
       "\t<li>'CARE190331_11B_rep1_fragments.bed.gz'</li>\n",
       "</ol>\n"
      ],
      "text/latex": [
       "\\begin{enumerate}\n",
       "\\item 'heart\\_atrial\\_appendage\\_SM-IOBHN\\_rep1\\_fragments.bed.gz'\n",
       "\\item 'heart\\_atrial\\_appendage\\_SM-JF1NX\\_rep1\\_fragments.bed.gz'\n",
       "\\item 'CARE181125\\_3C\\_rep1\\_fragments.bed.gz'\n",
       "\\item 'CARE190307\\_10C\\_rep1\\_fragments.bed.gz'\n",
       "\\item 'CARE191122\\_2C\\_rep1\\_fragments.bed.gz'\n",
       "\\item 'CARE181125\\_3D\\_rep1\\_fragments.bed.gz'\n",
       "\\item 'CARE190307\\_10D\\_rep1\\_fragments.bed.gz'\n",
       "\\item 'CARE190331\\_11D\\_rep1\\_fragments.bed.gz'\n",
       "\\item 'CARE191122\\_2D\\_rep1\\_fragments.bed.gz'\n",
       "\\item 'CARE191122\\_3D\\_rep1\\_fragments.bed.gz'\n",
       "\\item 'heart\\_lv\\_SM-IOBHO\\_rep1\\_fragments.bed.gz'\n",
       "\\item 'heart\\_lv\\_SM-JF1NY\\_rep1\\_fragments.bed.gz'\n",
       "\\item 'CARE181213\\_2A\\_rep1\\_fragments.bed.gz'\n",
       "\\item 'CARE190307\\_10A\\_rep1\\_fragments.bed.gz'\n",
       "\\item 'CARE181125\\_3B\\_rep1\\_fragments.bed.gz'\n",
       "\\item 'CARE181213\\_2B\\_rep1\\_fragments.bed.gz'\n",
       "\\item 'CARE190307\\_10B\\_rep1\\_fragments.bed.gz'\n",
       "\\item 'CARE190331\\_11B\\_rep1\\_fragments.bed.gz'\n",
       "\\end{enumerate}\n"
      ],
      "text/markdown": [
       "1. 'heart_atrial_appendage_SM-IOBHN_rep1_fragments.bed.gz'\n",
       "2. 'heart_atrial_appendage_SM-JF1NX_rep1_fragments.bed.gz'\n",
       "3. 'CARE181125_3C_rep1_fragments.bed.gz'\n",
       "4. 'CARE190307_10C_rep1_fragments.bed.gz'\n",
       "5. 'CARE191122_2C_rep1_fragments.bed.gz'\n",
       "6. 'CARE181125_3D_rep1_fragments.bed.gz'\n",
       "7. 'CARE190307_10D_rep1_fragments.bed.gz'\n",
       "8. 'CARE190331_11D_rep1_fragments.bed.gz'\n",
       "9. 'CARE191122_2D_rep1_fragments.bed.gz'\n",
       "10. 'CARE191122_3D_rep1_fragments.bed.gz'\n",
       "11. 'heart_lv_SM-IOBHO_rep1_fragments.bed.gz'\n",
       "12. 'heart_lv_SM-JF1NY_rep1_fragments.bed.gz'\n",
       "13. 'CARE181213_2A_rep1_fragments.bed.gz'\n",
       "14. 'CARE190307_10A_rep1_fragments.bed.gz'\n",
       "15. 'CARE181125_3B_rep1_fragments.bed.gz'\n",
       "16. 'CARE181213_2B_rep1_fragments.bed.gz'\n",
       "17. 'CARE190307_10B_rep1_fragments.bed.gz'\n",
       "18. 'CARE190331_11B_rep1_fragments.bed.gz'\n",
       "\n",
       "\n"
      ],
      "text/plain": [
       "[[1]]\n",
       "[1] \"heart_atrial_appendage_SM-IOBHN_rep1_fragments.bed.gz\"\n",
       "\n",
       "[[2]]\n",
       "[1] \"heart_atrial_appendage_SM-JF1NX_rep1_fragments.bed.gz\"\n",
       "\n",
       "[[3]]\n",
       "[1] \"CARE181125_3C_rep1_fragments.bed.gz\"\n",
       "\n",
       "[[4]]\n",
       "[1] \"CARE190307_10C_rep1_fragments.bed.gz\"\n",
       "\n",
       "[[5]]\n",
       "[1] \"CARE191122_2C_rep1_fragments.bed.gz\"\n",
       "\n",
       "[[6]]\n",
       "[1] \"CARE181125_3D_rep1_fragments.bed.gz\"\n",
       "\n",
       "[[7]]\n",
       "[1] \"CARE190307_10D_rep1_fragments.bed.gz\"\n",
       "\n",
       "[[8]]\n",
       "[1] \"CARE190331_11D_rep1_fragments.bed.gz\"\n",
       "\n",
       "[[9]]\n",
       "[1] \"CARE191122_2D_rep1_fragments.bed.gz\"\n",
       "\n",
       "[[10]]\n",
       "[1] \"CARE191122_3D_rep1_fragments.bed.gz\"\n",
       "\n",
       "[[11]]\n",
       "[1] \"heart_lv_SM-IOBHO_rep1_fragments.bed.gz\"\n",
       "\n",
       "[[12]]\n",
       "[1] \"heart_lv_SM-JF1NY_rep1_fragments.bed.gz\"\n",
       "\n",
       "[[13]]\n",
       "[1] \"CARE181213_2A_rep1_fragments.bed.gz\"\n",
       "\n",
       "[[14]]\n",
       "[1] \"CARE190307_10A_rep1_fragments.bed.gz\"\n",
       "\n",
       "[[15]]\n",
       "[1] \"CARE181125_3B_rep1_fragments.bed.gz\"\n",
       "\n",
       "[[16]]\n",
       "[1] \"CARE181213_2B_rep1_fragments.bed.gz\"\n",
       "\n",
       "[[17]]\n",
       "[1] \"CARE190307_10B_rep1_fragments.bed.gz\"\n",
       "\n",
       "[[18]]\n",
       "[1] \"CARE190331_11B_rep1_fragments.bed.gz\"\n"
      ]
     },
     "metadata": {},
     "output_type": "display_data"
    }
   ],
   "source": [
    "a%>%lapply(function(x){list.files(paste0('/nfs/mqc/Consensus_peak/test_data/Zhang_2021_Cell_AdultTissues/fragments/'),\n",
    "         pattern = x,full.names = FALSE)})"
   ]
  },
  {
   "cell_type": "code",
   "execution_count": 13,
   "id": "9e550851-d4fe-4f04-9563-35c7be96fd38",
   "metadata": {},
   "outputs": [
    {
     "data": {
      "text/html": [
       "7"
      ],
      "text/latex": [
       "7"
      ],
      "text/markdown": [
       "7"
      ],
      "text/plain": [
       "[1] 7"
      ]
     },
     "metadata": {},
     "output_type": "display_data"
    }
   ],
   "source": [
    "i"
   ]
  },
  {
   "cell_type": "code",
   "execution_count": null,
   "id": "cf2553ae-7fcb-4500-a480-00036f08640b",
   "metadata": {
    "tags": []
   },
   "outputs": [
    {
     "name": "stderr",
     "output_type": "stream",
     "text": [
      "\n",
      "\u001b[36m──\u001b[39m \u001b[1mColumn specification\u001b[22m \u001b[36m──────────────────────────────────────────────────────────\u001b[39m\n",
      "cols(\n",
      "  X1 = \u001b[31mcol_character()\u001b[39m,\n",
      "  X2 = \u001b[32mcol_double()\u001b[39m,\n",
      "  X3 = \u001b[32mcol_double()\u001b[39m,\n",
      "  X4 = \u001b[31mcol_character()\u001b[39m,\n",
      "  X5 = \u001b[32mcol_double()\u001b[39m,\n",
      "  X6 = \u001b[31mcol_character()\u001b[39m\n",
      ")\n",
      "\n",
      "4428\n",
      "\n",
      "Warning message:\n",
      "“\u001b[1m\u001b[22mThe `keep` argument of `group_split()` is deprecated as of dplyr 1.0.0.\n",
      "\u001b[36mℹ\u001b[39m Please use the `.keep` argument instead.”\n"
     ]
    },
    {
     "name": "stdout",
     "output_type": "stream",
     "text": [
      "[1] 4428\n"
     ]
    },
    {
     "name": "stderr",
     "output_type": "stream",
     "text": [
      "Warning message in dir.create(paste0(\"data/correct_data/example2/\", tissues.select[i])):\n",
      "“'data/correct_data/example2/heart_lv_CARE190307_10D' already exists”\n",
      "\n",
      "\u001b[36m──\u001b[39m \u001b[1mColumn specification\u001b[22m \u001b[36m──────────────────────────────────────────────────────────\u001b[39m\n",
      "cols(\n",
      "  X1 = \u001b[31mcol_character()\u001b[39m,\n",
      "  X2 = \u001b[32mcol_double()\u001b[39m,\n",
      "  X3 = \u001b[32mcol_double()\u001b[39m,\n",
      "  X4 = \u001b[31mcol_character()\u001b[39m,\n",
      "  X5 = \u001b[32mcol_double()\u001b[39m,\n",
      "  X6 = \u001b[31mcol_character()\u001b[39m\n",
      ")\n",
      "\n",
      "1715\n",
      "\n",
      "Warning message:\n",
      "“\u001b[1m\u001b[22mThe `keep` argument of `group_split()` is deprecated as of dplyr 1.0.0.\n",
      "\u001b[36mℹ\u001b[39m Please use the `.keep` argument instead.”\n"
     ]
    },
    {
     "name": "stdout",
     "output_type": "stream",
     "text": [
      "[1] 1715\n"
     ]
    },
    {
     "name": "stderr",
     "output_type": "stream",
     "text": [
      "\n",
      "\u001b[36m──\u001b[39m \u001b[1mColumn specification\u001b[22m \u001b[36m──────────────────────────────────────────────────────────\u001b[39m\n",
      "cols(\n",
      "  X1 = \u001b[31mcol_character()\u001b[39m,\n",
      "  X2 = \u001b[32mcol_double()\u001b[39m,\n",
      "  X3 = \u001b[32mcol_double()\u001b[39m,\n",
      "  X4 = \u001b[31mcol_character()\u001b[39m,\n",
      "  X5 = \u001b[32mcol_double()\u001b[39m,\n",
      "  X6 = \u001b[31mcol_character()\u001b[39m\n",
      ")\n",
      "\n",
      "2079\n",
      "\n",
      "Warning message:\n",
      "“\u001b[1m\u001b[22mThe `keep` argument of `group_split()` is deprecated as of dplyr 1.0.0.\n",
      "\u001b[36mℹ\u001b[39m Please use the `.keep` argument instead.”\n"
     ]
    },
    {
     "name": "stdout",
     "output_type": "stream",
     "text": [
      "[1] 2079\n"
     ]
    },
    {
     "name": "stderr",
     "output_type": "stream",
     "text": [
      "\n",
      "\u001b[36m──\u001b[39m \u001b[1mColumn specification\u001b[22m \u001b[36m──────────────────────────────────────────────────────────\u001b[39m\n",
      "cols(\n",
      "  X1 = \u001b[31mcol_character()\u001b[39m,\n",
      "  X2 = \u001b[32mcol_double()\u001b[39m,\n",
      "  X3 = \u001b[32mcol_double()\u001b[39m,\n",
      "  X4 = \u001b[31mcol_character()\u001b[39m,\n",
      "  X5 = \u001b[32mcol_double()\u001b[39m,\n",
      "  X6 = \u001b[31mcol_character()\u001b[39m\n",
      ")\n",
      "\n",
      "1951\n",
      "\n",
      "Warning message:\n",
      "“\u001b[1m\u001b[22mThe `keep` argument of `group_split()` is deprecated as of dplyr 1.0.0.\n",
      "\u001b[36mℹ\u001b[39m Please use the `.keep` argument instead.”\n"
     ]
    },
    {
     "name": "stdout",
     "output_type": "stream",
     "text": [
      "[1] 1951\n"
     ]
    },
    {
     "name": "stderr",
     "output_type": "stream",
     "text": [
      "\n",
      "\u001b[36m──\u001b[39m \u001b[1mColumn specification\u001b[22m \u001b[36m──────────────────────────────────────────────────────────\u001b[39m\n",
      "cols(\n",
      "  X1 = \u001b[31mcol_character()\u001b[39m,\n",
      "  X2 = \u001b[32mcol_double()\u001b[39m,\n",
      "  X3 = \u001b[32mcol_double()\u001b[39m,\n",
      "  X4 = \u001b[31mcol_character()\u001b[39m,\n",
      "  X5 = \u001b[32mcol_double()\u001b[39m,\n",
      "  X6 = \u001b[31mcol_character()\u001b[39m\n",
      ")\n",
      "\n",
      "4601\n",
      "\n",
      "Warning message:\n",
      "“\u001b[1m\u001b[22mThe `keep` argument of `group_split()` is deprecated as of dplyr 1.0.0.\n",
      "\u001b[36mℹ\u001b[39m Please use the `.keep` argument instead.”\n"
     ]
    }
   ],
   "source": [
    "for( i in 7:(tissues.select%>%length)){\n",
    "    \n",
    "    x=gsub('heart_la_|heart_lv_|heart_rv_|heart_ra_','',tissues.select[i])\n",
    "    \n",
    "    a=list.files(paste0('/nfs/mqc/Consensus_peak/test_data/Zhang_2021_Cell_AdultTissues/fragments/'),\n",
    "         pattern = x,full.names = TRUE)\n",
    "    file=read_table(a,col_names = FALSE)\n",
    "    cells = mat.sub%>%filter(tissue==tissues.select[i])%>%pull(barcode)\n",
    "    \n",
    "    cells%>%length%>%message\n",
    "    \n",
    "    df = file%>%select(X1:X5)%>%filter(X4%in%cells)%>%group_by(X4)\n",
    "\n",
    "    dfs = df%>%filter(X1%in%paste0('chr',c(1:22,'X','Y')))%>%group_split(keep=TRUE)\n",
    "\n",
    "    print(length(dfs))\n",
    "    dir.create(paste0('data/correct_data/example2/',tissues.select[i]))\n",
    "    \n",
    "    dfs%>%mclapply(function(x){\n",
    "                a = x[1,4]\n",
    "                write_tsv(x%>%select(X1:X3),\n",
    "                          paste0('data/correct_data/example2/',tissues.select[i],'/',as.character(a)),\n",
    "                          col_names = FALSE)\n",
    "            },mc.cores=20)\n",
    "    \n",
    "    \n",
    "}"
   ]
  },
  {
   "cell_type": "code",
   "execution_count": null,
   "id": "548d97b8-8a29-48cc-8923-84ba5cf6c164",
   "metadata": {},
   "outputs": [],
   "source": []
  }
 ],
 "metadata": {
  "kernelspec": {
   "display_name": "R",
   "language": "R",
   "name": "ir"
  },
  "language_info": {
   "codemirror_mode": "r",
   "file_extension": ".r",
   "mimetype": "text/x-r-source",
   "name": "R",
   "pygments_lexer": "r",
   "version": "4.1.3"
  }
 },
 "nbformat": 4,
 "nbformat_minor": 5
}
