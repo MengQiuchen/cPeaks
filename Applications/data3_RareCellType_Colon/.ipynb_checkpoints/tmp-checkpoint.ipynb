{
 "cells": [
  {
   "cell_type": "code",
   "execution_count": 1,
   "id": "31298238-6aba-4212-b9c8-759c7be8a3d5",
   "metadata": {
    "collapsed": true,
    "jupyter": {
     "outputs_hidden": true
    },
    "tags": []
   },
   "outputs": [
    {
     "ename": "ERROR",
     "evalue": "Error in library(mixtools): there is no package called ‘mixtools’\n",
     "output_type": "error",
     "traceback": [
      "Error in library(mixtools): there is no package called ‘mixtools’\nTraceback:\n",
      "1. source(\"../../source/basic.r\")",
      "2. withVisible(eval(ei, envir))",
      "3. eval(ei, envir)",
      "4. eval(ei, envir)",
      "5. suppressPackageStartupMessages({\n .     library(tidyverse)\n .     library(dplyr)\n .     library(parallel)\n .     library(qs)\n .     library(diptest)\n .     library(ggplot2)\n .     library(ggplotify)\n .     library(patchwork)\n .     library(dbscan)\n .     library(HiClimR)\n .     library(pheatmap)\n .     library(mixtools)\n .     library(gridExtra)\n .     library(\"ape\")\n .     library(\"dendextend\")\n . })",
      "6. withCallingHandlers(expr, packageStartupMessage = function(c) tryInvokeRestart(\"muffleMessage\"))",
      "7. library(mixtools)"
     ]
    }
   ],
   "source": [
    "source('../../source/basic.r')"
   ]
  },
  {
   "cell_type": "code",
   "execution_count": 2,
   "id": "37f98c9c-54a9-4f00-bfca-5c675fc4935e",
   "metadata": {},
   "outputs": [],
   "source": [
    "mat=read.csv('/nfs/mqc/Consensus_peak/test_data/Zhang_2021_Cell_AdultTissues/Others/Cell_metadata.tsv',sep = '\\t')\n"
   ]
  },
  {
   "cell_type": "code",
   "execution_count": 3,
   "id": "d12a1b5c-ecb4-4876-b881-63e577314c03",
   "metadata": {},
   "outputs": [],
   "source": [
    "a=mat%>%filter(Life.stage=='Adult')%>%pull(tissue)%>%.[grep('lung|Lung',.)]%>%unique"
   ]
  },
  {
   "cell_type": "code",
   "execution_count": 4,
   "id": "a3d8b016-1599-4172-8a4c-ccea828c5ccf",
   "metadata": {},
   "outputs": [
    {
     "data": {
      "text/html": [
       "<style>\n",
       ".list-inline {list-style: none; margin:0; padding: 0}\n",
       ".list-inline>li {display: inline-block}\n",
       ".list-inline>li:not(:last-child)::after {content: \"\\00b7\"; padding: 0 .5ex}\n",
       "</style>\n",
       "<ol class=list-inline><li>'LungMap_D122'</li><li>'LungMap_D175'</li><li>'LungMap_D231'</li><li>'lung_SM-A62E9'</li><li>'lung_SM-A8WNH'</li><li>'lung_SM-ACCPU'</li><li>'lung_SM-JF1NZ'</li></ol>\n"
      ],
      "text/latex": [
       "\\begin{enumerate*}\n",
       "\\item 'LungMap\\_D122'\n",
       "\\item 'LungMap\\_D175'\n",
       "\\item 'LungMap\\_D231'\n",
       "\\item 'lung\\_SM-A62E9'\n",
       "\\item 'lung\\_SM-A8WNH'\n",
       "\\item 'lung\\_SM-ACCPU'\n",
       "\\item 'lung\\_SM-JF1NZ'\n",
       "\\end{enumerate*}\n"
      ],
      "text/markdown": [
       "1. 'LungMap_D122'\n",
       "2. 'LungMap_D175'\n",
       "3. 'LungMap_D231'\n",
       "4. 'lung_SM-A62E9'\n",
       "5. 'lung_SM-A8WNH'\n",
       "6. 'lung_SM-ACCPU'\n",
       "7. 'lung_SM-JF1NZ'\n",
       "\n",
       "\n"
      ],
      "text/plain": [
       "[1] \"LungMap_D122\"  \"LungMap_D175\"  \"LungMap_D231\"  \"lung_SM-A62E9\"\n",
       "[5] \"lung_SM-A8WNH\" \"lung_SM-ACCPU\" \"lung_SM-JF1NZ\""
      ]
     },
     "metadata": {},
     "output_type": "display_data"
    }
   ],
   "source": [
    "mat%>%filter(Life.stage=='Adult')%>%pull(tissue)%>%.[grep('lung|Lung',.)]%>%unique"
   ]
  },
  {
   "cell_type": "code",
   "execution_count": 5,
   "id": "653bddd7-c27b-403f-9246-8ff0a6509b82",
   "metadata": {
    "tags": []
   },
   "outputs": [],
   "source": [
    "mat.sub <- mat%>%filter(tissue%in%a)%>%mutate(barcode=str_extract(cellID,pattern = '(?<=\\\\+).*'))"
   ]
  },
  {
   "cell_type": "code",
   "execution_count": 6,
   "id": "a8453ee3-d639-44d9-8e46-d5c173509cd4",
   "metadata": {},
   "outputs": [],
   "source": [
    "tissues <- mat.sub%>%pull(tissue)%>%unique"
   ]
  },
  {
   "cell_type": "code",
   "execution_count": 7,
   "id": "6cd77872-c058-4686-abf3-2e1be35aa081",
   "metadata": {},
   "outputs": [
    {
     "data": {
      "text/html": [
       "<style>\n",
       ".list-inline {list-style: none; margin:0; padding: 0}\n",
       ".list-inline>li {display: inline-block}\n",
       ".list-inline>li:not(:last-child)::after {content: \"\\00b7\"; padding: 0 .5ex}\n",
       "</style>\n",
       "<ol class=list-inline><li>'LungMap_D122'</li><li>'LungMap_D175'</li><li>'LungMap_D231'</li><li>'lung_SM-A62E9'</li><li>'lung_SM-A8WNH'</li><li>'lung_SM-ACCPU'</li><li>'lung_SM-JF1NZ'</li></ol>\n"
      ],
      "text/latex": [
       "\\begin{enumerate*}\n",
       "\\item 'LungMap\\_D122'\n",
       "\\item 'LungMap\\_D175'\n",
       "\\item 'LungMap\\_D231'\n",
       "\\item 'lung\\_SM-A62E9'\n",
       "\\item 'lung\\_SM-A8WNH'\n",
       "\\item 'lung\\_SM-ACCPU'\n",
       "\\item 'lung\\_SM-JF1NZ'\n",
       "\\end{enumerate*}\n"
      ],
      "text/markdown": [
       "1. 'LungMap_D122'\n",
       "2. 'LungMap_D175'\n",
       "3. 'LungMap_D231'\n",
       "4. 'lung_SM-A62E9'\n",
       "5. 'lung_SM-A8WNH'\n",
       "6. 'lung_SM-ACCPU'\n",
       "7. 'lung_SM-JF1NZ'\n",
       "\n",
       "\n"
      ],
      "text/plain": [
       "[1] \"LungMap_D122\"  \"LungMap_D175\"  \"LungMap_D231\"  \"lung_SM-A62E9\"\n",
       "[5] \"lung_SM-A8WNH\" \"lung_SM-ACCPU\" \"lung_SM-JF1NZ\""
      ]
     },
     "metadata": {},
     "output_type": "display_data"
    }
   ],
   "source": [
    "tissues"
   ]
  },
  {
   "cell_type": "code",
   "execution_count": 8,
   "id": "c67d3de2-8611-4c8b-952f-742862d595d4",
   "metadata": {},
   "outputs": [
    {
     "data": {
      "text/html": [
       "<table class=\"dataframe\">\n",
       "<caption>A tibble: 7 × 2</caption>\n",
       "<thead>\n",
       "\t<tr><th scope=col>tissue</th><th scope=col>n</th></tr>\n",
       "\t<tr><th scope=col>&lt;chr&gt;</th><th scope=col>&lt;int&gt;</th></tr>\n",
       "</thead>\n",
       "<tbody>\n",
       "\t<tr><td>lung_SM-A62E9</td><td>4645</td></tr>\n",
       "\t<tr><td>lung_SM-A8WNH</td><td>4770</td></tr>\n",
       "\t<tr><td>lung_SM-ACCPU</td><td>4495</td></tr>\n",
       "\t<tr><td>lung_SM-JF1NZ</td><td>5642</td></tr>\n",
       "\t<tr><td>LungMap_D122 </td><td>5215</td></tr>\n",
       "\t<tr><td>LungMap_D175 </td><td>7746</td></tr>\n",
       "\t<tr><td>LungMap_D231 </td><td>8836</td></tr>\n",
       "</tbody>\n",
       "</table>\n"
      ],
      "text/latex": [
       "A tibble: 7 × 2\n",
       "\\begin{tabular}{ll}\n",
       " tissue & n\\\\\n",
       " <chr> & <int>\\\\\n",
       "\\hline\n",
       "\t lung\\_SM-A62E9 & 4645\\\\\n",
       "\t lung\\_SM-A8WNH & 4770\\\\\n",
       "\t lung\\_SM-ACCPU & 4495\\\\\n",
       "\t lung\\_SM-JF1NZ & 5642\\\\\n",
       "\t LungMap\\_D122  & 5215\\\\\n",
       "\t LungMap\\_D175  & 7746\\\\\n",
       "\t LungMap\\_D231  & 8836\\\\\n",
       "\\end{tabular}\n"
      ],
      "text/markdown": [
       "\n",
       "A tibble: 7 × 2\n",
       "\n",
       "| tissue &lt;chr&gt; | n &lt;int&gt; |\n",
       "|---|---|\n",
       "| lung_SM-A62E9 | 4645 |\n",
       "| lung_SM-A8WNH | 4770 |\n",
       "| lung_SM-ACCPU | 4495 |\n",
       "| lung_SM-JF1NZ | 5642 |\n",
       "| LungMap_D122  | 5215 |\n",
       "| LungMap_D175  | 7746 |\n",
       "| LungMap_D231  | 8836 |\n",
       "\n"
      ],
      "text/plain": [
       "  tissue        n   \n",
       "1 lung_SM-A62E9 4645\n",
       "2 lung_SM-A8WNH 4770\n",
       "3 lung_SM-ACCPU 4495\n",
       "4 lung_SM-JF1NZ 5642\n",
       "5 LungMap_D122  5215\n",
       "6 LungMap_D175  7746\n",
       "7 LungMap_D231  8836"
      ]
     },
     "metadata": {},
     "output_type": "display_data"
    }
   ],
   "source": [
    "mat.sub%>%group_by(tissue)%>%summarise(n=n()) # 含有fetal"
   ]
  },
  {
   "cell_type": "code",
   "execution_count": 9,
   "id": "5173fe5f-080d-4997-b316-5d11c35ebc34",
   "metadata": {
    "tags": []
   },
   "outputs": [],
   "source": [
    "tissues.select <- mat.sub%>%group_by(tissue)%>%summarise(n=n())%>%filter(n>5)%>%pull(tissue)"
   ]
  },
  {
   "cell_type": "code",
   "execution_count": 10,
   "id": "6e076615-2701-4cf6-ba32-46f57be99f72",
   "metadata": {},
   "outputs": [
    {
     "data": {
      "text/html": [
       "7"
      ],
      "text/latex": [
       "7"
      ],
      "text/markdown": [
       "7"
      ],
      "text/plain": [
       "[1] 7"
      ]
     },
     "metadata": {},
     "output_type": "display_data"
    }
   ],
   "source": [
    "tissues.select%>%length"
   ]
  },
  {
   "cell_type": "code",
   "execution_count": 11,
   "id": "de1970ea-e9f8-4fd3-a18b-d86c328c7d01",
   "metadata": {},
   "outputs": [
    {
     "data": {
      "text/html": [
       "<ol>\n",
       "\t<li>'/nfs/mqc/Consensus_peak/test_data/Zhang_2021_Cell_AdultTissues/fragments//lung_SM-A62E9_rep1_fragments.bed.gz'</li>\n",
       "\t<li>'/nfs/mqc/Consensus_peak/test_data/Zhang_2021_Cell_AdultTissues/fragments//lung_SM-A8WNH_rep1_fragments.bed.gz'</li>\n",
       "\t<li>'/nfs/mqc/Consensus_peak/test_data/Zhang_2021_Cell_AdultTissues/fragments//lung_SM-ACCPU_rep1_fragments.bed.gz'</li>\n",
       "\t<li>'/nfs/mqc/Consensus_peak/test_data/Zhang_2021_Cell_AdultTissues/fragments//lung_SM-JF1NZ_rep1_fragments.bed.gz'</li>\n",
       "\t<li>'/nfs/mqc/Consensus_peak/test_data/Zhang_2021_Cell_AdultTissues/fragments//LungMap_D122_rep1_fragments.bed.gz'</li>\n",
       "\t<li>'/nfs/mqc/Consensus_peak/test_data/Zhang_2021_Cell_AdultTissues/fragments//LungMap_D175_rep1_fragments.bed.gz'</li>\n",
       "\t<li>'/nfs/mqc/Consensus_peak/test_data/Zhang_2021_Cell_AdultTissues/fragments//LungMap_D231_rep1_fragments.bed.gz'</li>\n",
       "</ol>\n"
      ],
      "text/latex": [
       "\\begin{enumerate}\n",
       "\\item '/nfs/mqc/Consensus\\_peak/test\\_data/Zhang\\_2021\\_Cell\\_AdultTissues/fragments//lung\\_SM-A62E9\\_rep1\\_fragments.bed.gz'\n",
       "\\item '/nfs/mqc/Consensus\\_peak/test\\_data/Zhang\\_2021\\_Cell\\_AdultTissues/fragments//lung\\_SM-A8WNH\\_rep1\\_fragments.bed.gz'\n",
       "\\item '/nfs/mqc/Consensus\\_peak/test\\_data/Zhang\\_2021\\_Cell\\_AdultTissues/fragments//lung\\_SM-ACCPU\\_rep1\\_fragments.bed.gz'\n",
       "\\item '/nfs/mqc/Consensus\\_peak/test\\_data/Zhang\\_2021\\_Cell\\_AdultTissues/fragments//lung\\_SM-JF1NZ\\_rep1\\_fragments.bed.gz'\n",
       "\\item '/nfs/mqc/Consensus\\_peak/test\\_data/Zhang\\_2021\\_Cell\\_AdultTissues/fragments//LungMap\\_D122\\_rep1\\_fragments.bed.gz'\n",
       "\\item '/nfs/mqc/Consensus\\_peak/test\\_data/Zhang\\_2021\\_Cell\\_AdultTissues/fragments//LungMap\\_D175\\_rep1\\_fragments.bed.gz'\n",
       "\\item '/nfs/mqc/Consensus\\_peak/test\\_data/Zhang\\_2021\\_Cell\\_AdultTissues/fragments//LungMap\\_D231\\_rep1\\_fragments.bed.gz'\n",
       "\\end{enumerate}\n"
      ],
      "text/markdown": [
       "1. '/nfs/mqc/Consensus_peak/test_data/Zhang_2021_Cell_AdultTissues/fragments//lung_SM-A62E9_rep1_fragments.bed.gz'\n",
       "2. '/nfs/mqc/Consensus_peak/test_data/Zhang_2021_Cell_AdultTissues/fragments//lung_SM-A8WNH_rep1_fragments.bed.gz'\n",
       "3. '/nfs/mqc/Consensus_peak/test_data/Zhang_2021_Cell_AdultTissues/fragments//lung_SM-ACCPU_rep1_fragments.bed.gz'\n",
       "4. '/nfs/mqc/Consensus_peak/test_data/Zhang_2021_Cell_AdultTissues/fragments//lung_SM-JF1NZ_rep1_fragments.bed.gz'\n",
       "5. '/nfs/mqc/Consensus_peak/test_data/Zhang_2021_Cell_AdultTissues/fragments//LungMap_D122_rep1_fragments.bed.gz'\n",
       "6. '/nfs/mqc/Consensus_peak/test_data/Zhang_2021_Cell_AdultTissues/fragments//LungMap_D175_rep1_fragments.bed.gz'\n",
       "7. '/nfs/mqc/Consensus_peak/test_data/Zhang_2021_Cell_AdultTissues/fragments//LungMap_D231_rep1_fragments.bed.gz'\n",
       "\n",
       "\n"
      ],
      "text/plain": [
       "[[1]]\n",
       "[1] \"/nfs/mqc/Consensus_peak/test_data/Zhang_2021_Cell_AdultTissues/fragments//lung_SM-A62E9_rep1_fragments.bed.gz\"\n",
       "\n",
       "[[2]]\n",
       "[1] \"/nfs/mqc/Consensus_peak/test_data/Zhang_2021_Cell_AdultTissues/fragments//lung_SM-A8WNH_rep1_fragments.bed.gz\"\n",
       "\n",
       "[[3]]\n",
       "[1] \"/nfs/mqc/Consensus_peak/test_data/Zhang_2021_Cell_AdultTissues/fragments//lung_SM-ACCPU_rep1_fragments.bed.gz\"\n",
       "\n",
       "[[4]]\n",
       "[1] \"/nfs/mqc/Consensus_peak/test_data/Zhang_2021_Cell_AdultTissues/fragments//lung_SM-JF1NZ_rep1_fragments.bed.gz\"\n",
       "\n",
       "[[5]]\n",
       "[1] \"/nfs/mqc/Consensus_peak/test_data/Zhang_2021_Cell_AdultTissues/fragments//LungMap_D122_rep1_fragments.bed.gz\"\n",
       "\n",
       "[[6]]\n",
       "[1] \"/nfs/mqc/Consensus_peak/test_data/Zhang_2021_Cell_AdultTissues/fragments//LungMap_D175_rep1_fragments.bed.gz\"\n",
       "\n",
       "[[7]]\n",
       "[1] \"/nfs/mqc/Consensus_peak/test_data/Zhang_2021_Cell_AdultTissues/fragments//LungMap_D231_rep1_fragments.bed.gz\"\n"
      ]
     },
     "metadata": {},
     "output_type": "display_data"
    }
   ],
   "source": [
    "tissues.select%>%lapply(function(x){\n",
    "    list.files(paste0('/nfs/mqc/Consensus_peak/test_data/Zhang_2021_Cell_AdultTissues/fragments/'),\n",
    "         pattern = x,full.names = TRUE)\n",
    "})"
   ]
  },
  {
   "cell_type": "code",
   "execution_count": 12,
   "id": "a06ca238-b7ab-4359-b571-91378cc825f5",
   "metadata": {},
   "outputs": [
    {
     "ename": "ERROR",
     "evalue": "Error in eval(expr, envir, enclos): object 'i' not found\n",
     "output_type": "error",
     "traceback": [
      "Error in eval(expr, envir, enclos): object 'i' not found\nTraceback:\n"
     ]
    }
   ],
   "source": [
    "i"
   ]
  },
  {
   "cell_type": "code",
   "execution_count": null,
   "id": "389a4634-1132-4544-92d9-40b2c9679653",
   "metadata": {
    "tags": []
   },
   "outputs": [],
   "source": [
    "for( i in 3:5){\n",
    "    \n",
    "    a=list.files(paste0('/nfs/mqc/Consensus_peak/test_data/Zhang_2021_Cell_AdultTissues/fragments/'),\n",
    "         pattern = tissues.select[i],full.names = TRUE)\n",
    "    file=read_table(a,col_names = FALSE)\n",
    "    cells = mat.sub%>%filter(tissue==tissues.select[i])%>%pull(barcode)\n",
    "    \n",
    "    cells%>%length%>%message\n",
    "    \n",
    "\n",
    "    df = file%>%select(X1:X5)%>%filter(X4%in%cells)%>%group_by(X4)\n",
    "\n",
    "    dfs = df%>%filter(X1%in%paste0('chr',c(1:22,'X','Y')))%>%group_split(keep=TRUE)\n",
    "\n",
    "\n",
    "    dir.create(paste0('data/correct_data/example3/',tissues.select[i]))\n",
    "    \n",
    "    aa=dfs%>%mclapply(function(x){\n",
    "                a = x[1,4]\n",
    "                write_tsv(x%>%select(X1:X3),\n",
    "                          paste0('data/correct_data/example3/',tissues.select[i],'/',as.character(a)),\n",
    "                          col_names = FALSE)\n",
    "            },mc.cores=40)\n",
    "    \n",
    "    \n",
    "}"
   ]
  },
  {
   "cell_type": "code",
   "execution_count": null,
   "id": "2f2821b4-b966-4241-86ac-1a1015967ae8",
   "metadata": {},
   "outputs": [],
   "source": []
  }
 ],
 "metadata": {
  "kernelspec": {
   "display_name": "R",
   "language": "R",
   "name": "ir"
  },
  "language_info": {
   "codemirror_mode": "r",
   "file_extension": ".r",
   "mimetype": "text/x-r-source",
   "name": "R",
   "pygments_lexer": "r",
   "version": "4.1.3"
  }
 },
 "nbformat": 4,
 "nbformat_minor": 5
}
