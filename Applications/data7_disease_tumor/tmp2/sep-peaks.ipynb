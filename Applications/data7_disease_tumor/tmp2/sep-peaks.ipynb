{
 "cells": [
  {
   "cell_type": "code",
   "execution_count": 1,
   "id": "eb335454-bd87-4481-b1c5-a4f94bd8f5c6",
   "metadata": {},
   "outputs": [
    {
     "name": "stderr",
     "output_type": "stream",
     "text": [
      "Warning message:\n",
      "“no function found corresponding to methods exports from ‘BSgenome’ for: ‘releaseName’”\n"
     ]
    }
   ],
   "source": [
    "source('../../source/basic.r')\n",
    "\n",
    "source('../validataion.r')\n"
   ]
  },
  {
   "cell_type": "code",
   "execution_count": 2,
   "id": "63b098b5-a290-4a16-b9af-13493ecad86e",
   "metadata": {
    "tags": []
   },
   "outputs": [],
   "source": [
    "suppressPackageStartupMessages({\n",
    "    library(tidyverse)\n",
    "    library(Signac)\n",
    "    library(Seurat)\n",
    "    library(GenomeInfoDb)\n",
    "    library(EnsDb.Hsapiens.v86 )# hg38\n",
    "   # library(EnsDb.Hsapiens.v75) #hg19\n",
    "    library(ggplot2)\n",
    "    library(patchwork)\n",
    "    library(data.table)\n",
    "    library(Matrix)\n",
    "    set.seed(1234)\n",
    "})"
   ]
  },
  {
   "cell_type": "markdown",
   "id": "a0dc3268-d0f5-4904-a0a3-f1cedaee1393",
   "metadata": {},
   "source": [
    "# Metadata"
   ]
  },
  {
   "cell_type": "code",
   "execution_count": 3,
   "id": "db001888-43d3-4c99-9407-7b6cd9e3f94b",
   "metadata": {},
   "outputs": [],
   "source": [
    "metadata.all <- fread('data/tumor_metadata_Full_Cohort.tsv')"
   ]
  },
  {
   "cell_type": "code",
   "execution_count": 4,
   "id": "751197b7-06d2-4365-91e6-97facc8357c4",
   "metadata": {},
   "outputs": [
    {
     "data": {
      "text/html": [
       "<style>\n",
       ".list-inline {list-style: none; margin:0; padding: 0}\n",
       ".list-inline>li {display: inline-block}\n",
       ".list-inline>li:not(:last-child)::after {content: \"\\00b7\"; padding: 0 .5ex}\n",
       "</style>\n",
       "<ol class=list-inline><li>74621</li><li>20</li></ol>\n"
      ],
      "text/latex": [
       "\\begin{enumerate*}\n",
       "\\item 74621\n",
       "\\item 20\n",
       "\\end{enumerate*}\n"
      ],
      "text/markdown": [
       "1. 74621\n",
       "2. 20\n",
       "\n",
       "\n"
      ],
      "text/plain": [
       "[1] 74621    20"
      ]
     },
     "metadata": {},
     "output_type": "display_data"
    }
   ],
   "source": [
    "metadata.all%>%dim"
   ]
  },
  {
   "cell_type": "code",
   "execution_count": 5,
   "id": "9b719c53-e777-498a-859a-24c66eb5c8e8",
   "metadata": {},
   "outputs": [
    {
     "data": {
      "text/html": [
       "<style>\n",
       ".list-inline {list-style: none; margin:0; padding: 0}\n",
       ".list-inline>li {display: inline-block}\n",
       ".list-inline>li:not(:last-child)::after {content: \"\\00b7\"; padding: 0 .5ex}\n",
       "</style>\n",
       "<ol class=list-inline><li>'Barcode'</li><li>'Sample'</li><li>'TSSEnrichment'</li><li>'ReadsInTSS'</li><li>'ReadsInPromoter'</li><li>'ReadsInBlacklist'</li><li>'PromoterRatio'</li><li>'PassQC'</li><li>'NucleosomeRatio'</li><li>'nMultiFrags'</li><li>'nMonoFrags'</li><li>'nFrags'</li><li>'nDiFrags'</li><li>'DoubletScore'</li><li>'DoubletEnrichment'</li><li>'BlacklistRatio'</li><li>'ATAC_clusters'</li><li>'predictedCell_ArchR'</li><li>'predictedGroup_ArchR'</li><li>'predictedScore_ArchR'</li></ol>\n"
      ],
      "text/latex": [
       "\\begin{enumerate*}\n",
       "\\item 'Barcode'\n",
       "\\item 'Sample'\n",
       "\\item 'TSSEnrichment'\n",
       "\\item 'ReadsInTSS'\n",
       "\\item 'ReadsInPromoter'\n",
       "\\item 'ReadsInBlacklist'\n",
       "\\item 'PromoterRatio'\n",
       "\\item 'PassQC'\n",
       "\\item 'NucleosomeRatio'\n",
       "\\item 'nMultiFrags'\n",
       "\\item 'nMonoFrags'\n",
       "\\item 'nFrags'\n",
       "\\item 'nDiFrags'\n",
       "\\item 'DoubletScore'\n",
       "\\item 'DoubletEnrichment'\n",
       "\\item 'BlacklistRatio'\n",
       "\\item 'ATAC\\_clusters'\n",
       "\\item 'predictedCell\\_ArchR'\n",
       "\\item 'predictedGroup\\_ArchR'\n",
       "\\item 'predictedScore\\_ArchR'\n",
       "\\end{enumerate*}\n"
      ],
      "text/markdown": [
       "1. 'Barcode'\n",
       "2. 'Sample'\n",
       "3. 'TSSEnrichment'\n",
       "4. 'ReadsInTSS'\n",
       "5. 'ReadsInPromoter'\n",
       "6. 'ReadsInBlacklist'\n",
       "7. 'PromoterRatio'\n",
       "8. 'PassQC'\n",
       "9. 'NucleosomeRatio'\n",
       "10. 'nMultiFrags'\n",
       "11. 'nMonoFrags'\n",
       "12. 'nFrags'\n",
       "13. 'nDiFrags'\n",
       "14. 'DoubletScore'\n",
       "15. 'DoubletEnrichment'\n",
       "16. 'BlacklistRatio'\n",
       "17. 'ATAC_clusters'\n",
       "18. 'predictedCell_ArchR'\n",
       "19. 'predictedGroup_ArchR'\n",
       "20. 'predictedScore_ArchR'\n",
       "\n",
       "\n"
      ],
      "text/plain": [
       " [1] \"Barcode\"              \"Sample\"               \"TSSEnrichment\"       \n",
       " [4] \"ReadsInTSS\"           \"ReadsInPromoter\"      \"ReadsInBlacklist\"    \n",
       " [7] \"PromoterRatio\"        \"PassQC\"               \"NucleosomeRatio\"     \n",
       "[10] \"nMultiFrags\"          \"nMonoFrags\"           \"nFrags\"              \n",
       "[13] \"nDiFrags\"             \"DoubletScore\"         \"DoubletEnrichment\"   \n",
       "[16] \"BlacklistRatio\"       \"ATAC_clusters\"        \"predictedCell_ArchR\" \n",
       "[19] \"predictedGroup_ArchR\" \"predictedScore_ArchR\""
      ]
     },
     "metadata": {},
     "output_type": "display_data"
    }
   ],
   "source": [
    "colnames(metadata.all)"
   ]
  },
  {
   "cell_type": "code",
   "execution_count": 6,
   "id": "244242cb-c2a5-41e5-ba03-c8cf8775f929",
   "metadata": {},
   "outputs": [
    {
     "data": {
      "text/html": [
       "<style>\n",
       ".list-inline {list-style: none; margin:0; padding: 0}\n",
       ".list-inline>li {display: inline-block}\n",
       ".list-inline>li:not(:last-child)::after {content: \"\\00b7\"; padding: 0 .5ex}\n",
       "</style>\n",
       "<ol class=list-inline><li>'3533EL'</li><li>'3571DL'</li><li>'36186L'</li><li>'36639L'</li><li>'366C5L'</li><li>'37EACL'</li><li>'38FE7L'</li><li>'3BAE2L'</li><li>'3CCF1L'</li><li>'3E4D1L'</li><li>'3E5CFL'</li></ol>\n"
      ],
      "text/latex": [
       "\\begin{enumerate*}\n",
       "\\item '3533EL'\n",
       "\\item '3571DL'\n",
       "\\item '36186L'\n",
       "\\item '36639L'\n",
       "\\item '366C5L'\n",
       "\\item '37EACL'\n",
       "\\item '38FE7L'\n",
       "\\item '3BAE2L'\n",
       "\\item '3CCF1L'\n",
       "\\item '3E4D1L'\n",
       "\\item '3E5CFL'\n",
       "\\end{enumerate*}\n"
      ],
      "text/markdown": [
       "1. '3533EL'\n",
       "2. '3571DL'\n",
       "3. '36186L'\n",
       "4. '36639L'\n",
       "5. '366C5L'\n",
       "6. '37EACL'\n",
       "7. '38FE7L'\n",
       "8. '3BAE2L'\n",
       "9. '3CCF1L'\n",
       "10. '3E4D1L'\n",
       "11. '3E5CFL'\n",
       "\n",
       "\n"
      ],
      "text/plain": [
       " [1] \"3533EL\" \"3571DL\" \"36186L\" \"36639L\" \"366C5L\" \"37EACL\" \"38FE7L\" \"3BAE2L\"\n",
       " [9] \"3CCF1L\" \"3E4D1L\" \"3E5CFL\""
      ]
     },
     "metadata": {},
     "output_type": "display_data"
    }
   ],
   "source": [
    "metadata.all$Sample%>%unique"
   ]
  },
  {
   "cell_type": "code",
   "execution_count": 7,
   "id": "3fba3336-2817-47d6-a36d-d560871acd01",
   "metadata": {},
   "outputs": [],
   "source": [
    "metadata.rna <- fread('data/tumor_metadata_Full_Cohort_mmc3.tsv')#%>%dplyr::filter(CNV.Pos==TRUE)"
   ]
  },
  {
   "cell_type": "markdown",
   "id": "46e2cdd9-500e-4cf2-846a-99e03024ad30",
   "metadata": {
    "tags": []
   },
   "source": [
    "# cpeak data"
   ]
  },
  {
   "cell_type": "markdown",
   "id": "fa044336-8deb-4913-b20c-a056849e8fad",
   "metadata": {},
   "source": [
    "## read data"
   ]
  },
  {
   "cell_type": "code",
   "execution_count": 8,
   "id": "71ef4f52-92ed-4f8f-85de-ab0d4e4718cc",
   "metadata": {},
   "outputs": [],
   "source": [
    "sample_names = metadata.all$Sample%>%unique"
   ]
  },
  {
   "cell_type": "code",
   "execution_count": 9,
   "id": "fc5f7b15-9301-43bd-83b3-d066383a92e8",
   "metadata": {},
   "outputs": [
    {
     "data": {
      "text/html": [
       "<style>\n",
       ".list-inline {list-style: none; margin:0; padding: 0}\n",
       ".list-inline>li {display: inline-block}\n",
       ".list-inline>li:not(:last-child)::after {content: \"\\00b7\"; padding: 0 .5ex}\n",
       "</style>\n",
       "<ol class=list-inline><li>'3533EL'</li><li>'3571DL'</li><li>'36186L'</li><li>'36639L'</li><li>'366C5L'</li><li>'37EACL'</li><li>'38FE7L'</li><li>'3BAE2L'</li><li>'3CCF1L'</li><li>'3E4D1L'</li><li>'3E5CFL'</li></ol>\n"
      ],
      "text/latex": [
       "\\begin{enumerate*}\n",
       "\\item '3533EL'\n",
       "\\item '3571DL'\n",
       "\\item '36186L'\n",
       "\\item '36639L'\n",
       "\\item '366C5L'\n",
       "\\item '37EACL'\n",
       "\\item '38FE7L'\n",
       "\\item '3BAE2L'\n",
       "\\item '3CCF1L'\n",
       "\\item '3E4D1L'\n",
       "\\item '3E5CFL'\n",
       "\\end{enumerate*}\n"
      ],
      "text/markdown": [
       "1. '3533EL'\n",
       "2. '3571DL'\n",
       "3. '36186L'\n",
       "4. '36639L'\n",
       "5. '366C5L'\n",
       "6. '37EACL'\n",
       "7. '38FE7L'\n",
       "8. '3BAE2L'\n",
       "9. '3CCF1L'\n",
       "10. '3E4D1L'\n",
       "11. '3E5CFL'\n",
       "\n",
       "\n"
      ],
      "text/plain": [
       " [1] \"3533EL\" \"3571DL\" \"36186L\" \"36639L\" \"366C5L\" \"37EACL\" \"38FE7L\" \"3BAE2L\"\n",
       " [9] \"3CCF1L\" \"3E4D1L\" \"3E5CFL\""
      ]
     },
     "metadata": {},
     "output_type": "display_data"
    }
   ],
   "source": [
    "sample_names"
   ]
  },
  {
   "cell_type": "code",
   "execution_count": 10,
   "id": "ead51819-a15b-4dd6-bddb-677bd83973e9",
   "metadata": {},
   "outputs": [],
   "source": [
    "# sample_name = sample_names[1]"
   ]
  },
  {
   "cell_type": "code",
   "execution_count": 5,
   "id": "7a40e480-17d4-4f97-8133-61310740e55d",
   "metadata": {},
   "outputs": [],
   "source": [
    "sample_name='3BAE2L'"
   ]
  },
  {
   "cell_type": "code",
   "execution_count": 6,
   "id": "604d8972-fa79-4b05-be89-24e6a0598779",
   "metadata": {},
   "outputs": [],
   "source": []
  },
  {
   "cell_type": "code",
   "execution_count": 25,
   "id": "13e47d0e-7bca-4894-9b88-247211f0fa3e",
   "metadata": {},
   "outputs": [],
   "source": [
    "fun_seurat <- function(sample_name){\n",
    "\n",
    "    suppressMessages({\n",
    "        ################################\n",
    "        ## ATAC part\n",
    "        ## list the dir\n",
    "        dir_mtx = list.files('data/peak_calling/',pattern = 'gz.mtx')%>%.[grep(sample_name,.)]\n",
    "        frag_dir = list.files('data/peak_calling/',pattern = 'tsv.gz$')%>%.[grep(sample_name,.)]\n",
    "        peak_dir = list.files('data/peak_calling/',pattern = 'narrowPeak.bed$')%>%.[grep(sample_name,.)]\n",
    "\n",
    "        counts <- readMM(paste0(\"data/peak_calling/\",dir_mtx)) \n",
    "        colnames(counts) <- fread(paste0('data/barcode/',sample_name,'.barcode'),header = FALSE)%>%\n",
    "                            pull(V1)\n",
    "        rownames(counts) <- fread(paste0('data/peak_calling/',peak_dir))%>%mutate(name=paste0(V1,':',V2,'-',V3))%>%pull(name)\n",
    "        \n",
    "        ## read metadata\n",
    "        metadata = metadata.all%>%dplyr::filter(Sample==sample_name)%>%\n",
    "                mutate(Barcode=str_extract(Barcode,'(?<=#).*'))%>%\n",
    "                column_to_rownames('Barcode')\n",
    "\n",
    "        ## subset using metadata\n",
    "        counts.sub <- counts[,intersect(rownames(metadata),colnames(counts))]\n",
    "        metadata.sub <- metadata[intersect(rownames(metadata),colnames(counts)),]\n",
    "\n",
    "        ## build seurat object\n",
    "        chrom_assay <- CreateChromatinAssay(\n",
    "          counts = counts.sub,\n",
    "          sep = c(\":\", \"-\"),\n",
    "          genome = 'hg38',\n",
    "          fragments = paste0('./data/',frag_dir),\n",
    "          min.cells = 0,\n",
    "          min.features = 0\n",
    "        )\n",
    "        seurat.object.all <- CreateSeuratObject(\n",
    "          counts = chrom_assay,\n",
    "          assay = \"peaks\",\n",
    "          meta.data = metadata.sub\n",
    "        )\n",
    "        seurat.object <- subset(seurat.object.all, cells = rownames(metadata.sub))\n",
    "\n",
    "        ## Normalize & TF-IDF & SVD\n",
    "        seurat.object <- RunTFIDF(seurat.object)\n",
    "        seurat.object <- FindTopFeatures(seurat.object, min.cutoff = 'q0')\n",
    "        seurat.object <- RunSVD(seurat.object)\n",
    "        p.cor <- DepthCor(seurat.object)\n",
    "\n",
    "        ## Clustering &UMAP\n",
    "\n",
    "\n",
    "            seurat.object <- RunUMAP(object = seurat.object, reduction = 'lsi', dims = 2:30)\n",
    "            seurat.object <- FindNeighbors(object = seurat.object, reduction = 'lsi', dims = 2:30)\n",
    "            seurat.object <- FindClusters(object = seurat.object, verbose = FALSE, algorithm = 3)\n",
    "\n",
    "\n",
    "        ## plot\n",
    "        p.umap.cluster = DimPlot(object = seurat.object, label = TRUE) + theme(aspect.ratio = 1)\n",
    "\n",
    "        # only plot large clusters\n",
    "        cells.sub <- metadata.sub%>%rownames_to_column('cell')%>%group_by(predictedGroup_ArchR)%>%\n",
    "                    mutate(n=n())%>%ungroup%>% dplyr::filter(n>100)%>%pull(cell)\n",
    "        p.umap.label = DimPlot(object = seurat.object,cells = cells.sub, group.by='predictedGroup_ArchR',label = TRUE) + \n",
    "                        theme(aspect.ratio = 1) \n",
    "\n",
    "        ## add DNA metadata\n",
    "        metadata.all <- metadata%>%rownames_to_column('ID')%>%\n",
    "                        left_join(metadata.rna,by=c('predictedCell_ArchR'='Barcode'))%>%column_to_rownames('ID')\n",
    "\n",
    "        seurat.object@meta.data <-cbind(seurat.object@meta.data,total.cnv=metadata.all$Total_CNVs)\n",
    "        seurat.object@meta.data <-cbind(seurat.object@meta.data,cnv=metadata.all$CNV.Pos)\n",
    "\n",
    "\n",
    "        p.umap.cnv = FeaturePlot(object = seurat.object,features='total.cnv',label = FALSE) + theme(aspect.ratio = 1)  \n",
    "\n",
    "        ######################################\n",
    "        ## ATAC gene activity\n",
    "\n",
    "        # extract gene annotations from EnsDb\n",
    "        annotations <- GetGRangesFromEnsDb(ensdb = EnsDb.Hsapiens.v86 )\n",
    "\n",
    "\n",
    "\n",
    "        # # change to UCSC style since the data was mapped to hg19\n",
    "        seqlevelsStyle(annotations) <- 'UCSC'\n",
    "\n",
    "        DefaultAssay(seurat.object) <- \"peaks\"\n",
    "\n",
    "        # add the gene information to the object\n",
    "        Annotation(seurat.object) <- annotations\n",
    "\n",
    "        gene.activities <- GeneActivity(seurat.object)\n",
    "\n",
    "        # add the gene activity matrix to the Seurat object as a new assay and normalize it\n",
    "        seurat.object[['RNA']] <- CreateAssayObject(counts = gene.activities)\n",
    "        seurat.object <- NormalizeData(\n",
    "          object = seurat.object,\n",
    "          assay = 'RNA',\n",
    "          normalization.method = 'LogNormalize',\n",
    "          scale.factor = median(seurat.object$nCount_RNA)\n",
    "        )\n",
    "\n",
    "        ###################################\n",
    "        # RNA part\n",
    "\n",
    "        ## read data\n",
    "        dir_mtx = list.files('data/rna/',pattern = 'mtx.gz')%>%.[grep(sample_name,.)]\n",
    "        dir_barcode = list.files('data/rna/',pattern = 'barcodes')%>%.[grep(sample_name,.)]\n",
    "        dir_feature = list.files('data/rna/',pattern = 'features')%>%.[grep(sample_name,.)]\n",
    "        counts <- readMM(paste0(\"data/rna/\",dir_mtx)) \n",
    "        colnames(counts) <- read_table(paste0(\"data/rna/\",dir_barcode),col_names  = FALSE,col_types = cols())%>%\n",
    "                            pull(X1)\n",
    "        rownames(counts) <- read_table(paste0(\"data/rna/\",dir_feature),col_names  = FALSE,col_types = cols())%>%pull(X2)%>%make.unique\n",
    "\n",
    "        ## seurat object\n",
    "        metadata.rna.sub <- metadata.rna%>%dplyr::filter(Sample==sample_name)%>%\n",
    "                            mutate(Barcode=gsub('_.$|_..$','',Barcode))%>%column_to_rownames('Barcode')\n",
    "        seurat.rna <- CreateSeuratObject(counts = counts, project = \"tumor\",meta.data = metadata.rna.sub)\n",
    "        seurat.rna <- subset(seurat.rna, cells = rownames(metadata.rna.sub))\n",
    "\n",
    "        ## normalize  & scale\n",
    "        seurat.rna <- NormalizeData(seurat.rna, normalization.method = \"LogNormalize\", scale.factor = 10000)\n",
    "\n",
    "        seurat.rna <- FindVariableFeatures(seurat.rna, selection.method = \"vst\", nfeatures = 2000)\n",
    "\n",
    "        all.genes <- rownames(seurat.rna)\n",
    "        seurat.rna <- ScaleData(seurat.rna, features = all.genes)\n",
    "\n",
    "        ## PCA & UMAP & clustering\n",
    "        seurat.rna <- RunPCA(seurat.rna, features = VariableFeatures(object = seurat.rna))\n",
    "        seurat.rna <- RunUMAP(seurat.rna, dims = 1:20)\n",
    "        seurat.rna <- FindNeighbors(seurat.rna, dims = 1:20)\n",
    "        seurat.rna <- FindClusters(seurat.rna, resolution = 0.5)\n",
    "\n",
    "        # plots\n",
    "\n",
    "        # note that you can set `label = TRUE` or use the LabelClusters function to help label\n",
    "        # individual clusters\n",
    "        p.umap.cluster.rna <- DimPlot(seurat.rna, reduction = \"umap\")+theme(aspect.ratio = 1)\n",
    "\n",
    "        # note that you can set `label = TRUE` or use the LabelClusters function to help label\n",
    "        # individual clusters\n",
    "        p.umap.label.rna <- DimPlot(seurat.rna,group.by = 'cell.type', reduction = \"umap\",label = TRUE)+theme(aspect.ratio = 1)\n",
    "\n",
    "        p.umap.cnv.rna <- FeaturePlot(object = seurat.rna,features='Total_CNVs',label = FALSE) +theme(aspect.ratio = 1)\n",
    "\n",
    "        ###########################################################\n",
    "        # link RNA ATAC\n",
    "\n",
    "        DefaultAssay(seurat.object) <- 'RNA'\n",
    "\n",
    "        transfer.anchors <- FindTransferAnchors(\n",
    "          reference = seurat.rna,\n",
    "          query = seurat.object,\n",
    "          reduction = 'cca'\n",
    "        )\n",
    "\n",
    "        predicted.labels <- TransferData(\n",
    "          anchorset = transfer.anchors,\n",
    "          refdata = seurat.rna$cell.type,\n",
    "          weight.reduction = seurat.object[['lsi']],\n",
    "          dims = 2:30\n",
    "        )\n",
    "        seurat.object <- AddMetaData(object = seurat.object, metadata = predicted.labels)\n",
    "\n",
    "\n",
    "        plot1 <- DimPlot(\n",
    "          object = seurat.rna,\n",
    "          group.by = 'cell.type',\n",
    "          label = TRUE,\n",
    "          repel = TRUE) + NoLegend() + ggtitle('scRNA-seq')\n",
    "\n",
    "        plot2 <- DimPlot(\n",
    "          object = seurat.object,\n",
    "          group.by = 'predicted.id',\n",
    "          label = TRUE,\n",
    "          repel = TRUE) + NoLegend() + ggtitle('scATAC-seq')\n",
    "\n",
    "        plot.join <- (plot1+theme(aspect.ratio = 1)) + ((plot2+theme(aspect.ratio = 1)))\n",
    "    })\n",
    "    ## results\n",
    "    res <- list(metadata.sub = metadata.sub,\n",
    "                seurat.object=list(atac=seurat.object,rna=seurat.rna), \n",
    "                plot=list(p.umap.cluster=p.umap.cluster,\n",
    "                          p.umap.label=p.umap.label,\n",
    "                          p.umap.cnv=p.umap.cnv,\n",
    "                          p.umap.cluster.rna=p.umap.cluster.rna,\n",
    "                          p.umap.label.rna = p.umap.label.rna,\n",
    "                          p.umap.cnv.rna=p.umap.cnv.rna,\n",
    "                          p.join = plot.join))\n",
    "    ## save all plots\n",
    "    pdf(paste0('plot/peaks/',sample_name,'.pdf'),height = 6,width=16)\n",
    "    (res$plot)%>%print\n",
    "    dev.off()\n",
    "    \n",
    "    qsave(res,paste0('rds/peaks/',sample_name,'.qs'))\n",
    "    \n",
    "    return(res)\n",
    "        \n",
    "}"
   ]
  },
  {
   "cell_type": "code",
   "execution_count": 26,
   "id": "d5206669-6687-4033-b30a-56f97ca1fd30",
   "metadata": {},
   "outputs": [],
   "source": [
    "#res.list <- mclapply(sample_names,fun_seurat,mc.cores = 10)"
   ]
  },
  {
   "cell_type": "code",
   "execution_count": 27,
   "id": "da9fb03c-f53d-4fd3-9cee-694669d368a9",
   "metadata": {},
   "outputs": [],
   "source": [
    "#tmp <- res.list"
   ]
  },
  {
   "cell_type": "code",
   "execution_count": 28,
   "id": "67c894ca-e40d-41ce-8721-48528b122473",
   "metadata": {},
   "outputs": [],
   "source": [
    "res.list <- c()"
   ]
  },
  {
   "cell_type": "code",
   "execution_count": null,
   "id": "31cadd86-dd44-411b-b092-92d697dd44d9",
   "metadata": {},
   "outputs": [],
   "source": [
    "for(i in sample_names){\n",
    "    \n",
    "    res.list[[i]] <- fun_seurat(i)\n",
    "    \n",
    "}"
   ]
  },
  {
   "cell_type": "code",
   "execution_count": null,
   "id": "96c72819-f762-4549-8735-7bf9325ebdf4",
   "metadata": {},
   "outputs": [],
   "source": []
  },
  {
   "cell_type": "code",
   "execution_count": 30,
   "id": "0df3f4bf-05c2-4b97-bba0-15eca3ce0aaa",
   "metadata": {},
   "outputs": [],
   "source": [
    "res.list%>%qsave('rds/peaks/all.list.qs')"
   ]
  },
  {
   "cell_type": "code",
   "execution_count": null,
   "id": "eaa682c5-49bb-4d99-8cde-33c158169557",
   "metadata": {},
   "outputs": [],
   "source": []
  },
  {
   "cell_type": "code",
   "execution_count": 32,
   "id": "c035e2c0-2425-4f6f-bd65-7812da435752",
   "metadata": {},
   "outputs": [],
   "source": [
    "res.list.extend <- c()"
   ]
  },
  {
   "cell_type": "code",
   "execution_count": null,
   "id": "a1e49233-d84c-45ec-8c78-73342bc10165",
   "metadata": {},
   "outputs": [],
   "source": [
    "for (i in sample_names){\n",
    "    \n",
    "    seurat.object <- res.list[[i]]$seurat.object$atac\n",
    "    seurat.rna <- res.list[[i]]$seurat.object$rna\n",
    "\n",
    "    tmp <- qread('metadata_trans.qs')\n",
    "    tmp.meta = seurat.object@meta.data \n",
    "\n",
    "    metadata.expand <- seurat.object@meta.data%>%rownames_to_column('a')%>%mutate(clusterID=str_extract(predictedGroup_ArchR,'.*(?=-)')%>%as.numeric,\n",
    "                                    clusterType=str_extract(predictedGroup_ArchR,'(?<=-).*'))%>%\n",
    "                        left_join(tmp,by=c('clusterID'))%>%column_to_rownames('a')\n",
    "\n",
    "    seurat.object@meta.data <- metadata.expand\n",
    "\n",
    "    p.umap.label3 = DimPlot(object = seurat.object, group.by='celltype',label = TRUE) + \n",
    "                    theme(aspect.ratio = 1) \n",
    "\n",
    "    p.umap.label4 = DimPlot(object = seurat.object,group.by='clusterID',label = TRUE) + \n",
    "                    theme(aspect.ratio = 1) \n",
    "\n",
    "    DefaultAssay(seurat.object) <- 'RNA'\n",
    "    p.feature.atac = FeaturePlot(seurat.object, features = c('KIT','WFDC2','MUC16'),ncol = 3)#+NoLegend()\n",
    "\n",
    "    p.feature.rna = FeaturePlot(seurat.rna, features = c('KIT','WFDC2','MUC16'),ncol = 3)#+theme(aspect.ratio = 1)\n",
    "\n",
    "    \n",
    "    res <- list(seurat.object=list(atac=seurat.object,rna=seurat.rna), \n",
    "            plot=list(p.umap.cluster=res.list[[i]]$plot$p.umap.cluster,\n",
    "                      p.umap.label=res.list[[i]]$plot$p.umap.label,\n",
    "                      p.umap.label3=p.umap.label3,\n",
    "                      p.umap.label4=p.umap.label4,\n",
    "                      p.umap.cnv=res.list[[i]]$plot$p.umap.cnv,\n",
    "                      p.umap.cluster.rna=res.list[[i]]$plot$p.umap.cluster.rna,\n",
    "                      p.umap.label.rna = res.list[[i]]$plot$p.umap.label.rna,\n",
    "                      p.umap.cnv.rna=res.list[[i]]$plot$p.umap.cnv.rna,\n",
    "                      p.feature.atac=p.feature.atac,\n",
    "                      p.feature.rna=p.feature.rna,\n",
    "                      p.join = res.list[[i]]$plot$plot.join))\n",
    "     \n",
    "    ## save all plots\n",
    "    pdf(paste0('plot/peaks/',i,'_extend.pdf'),height = 6,width=18)\n",
    "    (res$plot)%>%print\n",
    "    dev.off()\n",
    "    \n",
    "     qsave(res,paste0('rds/peaks/',i,'_extend.qs'))\n",
    "     res.list.extend[[i]] <- res\n",
    "}\n"
   ]
  },
  {
   "cell_type": "code",
   "execution_count": null,
   "id": "163853d8-15a9-40dc-8739-41ab7fea40f5",
   "metadata": {},
   "outputs": [],
   "source": []
  },
  {
   "cell_type": "code",
   "execution_count": 35,
   "id": "49d3703d-7c14-47da-a1bd-7dd1523eb3fa",
   "metadata": {},
   "outputs": [],
   "source": [
    "res.list.extend%>%qsave('rds/cpeaks/all.list.extend.qs')"
   ]
  },
  {
   "cell_type": "code",
   "execution_count": null,
   "id": "4dbe03fb-f277-41ca-bf78-effa99258c17",
   "metadata": {},
   "outputs": [],
   "source": []
  }
 ],
 "metadata": {
  "kernelspec": {
   "display_name": "R",
   "language": "R",
   "name": "ir"
  },
  "language_info": {
   "codemirror_mode": "r",
   "file_extension": ".r",
   "mimetype": "text/x-r-source",
   "name": "R",
   "pygments_lexer": "r",
   "version": "4.1.3"
  }
 },
 "nbformat": 4,
 "nbformat_minor": 5
}
