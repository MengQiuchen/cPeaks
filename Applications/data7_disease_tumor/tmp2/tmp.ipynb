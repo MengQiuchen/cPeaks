{
 "cells": [
  {
   "cell_type": "code",
   "execution_count": null,
   "id": "d47dab31-e031-4102-ae29-76f70911f9b9",
   "metadata": {},
   "outputs": [],
   "source": []
  },
  {
   "cell_type": "code",
   "execution_count": 1,
   "id": "10caf9ae-92a3-46df-8ed4-80525ff843a3",
   "metadata": {},
   "outputs": [],
   "source": [
    "\n",
    "epithelial.cols <- colorRampPalette(c(\"#A0E989\", \"#245719\"))\n",
    "epithelial.cols <- epithelial.cols(14)\n",
    "\n",
    "fibro.cols <-colorRampPalette(c(\"#FABFD2\", \"#B1339E\"))\n",
    "fibro.cols <- fibro.cols(10)\n",
    "\n",
    "smooth.cols <- c(\"#b47fe5\",\"#d8b7e8\")\n",
    "\n",
    "endo.cols <- c(\"#93CEFF\",\"#4A99FF\")\n",
    "\n",
    "t.cols <- c(\"gray60\",\"gray20\",\"gray40\")\n",
    "\n",
    "macro.cols <- c(\"#ff6600\",\"#ff9d5c\")\n",
    "\n",
    "mast.cols <- \"gold3\"\n",
    "\n",
    "b.cols <- c(\"#B22222\",\"#CD5C5C\")\n",
    "\n",
    "\n",
    "cols <- c(b.cols,endo.cols, epithelial.cols,fibro.cols,t.cols,macro.cols,mast.cols,smooth.cols)\n"
   ]
  },
  {
   "cell_type": "code",
   "execution_count": 2,
   "id": "23c3aa98-961f-4234-a5d3-b1a071dd73a9",
   "metadata": {},
   "outputs": [
    {
     "data": {
      "text/html": [
       "<style>\n",
       ".list-inline {list-style: none; margin:0; padding: 0}\n",
       ".list-inline>li {display: inline-block}\n",
       ".list-inline>li:not(:last-child)::after {content: \"\\00b7\"; padding: 0 .5ex}\n",
       "</style>\n",
       "<ol class=list-inline><li>'#A0E989'</li><li>'#96DD80'</li><li>'#8CD277'</li><li>'#83C76F'</li><li>'#79BC66'</li><li>'#70B05D'</li><li>'#66A555'</li><li>'#5D9A4C'</li><li>'#538F44'</li><li>'#4A833B'</li><li>'#407832'</li><li>'#376D2A'</li><li>'#2D6221'</li><li>'#245719'</li><li>'#FABFD2'</li><li>'#F1AFCC'</li><li>'#E99FC6'</li><li>'#E190C0'</li><li>'#D980BA'</li><li>'#D171B5'</li><li>'#C961AF'</li><li>'#C152A9'</li><li>'#B942A3'</li><li>'#B1339E'</li><li>'#b47fe5'</li><li>'#d8b7e8'</li><li>'#93CEFF'</li><li>'#4A99FF'</li><li>'gray60'</li><li>'gray20'</li><li>'gray40'</li><li>'#ff6600'</li><li>'#ff9d5c'</li><li>'gold3'</li><li>'#B22222'</li><li>'#CD5C5C'</li></ol>\n"
      ],
      "text/latex": [
       "\\begin{enumerate*}\n",
       "\\item '\\#A0E989'\n",
       "\\item '\\#96DD80'\n",
       "\\item '\\#8CD277'\n",
       "\\item '\\#83C76F'\n",
       "\\item '\\#79BC66'\n",
       "\\item '\\#70B05D'\n",
       "\\item '\\#66A555'\n",
       "\\item '\\#5D9A4C'\n",
       "\\item '\\#538F44'\n",
       "\\item '\\#4A833B'\n",
       "\\item '\\#407832'\n",
       "\\item '\\#376D2A'\n",
       "\\item '\\#2D6221'\n",
       "\\item '\\#245719'\n",
       "\\item '\\#FABFD2'\n",
       "\\item '\\#F1AFCC'\n",
       "\\item '\\#E99FC6'\n",
       "\\item '\\#E190C0'\n",
       "\\item '\\#D980BA'\n",
       "\\item '\\#D171B5'\n",
       "\\item '\\#C961AF'\n",
       "\\item '\\#C152A9'\n",
       "\\item '\\#B942A3'\n",
       "\\item '\\#B1339E'\n",
       "\\item '\\#b47fe5'\n",
       "\\item '\\#d8b7e8'\n",
       "\\item '\\#93CEFF'\n",
       "\\item '\\#4A99FF'\n",
       "\\item 'gray60'\n",
       "\\item 'gray20'\n",
       "\\item 'gray40'\n",
       "\\item '\\#ff6600'\n",
       "\\item '\\#ff9d5c'\n",
       "\\item 'gold3'\n",
       "\\item '\\#B22222'\n",
       "\\item '\\#CD5C5C'\n",
       "\\end{enumerate*}\n"
      ],
      "text/markdown": [
       "1. '#A0E989'\n",
       "2. '#96DD80'\n",
       "3. '#8CD277'\n",
       "4. '#83C76F'\n",
       "5. '#79BC66'\n",
       "6. '#70B05D'\n",
       "7. '#66A555'\n",
       "8. '#5D9A4C'\n",
       "9. '#538F44'\n",
       "10. '#4A833B'\n",
       "11. '#407832'\n",
       "12. '#376D2A'\n",
       "13. '#2D6221'\n",
       "14. '#245719'\n",
       "15. '#FABFD2'\n",
       "16. '#F1AFCC'\n",
       "17. '#E99FC6'\n",
       "18. '#E190C0'\n",
       "19. '#D980BA'\n",
       "20. '#D171B5'\n",
       "21. '#C961AF'\n",
       "22. '#C152A9'\n",
       "23. '#B942A3'\n",
       "24. '#B1339E'\n",
       "25. '#b47fe5'\n",
       "26. '#d8b7e8'\n",
       "27. '#93CEFF'\n",
       "28. '#4A99FF'\n",
       "29. 'gray60'\n",
       "30. 'gray20'\n",
       "31. 'gray40'\n",
       "32. '#ff6600'\n",
       "33. '#ff9d5c'\n",
       "34. 'gold3'\n",
       "35. '#B22222'\n",
       "36. '#CD5C5C'\n",
       "\n",
       "\n"
      ],
      "text/plain": [
       " [1] \"#A0E989\" \"#96DD80\" \"#8CD277\" \"#83C76F\" \"#79BC66\" \"#70B05D\" \"#66A555\"\n",
       " [8] \"#5D9A4C\" \"#538F44\" \"#4A833B\" \"#407832\" \"#376D2A\" \"#2D6221\" \"#245719\"\n",
       "[15] \"#FABFD2\" \"#F1AFCC\" \"#E99FC6\" \"#E190C0\" \"#D980BA\" \"#D171B5\" \"#C961AF\"\n",
       "[22] \"#C152A9\" \"#B942A3\" \"#B1339E\" \"#b47fe5\" \"#d8b7e8\" \"#93CEFF\" \"#4A99FF\"\n",
       "[29] \"gray60\"  \"gray20\"  \"gray40\"  \"#ff6600\" \"#ff9d5c\" \"gold3\"   \"#B22222\"\n",
       "[36] \"#CD5C5C\""
      ]
     },
     "metadata": {},
     "output_type": "display_data"
    }
   ],
   "source": [
    "cols"
   ]
  },
  {
   "cell_type": "code",
   "execution_count": null,
   "id": "24acef4d-a639-4681-85fd-cf11e485e605",
   "metadata": {},
   "outputs": [],
   "source": []
  }
 ],
 "metadata": {
  "kernelspec": {
   "display_name": "R",
   "language": "R",
   "name": "ir"
  },
  "language_info": {
   "codemirror_mode": "r",
   "file_extension": ".r",
   "mimetype": "text/x-r-source",
   "name": "R",
   "pygments_lexer": "r",
   "version": "4.1.3"
  }
 },
 "nbformat": 4,
 "nbformat_minor": 5
}
