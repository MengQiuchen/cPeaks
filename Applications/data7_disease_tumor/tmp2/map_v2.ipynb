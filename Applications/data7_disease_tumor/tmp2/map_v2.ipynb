{
 "cells": [
  {
   "cell_type": "code",
   "execution_count": 2,
   "id": "0dfde85b-cc47-4d57-a3da-28d6ed76dfe6",
   "metadata": {},
   "outputs": [
    {
     "name": "stderr",
     "output_type": "stream",
     "text": [
      "Warning message:\n",
      "“no function found corresponding to methods exports from ‘BSgenome’ for: ‘releaseName’”\n"
     ]
    }
   ],
   "source": [
    "source('../../source/basic.r')\n",
    "\n",
    "source('../validataion.r')\n"
   ]
  },
  {
   "cell_type": "code",
   "execution_count": 3,
   "id": "be094323-8bee-4dd2-8007-c2a864a552b4",
   "metadata": {
    "tags": []
   },
   "outputs": [],
   "source": [
    "suppressPackageStartupMessages({\n",
    "    library(tidyverse)\n",
    "    library(Signac)\n",
    "    library(Seurat)\n",
    "    library(GenomeInfoDb)\n",
    "    library(EnsDb.Hsapiens.v86 )# hg38\n",
    "   # library(EnsDb.Hsapiens.v75) #hg19\n",
    "    library(ggplot2)\n",
    "    library(patchwork)\n",
    "    library(data.table)\n",
    "    library(Matrix)\n",
    "    set.seed(1234)\n",
    "})"
   ]
  },
  {
   "cell_type": "code",
   "execution_count": 12,
   "id": "2c035fce-ecb7-43a0-958a-6339ef337d63",
   "metadata": {},
   "outputs": [],
   "source": [
    "cpeaks <- fread('data/cpeak.bed')\n",
    "bulkpeaks <- fread('data/peak_calling/all/all_peaks.narrowPeak.bed')%>%dplyr::select(V1:V3)\n",
    "combinePeaks <- fread('data/peak_calling/merge/all_merge.bed')"
   ]
  },
  {
   "cell_type": "code",
   "execution_count": null,
   "id": "1d20301a-1dbb-4901-9bc9-c807ddc6a435",
   "metadata": {},
   "outputs": [],
   "source": []
  },
  {
   "cell_type": "code",
   "execution_count": 31,
   "id": "09dffcf0-7281-46b0-838b-2b1d837aab41",
   "metadata": {},
   "outputs": [],
   "source": [
    "a=cpeaks\n",
    "b=bulkpeaks"
   ]
  },
  {
   "cell_type": "code",
   "execution_count": 32,
   "id": "84e4a457-2602-44be-a467-145ef4b48eac",
   "metadata": {},
   "outputs": [
    {
     "name": "stderr",
     "output_type": "stream",
     "text": [
      "2.07882285118103\n",
      "\n"
     ]
    }
   ],
   "source": [
    "#fun_map <- function(a,b){\n",
    "    \n",
    "    regions1 = a%>%as.data.frame%>%rename_with(~c('chr','start','end'))%>%\n",
    "                                mutate(start=as.numeric(start), \n",
    "                                       end=as.numeric(end),\n",
    "                                       id=row_number())\n",
    "    regions2 = b%>%as.data.frame%>%rename_with(~c('chr','start','end'))%>%\n",
    "                                mutate(start=as.numeric(start), \n",
    "                                       end=as.numeric(end),\n",
    "                                       id=row_number())\n",
    "    \n",
    "    source('../../map_to_cPeak_v1/map_function2.r')\n",
    "    res = fun_map_bed_customRef(regions1,regions2)\n",
    "    res.df=res$df.trans%>%mutate(regions1=paste0(chr,'-',start_q,'-',end_q),\n",
    "                     regions2=paste0(chr,'-',start,'-',end))%>%dplyr::select(regions1,regions2)\n",
    "    \n",
    "#    return(list(res.df=res.df, res=res))\n",
    "#}"
   ]
  },
  {
   "cell_type": "code",
   "execution_count": 33,
   "id": "40824d6f-799b-4358-898b-a7b374c5c6c9",
   "metadata": {},
   "outputs": [
    {
     "data": {
      "text/html": [
       "6"
      ],
      "text/latex": [
       "6"
      ],
      "text/markdown": [
       "6"
      ],
      "text/plain": [
       "[1] 6"
      ]
     },
     "metadata": {},
     "output_type": "display_data"
    }
   ],
   "source": [
    "res%>%length"
   ]
  },
  {
   "cell_type": "code",
   "execution_count": 43,
   "id": "d45bfefc-b236-41b3-98ae-98818f21c720",
   "metadata": {},
   "outputs": [
    {
     "data": {
      "text/html": [
       "1568814"
      ],
      "text/latex": [
       "1568814"
      ],
      "text/markdown": [
       "1568814"
      ],
      "text/plain": [
       "[1] 1568814"
      ]
     },
     "metadata": {},
     "output_type": "display_data"
    }
   ],
   "source": [
    "a%>%nrow"
   ]
  },
  {
   "cell_type": "code",
   "execution_count": 34,
   "id": "a9a61dd0-8f22-427c-aa0a-2604374249c2",
   "metadata": {},
   "outputs": [
    {
     "data": {
      "text/html": [
       "474728"
      ],
      "text/latex": [
       "474728"
      ],
      "text/markdown": [
       "474728"
      ],
      "text/plain": [
       "[1] 474728"
      ]
     },
     "metadata": {},
     "output_type": "display_data"
    }
   ],
   "source": [
    "res.df%>%pull(regions1)%>%unique%>%length"
   ]
  },
  {
   "cell_type": "code",
   "execution_count": 35,
   "id": "09b1507e-9461-455a-b9a2-3264faa02a6d",
   "metadata": {},
   "outputs": [
    {
     "data": {
      "text/html": [
       "363718"
      ],
      "text/latex": [
       "363718"
      ],
      "text/markdown": [
       "363718"
      ],
      "text/plain": [
       "[1] 363718"
      ]
     },
     "metadata": {},
     "output_type": "display_data"
    }
   ],
   "source": [
    "res.df%>%pull(regions2)%>%unique%>%length"
   ]
  },
  {
   "cell_type": "code",
   "execution_count": 36,
   "id": "80546d9d-b419-4c98-8fcd-68c09bf52696",
   "metadata": {},
   "outputs": [
    {
     "data": {
      "text/html": [
       "379459"
      ],
      "text/latex": [
       "379459"
      ],
      "text/markdown": [
       "379459"
      ],
      "text/plain": [
       "[1] 379459"
      ]
     },
     "metadata": {},
     "output_type": "display_data"
    }
   ],
   "source": [
    "bulkpeaks%>%unique%>%nrow"
   ]
  },
  {
   "cell_type": "code",
   "execution_count": 37,
   "id": "fcd8b92b-c4d6-4030-a0f8-9c696cb4a0e2",
   "metadata": {},
   "outputs": [
    {
     "data": {
      "text/html": [
       "0.958517257463916"
      ],
      "text/latex": [
       "0.958517257463916"
      ],
      "text/markdown": [
       "0.958517257463916"
      ],
      "text/plain": [
       "[1] 0.9585173"
      ]
     },
     "metadata": {},
     "output_type": "display_data"
    }
   ],
   "source": [
    "363718/379459"
   ]
  },
  {
   "cell_type": "code",
   "execution_count": 47,
   "id": "b133206b-662b-4c1c-baac-301b47f87316",
   "metadata": {},
   "outputs": [
    {
     "data": {
      "image/png": "[encoded data removed]",
      "text/plain": [
       "plot without title"
      ]
     },
     "metadata": {
      "image/png": {
       "height": 420,
       "width": 420
      }
     },
     "output_type": "display_data"
    }
   ],
   "source": [
    "library(ggplot2)\n",
    "library(VennDiagram)\n",
    "\n",
    "# 创建韦恩图\n",
    "venn.plot <- draw.pairwise.venn(\n",
    "    \n",
    "  area1 = 1568814,\n",
    "  area2 = 379459,\n",
    "  cross.area = 363718,\n",
    "  category = c(\"cPeak\", \"Others\"),\n",
    "  cat.pos = c(0, 2),\n",
    " col= c(colors_[1],colors_[3]), \n",
    " fill = c(colors_[1],colors_[3]),\n",
    "  alpha = 0.2,\n",
    " # lty = 2,\n",
    "  #label.col = \"black\",\n",
    "  cex = 2,\n",
    " # fontfamily = \"sans\",\n",
    "  cat.dist = 0.1,\n",
    "  cat.default.pos = \"outer\",\n",
    "    cat.cex = 2.5,\n",
    "  margin = 0.01,\n",
    "  scaled = TRUE\n",
    ")\n",
    "\n",
    "# # 转换为ggplot2对象\n",
    "# p <- ggplotGrob(venn.plot)\n"
   ]
  },
  {
   "cell_type": "code",
   "execution_count": null,
   "id": "e696bfd6-5e2f-4f2c-bd5d-23a5cca8f951",
   "metadata": {},
   "outputs": [],
   "source": []
  },
  {
   "cell_type": "code",
   "execution_count": null,
   "id": "ae281f93-c6fc-4f25-b27f-5b5051d22e53",
   "metadata": {},
   "outputs": [],
   "source": []
  },
  {
   "cell_type": "code",
   "execution_count": null,
   "id": "63643d51-cfc6-4526-b996-8d23cef3cb78",
   "metadata": {},
   "outputs": [],
   "source": []
  },
  {
   "cell_type": "code",
   "execution_count": 24,
   "id": "e8f834e4-2d3d-47c5-a1f4-b22be865b6d1",
   "metadata": {},
   "outputs": [],
   "source": [
    "a=cpeaks\n",
    "b=combinePeaks"
   ]
  },
  {
   "cell_type": "code",
   "execution_count": 25,
   "id": "a3f8644e-8c62-432d-a651-5d312ced3faa",
   "metadata": {},
   "outputs": [
    {
     "name": "stderr",
     "output_type": "stream",
     "text": [
      "7.17049527168274\n",
      "\n"
     ]
    }
   ],
   "source": [
    "#fun_map <- function(a,b){\n",
    "    \n",
    "    regions1 = a%>%as.data.frame%>%rename_with(~c('chr','start','end'))%>%\n",
    "                                mutate(start=as.numeric(start), \n",
    "                                       end=as.numeric(end),\n",
    "                                       id=row_number())\n",
    "    regions2 = b%>%as.data.frame%>%rename_with(~c('chr','start','end'))%>%\n",
    "                                mutate(start=as.numeric(start), \n",
    "                                       end=as.numeric(end),\n",
    "                                       id=row_number())\n",
    "    \n",
    "    source('../../map_to_cPeak_v1/map_function2.r')\n",
    "    res = fun_map_bed_customRef(regions1,regions2)\n",
    "    res.df=res$df.trans%>%mutate(regions1=paste0(chr,'-',start_q,'-',end_q),\n",
    "                     regions2=paste0(chr,'-',start,'-',end))%>%dplyr::select(regions1,regions2)\n",
    "    \n",
    "#    return(list(res.df=res.df, res=res))\n",
    "#}"
   ]
  },
  {
   "cell_type": "code",
   "execution_count": 26,
   "id": "c6fb18ba-cf70-4572-9a37-ca2cccd74bf0",
   "metadata": {},
   "outputs": [
    {
     "data": {
      "text/html": [
       "642316"
      ],
      "text/latex": [
       "642316"
      ],
      "text/markdown": [
       "642316"
      ],
      "text/plain": [
       "[1] 642316"
      ]
     },
     "metadata": {},
     "output_type": "display_data"
    }
   ],
   "source": [
    "res.df%>%pull(regions1)%>%unique%>%length"
   ]
  },
  {
   "cell_type": "code",
   "execution_count": 27,
   "id": "484ee99b-1f33-40af-8d9c-909e321b4af3",
   "metadata": {},
   "outputs": [
    {
     "data": {
      "text/html": [
       "507619"
      ],
      "text/latex": [
       "507619"
      ],
      "text/markdown": [
       "507619"
      ],
      "text/plain": [
       "[1] 507619"
      ]
     },
     "metadata": {},
     "output_type": "display_data"
    }
   ],
   "source": [
    "res.df%>%pull(regions2)%>%unique%>%length"
   ]
  },
  {
   "cell_type": "code",
   "execution_count": 29,
   "id": "8712eb28-12cf-4709-b38e-8eef4a885f43",
   "metadata": {},
   "outputs": [
    {
     "data": {
      "text/html": [
       "564308"
      ],
      "text/latex": [
       "564308"
      ],
      "text/markdown": [
       "564308"
      ],
      "text/plain": [
       "[1] 564308"
      ]
     },
     "metadata": {},
     "output_type": "display_data"
    }
   ],
   "source": [
    "combinePeaks%>%unique%>%nrow"
   ]
  },
  {
   "cell_type": "code",
   "execution_count": 30,
   "id": "d0d8feba-a3a1-45aa-9678-4a397aef19f6",
   "metadata": {},
   "outputs": [
    {
     "data": {
      "text/html": [
       "0.899542448450137"
      ],
      "text/latex": [
       "0.899542448450137"
      ],
      "text/markdown": [
       "0.899542448450137"
      ],
      "text/plain": [
       "[1] 0.8995424"
      ]
     },
     "metadata": {},
     "output_type": "display_data"
    }
   ],
   "source": [
    "507619/564308"
   ]
  },
  {
   "cell_type": "code",
   "execution_count": null,
   "id": "0d7352c3-0fbe-43a8-8a57-1e2b24280f87",
   "metadata": {},
   "outputs": [],
   "source": []
  },
  {
   "cell_type": "code",
   "execution_count": 48,
   "id": "8b5d5501-a3f9-4260-b96c-3992b3b28cdc",
   "metadata": {},
   "outputs": [],
   "source": [
    "a=bulkpeaks\n",
    "b=combinePeaks"
   ]
  },
  {
   "cell_type": "code",
   "execution_count": 49,
   "id": "bc8b1511-a1bc-4beb-9507-85f7dceab88e",
   "metadata": {},
   "outputs": [
    {
     "name": "stderr",
     "output_type": "stream",
     "text": [
      "2.40172553062439\n",
      "\n"
     ]
    }
   ],
   "source": [
    "#fun_map <- function(a,b){\n",
    "    \n",
    "    regions1 = a%>%as.data.frame%>%rename_with(~c('chr','start','end'))%>%\n",
    "                                mutate(start=as.numeric(start), \n",
    "                                       end=as.numeric(end),\n",
    "                                       id=row_number())\n",
    "    regions2 = b%>%as.data.frame%>%rename_with(~c('chr','start','end'))%>%\n",
    "                                mutate(start=as.numeric(start), \n",
    "                                       end=as.numeric(end),\n",
    "                                       id=row_number())\n",
    "    \n",
    "    source('../../map_to_cPeak_v1/map_function2.r')\n",
    "    res = fun_map_bed_customRef(regions1,regions2)\n",
    "    res.df=res$df.trans%>%mutate(regions1=paste0(chr,'-',start_q,'-',end_q),\n",
    "                     regions2=paste0(chr,'-',start,'-',end))%>%dplyr::select(regions1,regions2)\n",
    "    \n",
    "#    return(list(res.df=res.df, res=res))\n",
    "#}"
   ]
  },
  {
   "cell_type": "code",
   "execution_count": 55,
   "id": "b489c6c1-2dd9-4e0f-ac36-5d9a1e8fc5fb",
   "metadata": {},
   "outputs": [
    {
     "data": {
      "text/html": [
       "379459"
      ],
      "text/latex": [
       "379459"
      ],
      "text/markdown": [
       "379459"
      ],
      "text/plain": [
       "[1] 379459"
      ]
     },
     "metadata": {},
     "output_type": "display_data"
    }
   ],
   "source": [
    "a%>%nrow"
   ]
  },
  {
   "cell_type": "code",
   "execution_count": 56,
   "id": "883eef50-6143-48f3-92e0-2918de22a8e5",
   "metadata": {},
   "outputs": [
    {
     "data": {
      "text/html": [
       "564308"
      ],
      "text/latex": [
       "564308"
      ],
      "text/markdown": [
       "564308"
      ],
      "text/plain": [
       "[1] 564308"
      ]
     },
     "metadata": {},
     "output_type": "display_data"
    }
   ],
   "source": [
    "b%>%nrow"
   ]
  },
  {
   "cell_type": "code",
   "execution_count": 50,
   "id": "6a9c76c9-10ef-47e1-9251-3c4ed8285caa",
   "metadata": {},
   "outputs": [
    {
     "data": {
      "text/html": [
       "375137"
      ],
      "text/latex": [
       "375137"
      ],
      "text/markdown": [
       "375137"
      ],
      "text/plain": [
       "[1] 375137"
      ]
     },
     "metadata": {},
     "output_type": "display_data"
    }
   ],
   "source": [
    "res.df%>%pull(regions1)%>%unique%>%length"
   ]
  },
  {
   "cell_type": "code",
   "execution_count": 51,
   "id": "080978c0-5289-4750-b138-b36b88059697",
   "metadata": {},
   "outputs": [
    {
     "data": {
      "text/html": [
       "369024"
      ],
      "text/latex": [
       "369024"
      ],
      "text/markdown": [
       "369024"
      ],
      "text/plain": [
       "[1] 369024"
      ]
     },
     "metadata": {},
     "output_type": "display_data"
    }
   ],
   "source": [
    "res.df%>%pull(regions2)%>%unique%>%length"
   ]
  },
  {
   "cell_type": "code",
   "execution_count": 52,
   "id": "93192910-c3fe-4d17-a83b-1ad28db15022",
   "metadata": {},
   "outputs": [
    {
     "data": {
      "text/html": [
       "564308"
      ],
      "text/latex": [
       "564308"
      ],
      "text/markdown": [
       "564308"
      ],
      "text/plain": [
       "[1] 564308"
      ]
     },
     "metadata": {},
     "output_type": "display_data"
    }
   ],
   "source": [
    "combinePeaks%>%unique%>%nrow"
   ]
  },
  {
   "cell_type": "code",
   "execution_count": 58,
   "id": "967a51e0-4919-48b6-8ab3-85faf296098f",
   "metadata": {},
   "outputs": [
    {
     "data": {
      "text/html": [
       "0.988610100168925"
      ],
      "text/latex": [
       "0.988610100168925"
      ],
      "text/markdown": [
       "0.988610100168925"
      ],
      "text/plain": [
       "[1] 0.9886101"
      ]
     },
     "metadata": {},
     "output_type": "display_data"
    }
   ],
   "source": [
    "375137/379459"
   ]
  },
  {
   "cell_type": "code",
   "execution_count": null,
   "id": "dfa3fdd5-b099-414f-ba4d-be4366d866cc",
   "metadata": {},
   "outputs": [],
   "source": []
  }
 ],
 "metadata": {
  "kernelspec": {
   "display_name": "R",
   "language": "R",
   "name": "ir"
  },
  "language_info": {
   "codemirror_mode": "r",
   "file_extension": ".r",
   "mimetype": "text/x-r-source",
   "name": "R",
   "pygments_lexer": "r",
   "version": "4.1.3"
  }
 },
 "nbformat": 4,
 "nbformat_minor": 5
}
