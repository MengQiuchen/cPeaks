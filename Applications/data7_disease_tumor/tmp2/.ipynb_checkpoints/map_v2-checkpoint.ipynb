{
 "cells": [
  {
   "cell_type": "code",
   "execution_count": 1,
   "id": "0dfde85b-cc47-4d57-a3da-28d6ed76dfe6",
   "metadata": {},
   "outputs": [
    {
     "name": "stderr",
     "output_type": "stream",
     "text": [
      "Warning message:\n",
      "“no function found corresponding to methods exports from ‘BSgenome’ for: ‘releaseName’”\n"
     ]
    }
   ],
   "source": [
    "source('../../source/basic.r')\n",
    "\n",
    "source('../validataion.r')\n"
   ]
  },
  {
   "cell_type": "code",
   "execution_count": 2,
   "id": "be094323-8bee-4dd2-8007-c2a864a552b4",
   "metadata": {
    "tags": []
   },
   "outputs": [],
   "source": [
    "suppressPackageStartupMessages({\n",
    "    library(tidyverse)\n",
    "    library(Signac)\n",
    "    library(Seurat)\n",
    "    library(GenomeInfoDb)\n",
    "    library(EnsDb.Hsapiens.v86 )# hg38\n",
    "   # library(EnsDb.Hsapiens.v75) #hg19\n",
    "    library(ggplot2)\n",
    "    library(patchwork)\n",
    "    library(data.table)\n",
    "    library(Matrix)\n",
    "    set.seed(1234)\n",
    "})"
   ]
  },
  {
   "cell_type": "code",
   "execution_count": null,
   "id": "972a9648-3209-4841-9810-74d82719e53a",
   "metadata": {},
   "outputs": [],
   "source": [
    "res.peaks <- qread('rds/peaks/3BAE2L.qs')\n",
    "\n",
    "seurat.peak.rna <- res.peaks$seurat.object$rna\n",
    "seurat.peak.atac <- res.peaks$seurat.object$atac"
   ]
  },
  {
   "cell_type": "code",
   "execution_count": null,
   "id": "7c502c3c-afa8-474f-83d7-4eb4f102bc0e",
   "metadata": {},
   "outputs": [],
   "source": [
    "res.cpeaks <- qread('rds/cpeaks/3BAE2L.qs')\n",
    "\n",
    "seurat.cpeak.rna <- res.cpeaks$seurat.object$rna\n",
    "seurat.cpeak.atac <- res.cpeaks$seurat.object$atac"
   ]
  },
  {
   "cell_type": "code",
   "execution_count": null,
   "id": "565acff8-7d25-4aea-b184-20600651c12f",
   "metadata": {},
   "outputs": [],
   "source": [
    "DefaultAssay(seurat.cpeak.atac) <- 'peaks'"
   ]
  },
  {
   "cell_type": "code",
   "execution_count": null,
   "id": "f2296c98-25ee-4427-9d17-d109bbfd8306",
   "metadata": {},
   "outputs": [],
   "source": [
    "DefaultAssay(seurat.peak.atac) <- 'peaks'"
   ]
  },
  {
   "cell_type": "code",
   "execution_count": null,
   "id": "b725c32c-7013-4ba6-829f-823638705203",
   "metadata": {},
   "outputs": [],
   "source": [
    "a = seurat.cpeak.atac%>%rownames"
   ]
  },
  {
   "cell_type": "code",
   "execution_count": null,
   "id": "b7fa9fa8-aab9-465f-bdad-7eb5bda1ced0",
   "metadata": {},
   "outputs": [],
   "source": [
    "b= seurat.peak.atac%>%rownames"
   ]
  },
  {
   "cell_type": "code",
   "execution_count": null,
   "id": "eb2d8891-9371-4c5e-a7a1-d75cd4ea5ca6",
   "metadata": {},
   "outputs": [],
   "source": [
    "regions1 = a%>%as.data.frame%>%rename_with(~c('region'))%>%mutate(chr=str_extract(region,'^[^-]+'),\n",
    "                                               start=str_extract(region,'(?<=-)[^-]*(?=-)'),\n",
    "                                               end=str_extract(region,'(?<=-)[^-]*$'))%>%\n",
    "                mutate(start=as.numeric(start), \n",
    "                       end=as.numeric(end),\n",
    "                       id=row_number())\n",
    "regions2 = b%>%as.data.frame%>%rename_with(~c('region'))%>%mutate(chr=str_extract(region,'^[^-]+'),\n",
    "                                               start=str_extract(region,'(?<=-)[^-]*(?=-)'),\n",
    "                                               end=str_extract(region,'(?<=-)[^-]*$'))%>%\n",
    "                mutate(start=as.numeric(start), \n",
    "                       end=as.numeric(end),\n",
    "                       id=row_number())\n"
   ]
  },
  {
   "cell_type": "code",
   "execution_count": null,
   "id": "6c2e89c6-2165-4195-9e15-4fb0fcd07b66",
   "metadata": {},
   "outputs": [],
   "source": [
    "source('../../map_to_cPeak_v1/map_function2.r')"
   ]
  },
  {
   "cell_type": "code",
   "execution_count": 64,
   "id": "995e8939-94ac-4d37-aff6-1305981b6d52",
   "metadata": {},
   "outputs": [],
   "source": []
  },
  {
   "cell_type": "code",
   "execution_count": null,
   "id": "0ab6a90e-60d5-4996-ab78-26945f74f489",
   "metadata": {},
   "outputs": [],
   "source": [
    "res = fun_map_bed_customRef(regions1,regions2)"
   ]
  },
  {
   "cell_type": "code",
   "execution_count": null,
   "id": "84e4a457-2602-44be-a467-145ef4b48eac",
   "metadata": {},
   "outputs": [],
   "source": []
  },
  {
   "cell_type": "code",
   "execution_count": null,
   "id": "02444a71-fb23-4013-9aae-e7c38a2c4130",
   "metadata": {},
   "outputs": [],
   "source": []
  },
  {
   "cell_type": "code",
   "execution_count": null,
   "id": "80546d9d-b419-4c98-8fcd-68c09bf52696",
   "metadata": {},
   "outputs": [],
   "source": []
  }
 ],
 "metadata": {
  "kernelspec": {
   "display_name": "R",
   "language": "R",
   "name": "ir"
  },
  "language_info": {
   "codemirror_mode": "r",
   "file_extension": ".r",
   "mimetype": "text/x-r-source",
   "name": "R",
   "pygments_lexer": "r",
   "version": "4.1.3"
  }
 },
 "nbformat": 4,
 "nbformat_minor": 5
}
