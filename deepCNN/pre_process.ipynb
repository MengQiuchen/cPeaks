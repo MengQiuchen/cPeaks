{
 "cells": [
  {
   "cell_type": "code",
   "execution_count": 1,
   "id": "0a35420e",
   "metadata": {},
   "outputs": [],
   "source": [
    "source(\"/nfs/mqc/Consensus_peak/code/source/wxz.r\")"
   ]
  },
  {
   "cell_type": "code",
   "execution_count": 75,
   "id": "cc56ebfd",
   "metadata": {},
   "outputs": [],
   "source": [
    "data = read.table('/nfs/public/wxz/Consensus_peak/predict_openness/others/candidate_windows.bed')"
   ]
  },
  {
   "cell_type": "code",
   "execution_count": 76,
   "id": "f21b29ba",
   "metadata": {},
   "outputs": [],
   "source": [
    "id = paste(data$V1,data$V2,data$V3)"
   ]
  },
  {
   "cell_type": "code",
   "execution_count": 77,
   "id": "8360f49c",
   "metadata": {},
   "outputs": [
    {
     "data": {
      "text/html": [
       "6742049"
      ],
      "text/latex": [
       "6742049"
      ],
      "text/markdown": [
       "6742049"
      ],
      "text/plain": [
       "[1] 6742049"
      ]
     },
     "metadata": {},
     "output_type": "display_data"
    }
   ],
   "source": [
    "length(id)"
   ]
  },
  {
   "cell_type": "code",
   "execution_count": null,
   "id": "d564d752",
   "metadata": {},
   "outputs": [],
   "source": []
  },
  {
   "cell_type": "code",
   "execution_count": 10,
   "id": "259175be",
   "metadata": {},
   "outputs": [],
   "source": [
    "pre = read.table('/nfs/public/wxz/Consensus_peak/predict_openness/data_v2/prediction.txt')"
   ]
  },
  {
   "cell_type": "code",
   "execution_count": 52,
   "id": "d72d5df7",
   "metadata": {},
   "outputs": [
    {
     "data": {
      "text/html": [
       "<table class=\"dataframe\">\n",
       "<caption>A data.frame: 2 × 5</caption>\n",
       "<thead>\n",
       "\t<tr><th></th><th scope=col>V1</th><th scope=col>V2</th><th scope=col>V3</th><th scope=col>V4</th><th scope=col>idx</th></tr>\n",
       "\t<tr><th></th><th scope=col>&lt;chr&gt;</th><th scope=col>&lt;int&gt;</th><th scope=col>&lt;int&gt;</th><th scope=col>&lt;dbl&gt;</th><th scope=col>&lt;chr&gt;</th></tr>\n",
       "</thead>\n",
       "<tbody>\n",
       "\t<tr><th scope=row>1</th><td>chr20</td><td> 64201643</td><td> 64202142</td><td>0.9998104</td><td>chr20 64201643 64202142 </td></tr>\n",
       "\t<tr><th scope=row>2</th><td>chr7 </td><td>156561718</td><td>156562217</td><td>0.9997591</td><td>chr7 156561718 156562217</td></tr>\n",
       "</tbody>\n",
       "</table>\n"
      ],
      "text/latex": [
       "A data.frame: 2 × 5\n",
       "\\begin{tabular}{r|lllll}\n",
       "  & V1 & V2 & V3 & V4 & idx\\\\\n",
       "  & <chr> & <int> & <int> & <dbl> & <chr>\\\\\n",
       "\\hline\n",
       "\t1 & chr20 &  64201643 &  64202142 & 0.9998104 & chr20 64201643 64202142 \\\\\n",
       "\t2 & chr7  & 156561718 & 156562217 & 0.9997591 & chr7 156561718 156562217\\\\\n",
       "\\end{tabular}\n"
      ],
      "text/markdown": [
       "\n",
       "A data.frame: 2 × 5\n",
       "\n",
       "| <!--/--> | V1 &lt;chr&gt; | V2 &lt;int&gt; | V3 &lt;int&gt; | V4 &lt;dbl&gt; | idx &lt;chr&gt; |\n",
       "|---|---|---|---|---|---|\n",
       "| 1 | chr20 |  64201643 |  64202142 | 0.9998104 | chr20 64201643 64202142  |\n",
       "| 2 | chr7  | 156561718 | 156562217 | 0.9997591 | chr7 156561718 156562217 |\n",
       "\n"
      ],
      "text/plain": [
       "  V1    V2        V3        V4        idx                     \n",
       "1 chr20  64201643  64202142 0.9998104 chr20 64201643 64202142 \n",
       "2 chr7  156561718 156562217 0.9997591 chr7 156561718 156562217"
      ]
     },
     "metadata": {},
     "output_type": "display_data"
    }
   ],
   "source": [
    "head(pre,2)"
   ]
  },
  {
   "cell_type": "code",
   "execution_count": 13,
   "id": "2c7aed1e",
   "metadata": {},
   "outputs": [],
   "source": [
    "pre$idx = paste(pre$V1,pre$V2,pre$V3)"
   ]
  },
  {
   "cell_type": "code",
   "execution_count": 78,
   "id": "54153429",
   "metadata": {},
   "outputs": [],
   "source": [
    "pre2 = filter(pre,idx%in%id)"
   ]
  },
  {
   "cell_type": "code",
   "execution_count": 79,
   "id": "fb18d44b",
   "metadata": {},
   "outputs": [
    {
     "data": {
      "text/html": [
       "<style>\n",
       ".list-inline {list-style: none; margin:0; padding: 0}\n",
       ".list-inline>li {display: inline-block}\n",
       ".list-inline>li:not(:last-child)::after {content: \"\\00b7\"; padding: 0 .5ex}\n",
       "</style>\n",
       "<ol class=list-inline><li>6745377</li><li>5</li></ol>\n"
      ],
      "text/latex": [
       "\\begin{enumerate*}\n",
       "\\item 6745377\n",
       "\\item 5\n",
       "\\end{enumerate*}\n"
      ],
      "text/markdown": [
       "1. 6745377\n",
       "2. 5\n",
       "\n",
       "\n"
      ],
      "text/plain": [
       "[1] 6745377       5"
      ]
     },
     "metadata": {},
     "output_type": "display_data"
    }
   ],
   "source": [
    "dim(pre2)"
   ]
  },
  {
   "cell_type": "code",
   "execution_count": null,
   "id": "112e36dd",
   "metadata": {},
   "outputs": [],
   "source": []
  },
  {
   "cell_type": "code",
   "execution_count": 29,
   "id": "831cbfed",
   "metadata": {},
   "outputs": [],
   "source": [
    "cpeak3 = read.table('/nfs/mqc/Consensus_peak/code/cpeaks/unipeak_v3.bed',header=T)"
   ]
  },
  {
   "cell_type": "code",
   "execution_count": 37,
   "id": "3d9c5946",
   "metadata": {},
   "outputs": [
    {
     "data": {
      "text/html": [
       "<table class=\"dataframe\">\n",
       "<caption>A data.frame: 5 × 20</caption>\n",
       "<thead>\n",
       "\t<tr><th scope=col>id</th><th scope=col>chr</th><th scope=col>start</th><th scope=col>end</th><th scope=col>split_id</th><th scope=col>type</th><th scope=col>max_num</th><th scope=col>area</th><th scope=col>length</th><th scope=col>cpeak_id</th><th scope=col>cluster_correlation</th><th scope=col>peak_cluster</th><th scope=col>note</th><th scope=col>source</th><th scope=col>max_num_ratio</th><th scope=col>direction</th><th scope=col>cluster</th><th scope=col>mix_id</th><th scope=col>neg_point</th><th scope=col>pos_point</th></tr>\n",
       "\t<tr><th scope=col>&lt;int&gt;</th><th scope=col>&lt;chr&gt;</th><th scope=col>&lt;int&gt;</th><th scope=col>&lt;int&gt;</th><th scope=col>&lt;int&gt;</th><th scope=col>&lt;chr&gt;</th><th scope=col>&lt;int&gt;</th><th scope=col>&lt;int&gt;</th><th scope=col>&lt;int&gt;</th><th scope=col>&lt;int&gt;</th><th scope=col>&lt;dbl&gt;</th><th scope=col>&lt;int&gt;</th><th scope=col>&lt;chr&gt;</th><th scope=col>&lt;chr&gt;</th><th scope=col>&lt;dbl&gt;</th><th scope=col>&lt;chr&gt;</th><th scope=col>&lt;int&gt;</th><th scope=col>&lt;chr&gt;</th><th scope=col>&lt;int&gt;</th><th scope=col>&lt;int&gt;</th></tr>\n",
       "</thead>\n",
       "<tbody>\n",
       "\t<tr><td>1</td><td>chr1</td><td> 9919</td><td>10727</td><td>1</td><td>unimodel  </td><td>116</td><td>57713</td><td>808</td><td>1</td><td>0.7494600</td><td> 3</td><td>No</td><td>ENCODE</td><td>0.778523490</td><td>- </td><td> 2</td><td>chr1_1</td><td>10727</td><td> 9919</td></tr>\n",
       "\t<tr><td>2</td><td>chr1</td><td>11043</td><td>11422</td><td>1</td><td>multimodal</td><td> 40</td><td>   NA</td><td>379</td><td>2</td><td>0.9183222</td><td> 3</td><td>No</td><td>ATACdb</td><td>0.084210526</td><td>- </td><td> 2</td><td>chr1_2</td><td>11422</td><td>11043</td></tr>\n",
       "\t<tr><td>3</td><td>chr1</td><td>13249</td><td>13832</td><td>2</td><td>unimodel  </td><td>  3</td><td>   NA</td><td>583</td><td>3</td><td>       NA</td><td>NA</td><td>No</td><td>ATACdb</td><td>0.006315789</td><td>NA</td><td>NA</td><td>chr1_3</td><td>   NA</td><td>   NA</td></tr>\n",
       "\t<tr><td>4</td><td>chr1</td><td>14012</td><td>14345</td><td>3</td><td>unimodel  </td><td>  3</td><td>   NA</td><td>333</td><td>4</td><td>       NA</td><td>NA</td><td>No</td><td>ATACdb</td><td>0.006315789</td><td>NA</td><td>NA</td><td>chr1_4</td><td>   NA</td><td>   NA</td></tr>\n",
       "\t<tr><td>5</td><td>chr1</td><td>15403</td><td>16233</td><td>4</td><td>unimodel  </td><td>  3</td><td>   NA</td><td>830</td><td>5</td><td>       NA</td><td>NA</td><td>No</td><td>ATACdb</td><td>0.006315789</td><td>NA</td><td>NA</td><td>chr1_5</td><td>   NA</td><td>   NA</td></tr>\n",
       "</tbody>\n",
       "</table>\n"
      ],
      "text/latex": [
       "A data.frame: 5 × 20\n",
       "\\begin{tabular}{llllllllllllllllllll}\n",
       " id & chr & start & end & split\\_id & type & max\\_num & area & length & cpeak\\_id & cluster\\_correlation & peak\\_cluster & note & source & max\\_num\\_ratio & direction & cluster & mix\\_id & neg\\_point & pos\\_point\\\\\n",
       " <int> & <chr> & <int> & <int> & <int> & <chr> & <int> & <int> & <int> & <int> & <dbl> & <int> & <chr> & <chr> & <dbl> & <chr> & <int> & <chr> & <int> & <int>\\\\\n",
       "\\hline\n",
       "\t 1 & chr1 &  9919 & 10727 & 1 & unimodel   & 116 & 57713 & 808 & 1 & 0.7494600 &  3 & No & ENCODE & 0.778523490 & -  &  2 & chr1\\_1 & 10727 &  9919\\\\\n",
       "\t 2 & chr1 & 11043 & 11422 & 1 & multimodal &  40 &    NA & 379 & 2 & 0.9183222 &  3 & No & ATACdb & 0.084210526 & -  &  2 & chr1\\_2 & 11422 & 11043\\\\\n",
       "\t 3 & chr1 & 13249 & 13832 & 2 & unimodel   &   3 &    NA & 583 & 3 &        NA & NA & No & ATACdb & 0.006315789 & NA & NA & chr1\\_3 &    NA &    NA\\\\\n",
       "\t 4 & chr1 & 14012 & 14345 & 3 & unimodel   &   3 &    NA & 333 & 4 &        NA & NA & No & ATACdb & 0.006315789 & NA & NA & chr1\\_4 &    NA &    NA\\\\\n",
       "\t 5 & chr1 & 15403 & 16233 & 4 & unimodel   &   3 &    NA & 830 & 5 &        NA & NA & No & ATACdb & 0.006315789 & NA & NA & chr1\\_5 &    NA &    NA\\\\\n",
       "\\end{tabular}\n"
      ],
      "text/markdown": [
       "\n",
       "A data.frame: 5 × 20\n",
       "\n",
       "| id &lt;int&gt; | chr &lt;chr&gt; | start &lt;int&gt; | end &lt;int&gt; | split_id &lt;int&gt; | type &lt;chr&gt; | max_num &lt;int&gt; | area &lt;int&gt; | length &lt;int&gt; | cpeak_id &lt;int&gt; | cluster_correlation &lt;dbl&gt; | peak_cluster &lt;int&gt; | note &lt;chr&gt; | source &lt;chr&gt; | max_num_ratio &lt;dbl&gt; | direction &lt;chr&gt; | cluster &lt;int&gt; | mix_id &lt;chr&gt; | neg_point &lt;int&gt; | pos_point &lt;int&gt; |\n",
       "|---|---|---|---|---|---|---|---|---|---|---|---|---|---|---|---|---|---|---|---|\n",
       "| 1 | chr1 |  9919 | 10727 | 1 | unimodel   | 116 | 57713 | 808 | 1 | 0.7494600 |  3 | No | ENCODE | 0.778523490 | -  |  2 | chr1_1 | 10727 |  9919 |\n",
       "| 2 | chr1 | 11043 | 11422 | 1 | multimodal |  40 |    NA | 379 | 2 | 0.9183222 |  3 | No | ATACdb | 0.084210526 | -  |  2 | chr1_2 | 11422 | 11043 |\n",
       "| 3 | chr1 | 13249 | 13832 | 2 | unimodel   |   3 |    NA | 583 | 3 |        NA | NA | No | ATACdb | 0.006315789 | NA | NA | chr1_3 |    NA |    NA |\n",
       "| 4 | chr1 | 14012 | 14345 | 3 | unimodel   |   3 |    NA | 333 | 4 |        NA | NA | No | ATACdb | 0.006315789 | NA | NA | chr1_4 |    NA |    NA |\n",
       "| 5 | chr1 | 15403 | 16233 | 4 | unimodel   |   3 |    NA | 830 | 5 |        NA | NA | No | ATACdb | 0.006315789 | NA | NA | chr1_5 |    NA |    NA |\n",
       "\n"
      ],
      "text/plain": [
       "  id chr  start end   split_id type       max_num area  length cpeak_id\n",
       "1 1  chr1  9919 10727 1        unimodel   116     57713 808    1       \n",
       "2 2  chr1 11043 11422 1        multimodal  40        NA 379    2       \n",
       "3 3  chr1 13249 13832 2        unimodel     3        NA 583    3       \n",
       "4 4  chr1 14012 14345 3        unimodel     3        NA 333    4       \n",
       "5 5  chr1 15403 16233 4        unimodel     3        NA 830    5       \n",
       "  cluster_correlation peak_cluster note source max_num_ratio direction cluster\n",
       "1 0.7494600            3           No   ENCODE 0.778523490   -          2     \n",
       "2 0.9183222            3           No   ATACdb 0.084210526   -          2     \n",
       "3        NA           NA           No   ATACdb 0.006315789   NA        NA     \n",
       "4        NA           NA           No   ATACdb 0.006315789   NA        NA     \n",
       "5        NA           NA           No   ATACdb 0.006315789   NA        NA     \n",
       "  mix_id neg_point pos_point\n",
       "1 chr1_1 10727      9919    \n",
       "2 chr1_2 11422     11043    \n",
       "3 chr1_3    NA        NA    \n",
       "4 chr1_4    NA        NA    \n",
       "5 chr1_5    NA        NA    "
      ]
     },
     "metadata": {},
     "output_type": "display_data"
    }
   ],
   "source": [
    "filter(cpeak3,chr=='chr1',start <15596)"
   ]
  },
  {
   "cell_type": "code",
   "execution_count": null,
   "id": "b24606ad",
   "metadata": {},
   "outputs": [],
   "source": []
  },
  {
   "cell_type": "code",
   "execution_count": 80,
   "id": "6bf3ee6d",
   "metadata": {},
   "outputs": [
    {
     "data": {
      "text/html": [
       "<table class=\"dataframe\">\n",
       "<caption>A data.frame: 0 × 5</caption>\n",
       "<thead>\n",
       "\t<tr><th scope=col>V1</th><th scope=col>V2</th><th scope=col>V3</th><th scope=col>V4</th><th scope=col>idx</th></tr>\n",
       "\t<tr><th scope=col>&lt;chr&gt;</th><th scope=col>&lt;int&gt;</th><th scope=col>&lt;int&gt;</th><th scope=col>&lt;dbl&gt;</th><th scope=col>&lt;chr&gt;</th></tr>\n",
       "</thead>\n",
       "<tbody>\n",
       "</tbody>\n",
       "</table>\n"
      ],
      "text/latex": [
       "A data.frame: 0 × 5\n",
       "\\begin{tabular}{lllll}\n",
       " V1 & V2 & V3 & V4 & idx\\\\\n",
       " <chr> & <int> & <int> & <dbl> & <chr>\\\\\n",
       "\\hline\n",
       "\\end{tabular}\n"
      ],
      "text/markdown": [
       "\n",
       "A data.frame: 0 × 5\n",
       "\n",
       "| V1 &lt;chr&gt; | V2 &lt;int&gt; | V3 &lt;int&gt; | V4 &lt;dbl&gt; | idx &lt;chr&gt; |\n",
       "|---|---|---|---|---|\n",
       "\n"
      ],
      "text/plain": [
       "     V1 V2 V3 V4 idx"
      ]
     },
     "metadata": {},
     "output_type": "display_data"
    }
   ],
   "source": [
    "filter(pre2,V1=='chr1',V2==15096)"
   ]
  },
  {
   "cell_type": "code",
   "execution_count": null,
   "id": "e3c626d0",
   "metadata": {},
   "outputs": [],
   "source": []
  },
  {
   "cell_type": "code",
   "execution_count": null,
   "id": "37d44d93",
   "metadata": {},
   "outputs": [],
   "source": []
  },
  {
   "cell_type": "code",
   "execution_count": 15,
   "id": "f8a47db0",
   "metadata": {},
   "outputs": [
    {
     "data": {
      "text/html": [
       "<style>\n",
       ".list-inline {list-style: none; margin:0; padding: 0}\n",
       ".list-inline>li {display: inline-block}\n",
       ".list-inline>li:not(:last-child)::after {content: \"\\00b7\"; padding: 0 .5ex}\n",
       "</style>\n",
       "<ol class=list-inline><li>8978304</li><li>5</li></ol>\n"
      ],
      "text/latex": [
       "\\begin{enumerate*}\n",
       "\\item 8978304\n",
       "\\item 5\n",
       "\\end{enumerate*}\n"
      ],
      "text/markdown": [
       "1. 8978304\n",
       "2. 5\n",
       "\n",
       "\n"
      ],
      "text/plain": [
       "[1] 8978304       5"
      ]
     },
     "metadata": {},
     "output_type": "display_data"
    }
   ],
   "source": [
    "dim(pre)"
   ]
  },
  {
   "cell_type": "code",
   "execution_count": 16,
   "id": "0bfec3db",
   "metadata": {},
   "outputs": [
    {
     "data": {
      "text/html": [
       "<style>\n",
       ".list-inline {list-style: none; margin:0; padding: 0}\n",
       ".list-inline>li {display: inline-block}\n",
       ".list-inline>li:not(:last-child)::after {content: \"\\00b7\"; padding: 0 .5ex}\n",
       "</style>\n",
       "<ol class=list-inline><li>7650045</li><li>5</li></ol>\n"
      ],
      "text/latex": [
       "\\begin{enumerate*}\n",
       "\\item 7650045\n",
       "\\item 5\n",
       "\\end{enumerate*}\n"
      ],
      "text/markdown": [
       "1. 7650045\n",
       "2. 5\n",
       "\n",
       "\n"
      ],
      "text/plain": [
       "[1] 7650045       5"
      ]
     },
     "metadata": {},
     "output_type": "display_data"
    }
   ],
   "source": [
    "dim(pre2)"
   ]
  },
  {
   "cell_type": "code",
   "execution_count": 19,
   "id": "cb530495",
   "metadata": {},
   "outputs": [
    {
     "data": {
      "text/html": [
       "0.147940969697618"
      ],
      "text/latex": [
       "0.147940969697618"
      ],
      "text/markdown": [
       "0.147940969697618"
      ],
      "text/plain": [
       "[1] 0.147941"
      ]
     },
     "metadata": {},
     "output_type": "display_data"
    }
   ],
   "source": [
    "1328259/8978304"
   ]
  },
  {
   "cell_type": "code",
   "execution_count": 62,
   "id": "5c02b945",
   "metadata": {},
   "outputs": [],
   "source": [
    "pre2 = arrange(pre2,-V4)"
   ]
  },
  {
   "cell_type": "code",
   "execution_count": 63,
   "id": "54b1a508",
   "metadata": {},
   "outputs": [
    {
     "data": {
      "text/html": [
       "<table class=\"dataframe\">\n",
       "<caption>A data.frame: 6 × 5</caption>\n",
       "<thead>\n",
       "\t<tr><th></th><th scope=col>V1</th><th scope=col>V2</th><th scope=col>V3</th><th scope=col>V4</th><th scope=col>idx</th></tr>\n",
       "\t<tr><th></th><th scope=col>&lt;chr&gt;</th><th scope=col>&lt;int&gt;</th><th scope=col>&lt;int&gt;</th><th scope=col>&lt;dbl&gt;</th><th scope=col>&lt;chr&gt;</th></tr>\n",
       "</thead>\n",
       "<tbody>\n",
       "\t<tr><th scope=row>1</th><td>chr15</td><td> 79187612</td><td> 79188111</td><td>0.9994988</td><td>chr15 79187612 79188111 </td></tr>\n",
       "\t<tr><th scope=row>2</th><td>chr3 </td><td>102197743</td><td>102198242</td><td>0.9994395</td><td>chr3 102197743 102198242</td></tr>\n",
       "\t<tr><th scope=row>3</th><td>chr7 </td><td>105211616</td><td>105212115</td><td>0.9992458</td><td>chr7 105211616 105212115</td></tr>\n",
       "\t<tr><th scope=row>4</th><td>chr20</td><td> 10485419</td><td> 10485918</td><td>0.9991829</td><td>chr20 10485419 10485918 </td></tr>\n",
       "\t<tr><th scope=row>5</th><td>chr5 </td><td>133143788</td><td>133144287</td><td>0.9990896</td><td>chr5 133143788 133144287</td></tr>\n",
       "\t<tr><th scope=row>6</th><td>chr3 </td><td>100007447</td><td>100007946</td><td>0.9990864</td><td>chr3 100007447 100007946</td></tr>\n",
       "</tbody>\n",
       "</table>\n"
      ],
      "text/latex": [
       "A data.frame: 6 × 5\n",
       "\\begin{tabular}{r|lllll}\n",
       "  & V1 & V2 & V3 & V4 & idx\\\\\n",
       "  & <chr> & <int> & <int> & <dbl> & <chr>\\\\\n",
       "\\hline\n",
       "\t1 & chr15 &  79187612 &  79188111 & 0.9994988 & chr15 79187612 79188111 \\\\\n",
       "\t2 & chr3  & 102197743 & 102198242 & 0.9994395 & chr3 102197743 102198242\\\\\n",
       "\t3 & chr7  & 105211616 & 105212115 & 0.9992458 & chr7 105211616 105212115\\\\\n",
       "\t4 & chr20 &  10485419 &  10485918 & 0.9991829 & chr20 10485419 10485918 \\\\\n",
       "\t5 & chr5  & 133143788 & 133144287 & 0.9990896 & chr5 133143788 133144287\\\\\n",
       "\t6 & chr3  & 100007447 & 100007946 & 0.9990864 & chr3 100007447 100007946\\\\\n",
       "\\end{tabular}\n"
      ],
      "text/markdown": [
       "\n",
       "A data.frame: 6 × 5\n",
       "\n",
       "| <!--/--> | V1 &lt;chr&gt; | V2 &lt;int&gt; | V3 &lt;int&gt; | V4 &lt;dbl&gt; | idx &lt;chr&gt; |\n",
       "|---|---|---|---|---|---|\n",
       "| 1 | chr15 |  79187612 |  79188111 | 0.9994988 | chr15 79187612 79188111  |\n",
       "| 2 | chr3  | 102197743 | 102198242 | 0.9994395 | chr3 102197743 102198242 |\n",
       "| 3 | chr7  | 105211616 | 105212115 | 0.9992458 | chr7 105211616 105212115 |\n",
       "| 4 | chr20 |  10485419 |  10485918 | 0.9991829 | chr20 10485419 10485918  |\n",
       "| 5 | chr5  | 133143788 | 133144287 | 0.9990896 | chr5 133143788 133144287 |\n",
       "| 6 | chr3  | 100007447 | 100007946 | 0.9990864 | chr3 100007447 100007946 |\n",
       "\n"
      ],
      "text/plain": [
       "  V1    V2        V3        V4        idx                     \n",
       "1 chr15  79187612  79188111 0.9994988 chr15 79187612 79188111 \n",
       "2 chr3  102197743 102198242 0.9994395 chr3 102197743 102198242\n",
       "3 chr7  105211616 105212115 0.9992458 chr7 105211616 105212115\n",
       "4 chr20  10485419  10485918 0.9991829 chr20 10485419 10485918 \n",
       "5 chr5  133143788 133144287 0.9990896 chr5 133143788 133144287\n",
       "6 chr3  100007447 100007946 0.9990864 chr3 100007447 100007946"
      ]
     },
     "metadata": {},
     "output_type": "display_data"
    }
   ],
   "source": [
    "head(pre2)"
   ]
  },
  {
   "cell_type": "code",
   "execution_count": 81,
   "id": "9e40db25",
   "metadata": {},
   "outputs": [
    {
     "data": {
      "image/png": "[encoded data removed]",
      "text/plain": [
       "Plot with title “Histogram of pre2$V4”"
      ]
     },
     "metadata": {
      "image/png": {
       "height": 420,
       "width": 420
      }
     },
     "output_type": "display_data"
    }
   ],
   "source": [
    "hist(pre2$V4,200)"
   ]
  },
  {
   "cell_type": "code",
   "execution_count": 82,
   "id": "fe84cdaf",
   "metadata": {},
   "outputs": [
    {
     "data": {
      "text/html": [
       "6473126"
      ],
      "text/latex": [
       "6473126"
      ],
      "text/markdown": [
       "6473126"
      ],
      "text/plain": [
       "[1] 6473126"
      ]
     },
     "metadata": {},
     "output_type": "display_data"
    }
   ],
   "source": [
    "sum(pre2$V4<0.5)"
   ]
  },
  {
   "cell_type": "code",
   "execution_count": 84,
   "id": "9c34c45c",
   "metadata": {},
   "outputs": [
    {
     "data": {
      "text/html": [
       "272251"
      ],
      "text/latex": [
       "272251"
      ],
      "text/markdown": [
       "272251"
      ],
      "text/plain": [
       "[1] 272251"
      ]
     },
     "metadata": {},
     "output_type": "display_data"
    }
   ],
   "source": [
    "sum(pre2$V4>0.5)"
   ]
  },
  {
   "cell_type": "code",
   "execution_count": 70,
   "id": "bbf1272b",
   "metadata": {},
   "outputs": [
    {
     "data": {
      "text/html": [
       "0.163874532521758"
      ],
      "text/latex": [
       "0.163874532521758"
      ],
      "text/markdown": [
       "0.163874532521758"
      ],
      "text/plain": [
       "[1] 0.1638745"
      ]
     },
     "metadata": {},
     "output_type": "display_data"
    }
   ],
   "source": [
    "206956/1262893"
   ]
  },
  {
   "cell_type": "code",
   "execution_count": null,
   "id": "cfaceede",
   "metadata": {},
   "outputs": [],
   "source": []
  },
  {
   "cell_type": "code",
   "execution_count": 85,
   "id": "46c74edd",
   "metadata": {},
   "outputs": [],
   "source": [
    "write.table(pre2[1:4],file='/nfs/public/wxz/Consensus_peak/predict_openness/data_v2/prediction_revised.txt',sep='\\t',row.names = FALSE,col.names=F,quote=FALSE)"
   ]
  },
  {
   "cell_type": "code",
   "execution_count": 86,
   "id": "ae6ead2e",
   "metadata": {},
   "outputs": [
    {
     "data": {
      "text/html": [
       "<style>\n",
       ".list-inline {list-style: none; margin:0; padding: 0}\n",
       ".list-inline>li {display: inline-block}\n",
       ".list-inline>li:not(:last-child)::after {content: \"\\00b7\"; padding: 0 .5ex}\n",
       "</style>\n",
       "<ol class=list-inline><li>6745377</li><li>5</li></ol>\n"
      ],
      "text/latex": [
       "\\begin{enumerate*}\n",
       "\\item 6745377\n",
       "\\item 5\n",
       "\\end{enumerate*}\n"
      ],
      "text/markdown": [
       "1. 6745377\n",
       "2. 5\n",
       "\n",
       "\n"
      ],
      "text/plain": [
       "[1] 6745377       5"
      ]
     },
     "metadata": {},
     "output_type": "display_data"
    }
   ],
   "source": [
    "dim(pre2)"
   ]
  },
  {
   "cell_type": "code",
   "execution_count": null,
   "id": "c73b367a",
   "metadata": {},
   "outputs": [],
   "source": []
  },
  {
   "cell_type": "code",
   "execution_count": 28,
   "id": "426cdc9e",
   "metadata": {},
   "outputs": [
    {
     "data": {
      "text/html": [
       "<style>\n",
       ".list-inline {list-style: none; margin:0; padding: 0}\n",
       ".list-inline>li {display: inline-block}\n",
       ".list-inline>li:not(:last-child)::after {content: \"\\00b7\"; padding: 0 .5ex}\n",
       "</style>\n",
       "<ol class=list-inline><li>223029</li><li>5</li></ol>\n"
      ],
      "text/latex": [
       "\\begin{enumerate*}\n",
       "\\item 223029\n",
       "\\item 5\n",
       "\\end{enumerate*}\n"
      ],
      "text/markdown": [
       "1. 223029\n",
       "2. 5\n",
       "\n",
       "\n"
      ],
      "text/plain": [
       "[1] 223029      5"
      ]
     },
     "metadata": {},
     "output_type": "display_data"
    }
   ],
   "source": [
    "dim(filter(pre2,V4>0.60))"
   ]
  },
  {
   "cell_type": "code",
   "execution_count": null,
   "id": "71af02df",
   "metadata": {},
   "outputs": [],
   "source": []
  },
  {
   "cell_type": "code",
   "execution_count": null,
   "id": "54d3b5d0",
   "metadata": {},
   "outputs": [],
   "source": [
    "over = 0\n",
    "new_pre = c()\n",
    "for (p in pre){\n",
    "    if strsplit()\n",
    "    \n",
    "}\n",
    "    if p.split('\\t0.')[0] in data:\n",
    "        over += 1\n",
    "    else:\n",
    "        new_pre.append(p)"
   ]
  },
  {
   "cell_type": "code",
   "execution_count": 72,
   "id": "872c0e8e",
   "metadata": {},
   "outputs": [],
   "source": [
    "data = read.table('/nfs/public/wxz/Consensus_peak/predict_openness/others/bg2.bed')"
   ]
  },
  {
   "cell_type": "code",
   "execution_count": 73,
   "id": "f7c3fd30",
   "metadata": {},
   "outputs": [],
   "source": [
    "data = mutate(data,len = V3-V2)\n",
    "data = filter(data,len>100)"
   ]
  },
  {
   "cell_type": "code",
   "execution_count": 74,
   "id": "6f8274a9",
   "metadata": {},
   "outputs": [],
   "source": [
    "write.table(data[1:3],file='/nfs/public/wxz/Consensus_peak/predict_openness/others/bg.bed',sep='\\t',row.names = FALSE,col.names=F,quote=FALSE)"
   ]
  },
  {
   "cell_type": "code",
   "execution_count": null,
   "id": "2290c4e0",
   "metadata": {},
   "outputs": [],
   "source": []
  }
 ],
 "metadata": {
  "kernelspec": {
   "display_name": "R",
   "language": "R",
   "name": "ir"
  },
  "language_info": {
   "codemirror_mode": "r",
   "file_extension": ".r",
   "mimetype": "text/x-r-source",
   "name": "R",
   "pygments_lexer": "r",
   "version": "4.2.2"
  }
 },
 "nbformat": 4,
 "nbformat_minor": 5
}
