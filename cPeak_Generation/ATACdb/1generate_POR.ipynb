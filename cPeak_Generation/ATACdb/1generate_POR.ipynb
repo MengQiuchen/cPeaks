{
 "cells": [
  {
   "cell_type": "markdown",
   "metadata": {},
   "source": [
    "# load packages"
   ]
  },
  {
   "cell_type": "code",
   "execution_count": null,
   "metadata": {},
   "outputs": [],
   "source": [
    "dir <- 'processed_data/peak_distribution/'\n",
    "\n",
    "cores=10"
   ]
  },
  {
   "cell_type": "code",
   "execution_count": 16,
   "metadata": {},
   "outputs": [],
   "source": [
    "suppressPackageStartupMessages({\n",
    "    library(tidyverse)\n",
    "    library(parallel)\n",
    "    library(progress)\n",
    "    library(qs)\n",
    "})"
   ]
  },
  {
   "cell_type": "code",
   "execution_count": 19,
   "metadata": {},
   "outputs": [],
   "source": [
    "source('../../source/basic.r')"
   ]
  },
  {
   "cell_type": "code",
   "execution_count": 17,
   "metadata": {},
   "outputs": [],
   "source": [
    "psize <- function (w = 10, h = 10) \n",
    "{\n",
    "    options(repr.plot.width = w, repr.plot.height = h)\n",
    "}"
   ]
  },
  {
   "cell_type": "markdown",
   "metadata": {},
   "source": [
    "# aggregate all peak regions"
   ]
  },
  {
   "cell_type": "code",
   "execution_count": 18,
   "metadata": {},
   "outputs": [],
   "source": [
    "fun_addMat <- function(i){\n",
    "    \n",
    "    mat_out <-  mat[[i]]%>%full_join(mat_add[[i]],by=c('site','value'))%>%\n",
    "                mutate(name=ifelse(is.na(name.x),name.y,\n",
    "                               ifelse(is.na(name.y),name.x,\n",
    "                                      paste0(name.x,',',name.y))))%>%\n",
    "                # mutate(num=str_count(name,',')+1)%>%  ## add to the last dataframe\n",
    "                select(site,value,name)\n",
    "    return(mat_out)\n",
    "    \n",
    "}"
   ]
  },
  {
   "cell_type": "code",
   "execution_count": 5,
   "metadata": {},
   "outputs": [],
   "source": [
    "name.list <-  list.files(dir,'*rds')%>%gsub('.rds','',.)"
   ]
  },
  {
   "cell_type": "code",
   "execution_count": 6,
   "metadata": {},
   "outputs": [],
   "source": [
    "mat <- readRDS(paste0(dir,name.list[1],'.rds'))%>%\n",
    "        lapply(function(x){x%>%cbind('name'=1)})"
   ]
  },
  {
   "cell_type": "code",
   "execution_count": 7,
   "metadata": {
    "tags": []
   },
   "outputs": [],
   "source": [
    "options(warn=2)\n",
    "# change the level of warning \n",
    "# to stop the loop, when there's error in any cores\n",
    "mat <- readRDS(paste0(dir,name.list[1],'.rds'))%>%\n",
    "        lapply(function(x){x%>%cbind('name'=1)})\n",
    "start_time <- Sys.time()\n",
    "for(i in 2:length(name.list)){\n",
    "    name = name.list[i]\n",
    "    mat_add <- readRDS(paste0(dir,name,'.rds'))%>%\n",
    "                lapply(function(x){x%>%cbind('name'=i)})\n",
    "    if((nrow(mat_add[[24]])>10)){\n",
    "        mat <- mclapply(1:24,fun_addMat,mc.cores= cores)\n",
    "    }else{\n",
    "        # 这里指没有Y染色体的情况，只需要改变chr1-chrY即可\n",
    "        mat[1:23] <- mclapply(1:23,fun_addMat,mc.cores= cores)\n",
    "    }\n",
    "    if((i%%20)==1){\n",
    "        message(i)\n",
    "        end_time <- Sys.time()\n",
    "        message((end_time-start_time))\n",
    "        start_time <- Sys.time()\n",
    "    }\n",
    "    \n",
    "}\n",
    "# options(warn=1)"
   ]
  },
  {
   "cell_type": "code",
   "execution_count": null,
   "metadata": {},
   "outputs": [],
   "source": [
    "mat2 <- mclapply(1:24,\n",
    "                function(x){mat[[x]]%>%mutate(num=str_count(name,',')+1)},\n",
    "               mc.cores= cores)"
   ]
  },
  {
   "cell_type": "markdown",
   "metadata": {},
   "source": [
    "# split the aggregated data to PORs"
   ]
  },
  {
   "cell_type": "code",
   "execution_count": null,
   "metadata": {},
   "outputs": [],
   "source": [
    "# split part\n",
    "\n",
    "split_fun <- function(i){\n",
    "    a = mat2[[i]]%>%arrange(site)\n",
    "    a = a%>%mutate(intersect = c(1, (a$site)[c(2:nrow(a))] - a$site[c(1:(nrow(a)-1))]))\n",
    "\n",
    "    aa = group_split(a,findInterval(1:nrow(a),which(a$intersect >1)))\n",
    "    \n",
    "    return(aa)\n",
    "}"
   ]
  },
  {
   "cell_type": "code",
   "execution_count": null,
   "metadata": {},
   "outputs": [],
   "source": [
    "mat_split <- mclapply(1:24, split_fun,mc.cores = cores)"
   ]
  },
  {
   "cell_type": "markdown",
   "metadata": {},
   "source": [
    "# save POR"
   ]
  },
  {
   "cell_type": "code",
   "execution_count": 21,
   "metadata": {},
   "outputs": [],
   "source": [
    "fun_getCountMat <- function(j,mat){\n",
    "    \n",
    "    mat[[j]]%>%select(site:intersect) %>%\n",
    "    separate_rows(name,sep=',') %>%\n",
    "    mutate(value = 1) %>%\n",
    "    pivot_wider(names_from = name, values_fill = 0)%>%\n",
    "    return\n",
    "\n",
    "    \n",
    "}\n"
   ]
  },
  {
   "cell_type": "code",
   "execution_count": 23,
   "metadata": {},
   "outputs": [],
   "source": [
    "fun_all <- function(i){\n",
    "    \n",
    "    mat_chr=mat_split[[i]] #%>%.[1:2]\n",
    "    \n",
    "    mclapply(1:length(mat_chr),\n",
    "             fun_getCountMat,\n",
    "             mat=mat_chr,\n",
    "             mc.cores = 2)%>%\n",
    "    qsave(paste0('results/',i,'.qs'))\n",
    "    #mclapply(1:2,fun_getCountMat,mc.cores = 20)%>%return\n",
    "}"
   ]
  },
  {
   "cell_type": "code",
   "execution_count": 24,
   "metadata": {},
   "outputs": [],
   "source": [
    "a <- mclapply(1:24,fun_all,mc.cores = 1)"
   ]
  },
  {
   "cell_type": "code",
   "execution_count": null,
   "metadata": {},
   "outputs": [],
   "source": []
  },
  {
   "cell_type": "code",
   "execution_count": null,
   "metadata": {},
   "outputs": [],
   "source": []
  },
  {
   "cell_type": "code",
   "execution_count": null,
   "metadata": {},
   "outputs": [],
   "source": []
  },
  {
   "cell_type": "code",
   "execution_count": null,
   "metadata": {},
   "outputs": [],
   "source": []
  },
  {
   "cell_type": "code",
   "execution_count": null,
   "metadata": {},
   "outputs": [],
   "source": []
  }
 ],
 "metadata": {
  "kernelspec": {
   "display_name": "R",
   "language": "R",
   "name": "ir"
  },
  "language_info": {
   "codemirror_mode": "r",
   "file_extension": ".r",
   "mimetype": "text/x-r-source",
   "name": "R",
   "pygments_lexer": "r",
   "version": "4.1.3"
  },
  "toc-showmarkdowntxt": true
 },
 "nbformat": 4,
 "nbformat_minor": 4
}
