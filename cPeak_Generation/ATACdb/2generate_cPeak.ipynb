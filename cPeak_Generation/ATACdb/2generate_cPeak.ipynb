{
 "cells": [
  {
   "cell_type": "code",
   "execution_count": 1,
   "id": "8ce2fecc",
   "metadata": {},
   "outputs": [],
   "source": [
    "CHR = 1:24"
   ]
  },
  {
   "cell_type": "code",
   "execution_count": 1,
   "id": "88df63e8-6881-46cd-873a-e5a5ab24b278",
   "metadata": {},
   "outputs": [],
   "source": [
    "source('../../source/basic.r')\n",
    "\n",
    "source('../../source/peaksplit_bedgeneration-v1_1.r')"
   ]
  },
  {
   "cell_type": "markdown",
   "id": "4f8eff4b-ad0a-440d-8a57-728a68198e77",
   "metadata": {},
   "source": [
    "# split POR to cPeaks"
   ]
  },
  {
   "cell_type": "code",
   "execution_count": null,
   "id": "abf2b41b",
   "metadata": {},
   "outputs": [],
   "source": [
    "for (chr_ in CHR){\n",
    "    \n",
    "    message(chr_)\n",
    "    S = Sys.time()\n",
    "    res.chr <- qread(paste0('results/',chr_,'.qs'))\n",
    "    \n",
    "    # dir_ to save the image of multimodal POR split results\n",
    "    dir_='./tmp/'\n",
    "    dir.create(paste0(dir_,'/chr',chr_),recursive = T,showWarnings = FALSE)\n",
    "    \n",
    "    idxs <- 1:length(res.chr)#res.feature.df%>%pull(idx)  \n",
    "    res.all <- mclapply(idxs,fun_all,mc.cores=15)\n",
    "    \n",
    "    names(res.all) <- idxs\n",
    "    # save the final results of PORs\n",
    "    qsave(res.all,paste0('./rds_image/multipeak_split/',chr_,'.qs'))\n",
    "    print(Sys.time()-S)\n",
    "    \n",
    "    # get Basic information of cPeaks (ID; length, from which POR)\n",
    "    names(res.all) <- as.character(1:length(res.all))\n",
    "    res.bed <- mclapply(names(res.all),cal_bed,mc.cores=24)\n",
    "    # save the information\n",
    "    res.bed %>%qsave(paste0('./rds_image/unipeak/unipeak_info/',chr_,'.qs'))\n",
    "\n",
    "}"
   ]
  },
  {
   "cell_type": "code",
   "execution_count": null,
   "id": "4c949df0",
   "metadata": {},
   "outputs": [],
   "source": []
  }
 ],
 "metadata": {
  "kernelspec": {
   "display_name": "R",
   "language": "R",
   "name": "ir"
  },
  "language_info": {
   "codemirror_mode": "r",
   "file_extension": ".r",
   "mimetype": "text/x-r-source",
   "name": "R",
   "pygments_lexer": "r",
   "version": "4.1.3"
  }
 },
 "nbformat": 4,
 "nbformat_minor": 5
}
