{
 "cells": [
  {
   "cell_type": "markdown",
   "metadata": {},
   "source": [
    "# load packages"
   ]
  },
  {
   "cell_type": "code",
   "execution_count": 1,
   "metadata": {},
   "outputs": [],
   "source": [
    "suppressPackageStartupMessages({\n",
    "    library(tidyverse)\n",
    "    library(parallel)\n",
    "    library(progress)\n",
    "    library(qs)\n",
    "})"
   ]
  },
  {
   "cell_type": "code",
   "execution_count": 2,
   "metadata": {},
   "outputs": [],
   "source": [
    "psize <- function (w = 10, h = 10) \n",
    "{\n",
    "    options(repr.plot.width = w, repr.plot.height = h)\n",
    "}"
   ]
  },
  {
   "cell_type": "markdown",
   "metadata": {},
   "source": [
    "# aggregate all peak regions"
   ]
  },
  {
   "cell_type": "code",
   "execution_count": 3,
   "metadata": {},
   "outputs": [],
   "source": [
    "dir <- './processed_data/peak_distribution/'"
   ]
  },
  {
   "cell_type": "code",
   "execution_count": 4,
   "metadata": {},
   "outputs": [],
   "source": [
    "name1 <- 'ENCFF007FAW'"
   ]
  },
  {
   "cell_type": "code",
   "execution_count": 5,
   "metadata": {},
   "outputs": [],
   "source": [
    "name2 <- 'ENCFF009YES'"
   ]
  },
  {
   "cell_type": "code",
   "execution_count": 6,
   "metadata": {},
   "outputs": [],
   "source": [
    "mat <- readRDS(paste0(dir,name1,'.rds'))%>%\n",
    "        lapply(function(x){x%>%cbind('name'=name1)})"
   ]
  },
  {
   "cell_type": "code",
   "execution_count": 7,
   "metadata": {},
   "outputs": [],
   "source": [
    "# to save the memory, we add them one by one"
   ]
  },
  {
   "cell_type": "code",
   "execution_count": 8,
   "metadata": {},
   "outputs": [],
   "source": [
    "mat_add <- readRDS(paste0(dir,name2,'.rds'))%>%\n",
    "lapply(function(x){x%>%cbind('name'=name2)})"
   ]
  },
  {
   "cell_type": "code",
   "execution_count": 29,
   "metadata": {},
   "outputs": [],
   "source": [
    "fun_addMat <- function(i){\n",
    "    \n",
    "    mat_out <-  mat[[i]]%>%full_join(mat_add[[i]],by=c('site','value'))%>%\n",
    "                mutate(name=ifelse(is.na(name.x),name.y,\n",
    "                               ifelse(is.na(name.y),name.x,\n",
    "                                      paste0(name.x,',',name.y))))%>%\n",
    "                # mutate(num=str_count(name,',')+1)%>%  ## add to the last dataframe\n",
    "                select(site,value,name)\n",
    "    return(mat_out)\n",
    "    \n",
    "}"
   ]
  },
  {
   "cell_type": "code",
   "execution_count": 33,
   "metadata": {},
   "outputs": [],
   "source": [
    "name.list <-  list.files(dir,'*rds')%>%gsub('.rds','',.)"
   ]
  },
  {
   "cell_type": "code",
   "execution_count": null,
   "metadata": {},
   "outputs": [],
   "source": [
    "# to save momory, map the name list to nameID"
   ]
  },
  {
   "cell_type": "code",
   "execution_count": null,
   "metadata": {
    "tags": []
   },
   "outputs": [],
   "source": [
    "mat <- readRDS(paste0(dir,name1,'.rds'))%>%\n",
    "        lapply(function(x){x%>%cbind('name'=1)})\n",
    "\n",
    "\n",
    "for(i in 2:length(name.list)){\n",
    "    name = name.list[i]\n",
    "    mat_add <- readRDS(paste0(dir,name,'.rds'))%>%\n",
    "                lapply(function(x){x%>%cbind('name'=i)})\n",
    "    mat <- mclapply(1:24,fun_addMat,mc.cores=30)\n",
    "    \n",
    "}"
   ]
  },
  {
   "cell_type": "code",
   "execution_count": null,
   "metadata": {},
   "outputs": [],
   "source": [
    "# some datasets didn't contain chrY, so we need to recalculate chrY\n",
    "\n",
    "mat2 <- mclapply(1:23,function(x){mat[[x]]%>%mutate(num=str_count(name,',')+1)})\n",
    "\n",
    "mat24 <- readRDS(paste0(dir,name1,'.rds'))%>%\n",
    "        lapply(function(x){x%>%cbind('name'=1)})%>%.[[24]]\n",
    "\n",
    "\n",
    "for(i in 2:length(name.list)){\n",
    "    name = name.list[i]\n",
    "    mat_add_24 <- readRDS(paste0(dir,name,'.rds'))%>%\n",
    "                lapply(function(x){x%>%cbind('name'=i)})\n",
    "    mat_add_24%>%length%>%cat\n",
    "    Sys.sleep(1/100)\n",
    "    if((nrow(mat_add_24[[24]])>10)){\n",
    "        mat24 <- mat24%>%full_join(mat_add_24[[24]],by=c('site','value'))%>%\n",
    "                mutate(name=ifelse(is.na(name.x),name.y,\n",
    "                               ifelse(is.na(name.y),name.x,\n",
    "                                      paste0(name.x,',',name.y))))%>%\n",
    "                # mutate(num=str_count(name,',')+1)%>%  ## add to the last dataframe\n",
    "                select(site,value,name)\n",
    "    }\n",
    "    \n",
    "}"
   ]
  },
  {
   "cell_type": "code",
   "execution_count": 110,
   "metadata": {},
   "outputs": [],
   "source": [
    "# # we can use qs to quickly save intermediate parameters\n",
    "# library(qs)\n",
    "# qsave(mat2, 'mat2.ENCDOE.bulk.qs')"
   ]
  },
  {
   "cell_type": "code",
   "execution_count": 47,
   "metadata": {},
   "outputs": [
    {
     "data": {
      "image/png": "[encoded data removed]",
      "text/plain": [
       "Plot with title “Histogram of .”"
      ]
     },
     "metadata": {
      "image/png": {
       "height": 420,
       "width": 420
      }
     },
     "output_type": "display_data"
    }
   ],
   "source": [
    "# plot the open ratio on chr1\n",
    "mat2[[1]]%>%select(site,value,num)%>%pull(num)%>%hist(1000)"
   ]
  },
  {
   "cell_type": "markdown",
   "metadata": {},
   "source": [
    "# split the aggregated data to PORs"
   ]
  },
  {
   "cell_type": "code",
   "execution_count": 6,
   "metadata": {},
   "outputs": [],
   "source": [
    "split_fun <- function(i){\n",
    "    a = mat2[[i]]%>%arrange(site)\n",
    "    a = a%>%mutate(intersect = c(1, (a$site)[c(2:nrow(a))] - a$site[c(1:(nrow(a)-1))]))\n",
    "\n",
    "    aa = group_split(a,findInterval(1:nrow(a),which(a$intersect >1)))\n",
    "    \n",
    "    return(aa)\n",
    "}"
   ]
  },
  {
   "cell_type": "code",
   "execution_count": 7,
   "metadata": {},
   "outputs": [],
   "source": [
    "mat_split <- mclapply(1:24, split_fun,mc.cores = 10)"
   ]
  },
  {
   "cell_type": "markdown",
   "metadata": {},
   "source": [
    "# save POR shapes"
   ]
  },
  {
   "cell_type": "code",
   "execution_count": null,
   "metadata": {},
   "outputs": [],
   "source": [
    "fun_getCountMat <- function(j,mat){\n",
    "    \n",
    "    mat[[j]]%>%select(site:intersect) %>%\n",
    "    separate_rows(name,sep=',') %>%\n",
    "    mutate(value = 1) %>%\n",
    "    pivot_wider(names_from = name, values_fill = 0)%>%\n",
    "    return\n",
    "\n",
    "    \n",
    "}\n"
   ]
  },
  {
   "cell_type": "code",
   "execution_count": null,
   "metadata": {},
   "outputs": [],
   "source": [
    "fun_all <- function(i){\n",
    "    \n",
    "    mat_chr=mat_split[[i]] #%>%.[1:2]\n",
    "    \n",
    "    mclapply(1:length(mat_chr),\n",
    "             fun_getCountMat,\n",
    "             mat=mat_chr,\n",
    "             mc.cores = 2)%>%\n",
    "    qsave(paste0('results/',i,'.qs'))\n",
    "    #mclapply(1:2,fun_getCountMat,mc.cores = 20)%>%return\n",
    "}"
   ]
  },
  {
   "cell_type": "code",
   "execution_count": null,
   "metadata": {},
   "outputs": [],
   "source": [
    "# get final results\n",
    "# save PORs to a list, each with a matrix of POR on one chromosome\n",
    "a <- mclapply(1:24,fun_all,mc.cores = 1)"
   ]
  }
 ],
 "metadata": {
  "kernelspec": {
   "display_name": "R",
   "language": "R",
   "name": "ir"
  },
  "language_info": {
   "codemirror_mode": "r",
   "file_extension": ".r",
   "mimetype": "text/x-r-source",
   "name": "R",
   "pygments_lexer": "r",
   "version": "4.1.3"
  },
  "toc-showmarkdowntxt": true
 },
 "nbformat": 4,
 "nbformat_minor": 4
}
