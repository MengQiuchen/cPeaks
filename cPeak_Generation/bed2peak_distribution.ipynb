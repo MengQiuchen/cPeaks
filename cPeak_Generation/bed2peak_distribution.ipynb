{
 "cells": [
  {
   "attachments": {},
   "cell_type": "markdown",
   "id": "89eee915",
   "metadata": {},
   "source": [
    "# code for make bed file to peak distribution"
   ]
  },
  {
   "attachments": {},
   "cell_type": "markdown",
   "id": "87789b7d",
   "metadata": {},
   "source": [
    "This function is uesd to generate the peak distribution from peak.bed\n",
    "\n",
    "data: 2023/06/01\n",
    "\n",
    "\n",
    "## Input \n",
    "The input of the code is bed files path, and you could use mclapply to calculate parallelly.\n",
    "\n",
    "## output \n",
    "\n",
    "The output of the code is a list with 24 elements, each element is a dataframe. This dataframe contains \"site\" and \"value\" columns, \"site\" is the position of the peak region, and the \"value\" is always 1 because we only consider hitted positions in one bed.\n",
    "\n",
    "## usage \n",
    "\n",
    "**Required:**\n",
    "\n",
    "\"path\" : the bed to be transfered, it could contained many  bed files;\n",
    "\"savepath\": the folder that you want to save the trasfered peak distribution\n",
    "\n",
    "Optional: \n",
    "\n",
    "mc.cores: the number of threads.\n",
    "chrlist: the focused chromsomes, default is chr 1:22, chrX and chrY.\n",
    "\n",
    "\n",
    "## optional change\n",
    "1. idx2list: a bin to a list, start-end,but **end -1**\n",
    "2. chr2site: a chromsome range to dataframe with site and value \n",
    "3. file2site: a peak.bed to dataframe with site and value site\n",
    "\n",
    "Each of the function could be changed if you want.\n",
    "\n",
    "\n"
   ]
  },
  {
   "attachments": {},
   "cell_type": "markdown",
   "id": "417f451b",
   "metadata": {},
   "source": [
    "## import and functions"
   ]
  },
  {
   "cell_type": "code",
   "execution_count": 7,
   "id": "98f1ebc1",
   "metadata": {
    "vscode": {
     "languageId": "r"
    }
   },
   "outputs": [],
   "source": [
    "library(Seurat)\n",
    "library(dplyr)\n",
    "library(parallel)\n",
    "library(purrr)\n",
    "options(scipen=200)"
   ]
  },
  {
   "cell_type": "code",
   "execution_count": 2,
   "id": "dcbca3b9",
   "metadata": {
    "vscode": {
     "languageId": "r"
    }
   },
   "outputs": [],
   "source": [
    "idx2list = function(x){\n",
    "    return(x[[1]]:(as.numeric(x[[2]])-1))\n",
    "}"
   ]
  },
  {
   "cell_type": "code",
   "execution_count": 3,
   "id": "ed0bda5e",
   "metadata": {
    "vscode": {
     "languageId": "r"
    }
   },
   "outputs": [],
   "source": [
    "chr2site= function(feature_list){\n",
    "    \n",
    "    index = strsplit(feature_list,split='-')\n",
    "    site = mclapply(index,idx2list,mc.cores = 40 )\n",
    "    site = unlist(site)\n",
    "    site = unique(site)\n",
    "    value = rep(1,length(site))\n",
    "    df = cbind(site,value)\n",
    "    return(data.frame(df))\n",
    "}"
   ]
  },
  {
   "cell_type": "code",
   "execution_count": 4,
   "id": "39b0a231",
   "metadata": {
    "vscode": {
     "languageId": "r"
    }
   },
   "outputs": [],
   "source": [
    "bed2site = function(bed){\n",
    "    \n",
    "    f_chr = mclapply(bed,strsplit,split=':')\n",
    "    f_chr = matrix(unlist(f_chr), ncol=2,byrow=T)\n",
    "    f_chr = aggregate(f_chr, by=list(f_chr[,1]), FUN=paste,sep=',')[,-2]\n",
    "    row.names(f_chr) = f_chr[,1]\n",
    "    f_chr = f_chr[chrlist,2]\n",
    "    res = mclapply(f_chr,chr2site,mc.cores=24)\n",
    "    names(res) = chrlist\n",
    "    return (res)\n",
    "}"
   ]
  },
  {
   "cell_type": "code",
   "execution_count": 5,
   "id": "db6d41f7",
   "metadata": {
    "vscode": {
     "languageId": "r"
    }
   },
   "outputs": [],
   "source": [
    "file2site = function(s){\n",
    "    data = read.table(paste0(path,subpath[s]))#gzfile if file is gz\n",
    "    feature = paste0(data[,1],':',data[,2],'-',data[,3])\n",
    "    feature = unique(feature)\n",
    "    chr_all = bed2site(feature)\n",
    "    saveRDS(chr_all,paste0(savepath,subpath3[[s]],'.rds'))\n",
    "    return(1)\n",
    "}"
   ]
  },
  {
   "attachments": {},
   "cell_type": "markdown",
   "id": "a7e17e65",
   "metadata": {},
   "source": [
    "## use code to generate"
   ]
  },
  {
   "cell_type": "code",
   "execution_count": 96,
   "id": "b787bf44",
   "metadata": {
    "vscode": {
     "languageId": "r"
    }
   },
   "outputs": [],
   "source": [
    "path = '/nfs/mqc/Consensus_peak/data/Zhang_2021_Cell_AdultTissues/others/bed_celltype/union/'\n",
    "savepath= '/nfs/mqc/Consensus_peak/data/Zhang_2021_Cell_AdultTissues/others/peak_distribution_celltype/union/'\n",
    "subpath = dir(path)\n",
    "\n",
    "chrlist = append(paste0('chr',1:22),c('chrX','chrY'))\n",
    "\n",
    "res = mclapply(1:length(subpath),file2site,mc.cores=24)"
   ]
  }
 ],
 "metadata": {
  "kernelspec": {
   "display_name": "R",
   "language": "R",
   "name": "ir"
  },
  "language_info": {
   "codemirror_mode": "r",
   "file_extension": ".r",
   "mimetype": "text/x-r-source",
   "name": "R",
   "pygments_lexer": "r",
   "version": "4.1.3"
  }
 },
 "nbformat": 4,
 "nbformat_minor": 5
}
